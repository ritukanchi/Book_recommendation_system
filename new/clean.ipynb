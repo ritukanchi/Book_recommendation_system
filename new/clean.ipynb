{
 "cells": [
  {
   "cell_type": "code",
   "execution_count": 6,
   "id": "f698b364",
   "metadata": {},
   "outputs": [
    {
     "name": "stdout",
     "output_type": "stream",
     "text": [
      "CSV data has been converted to JSON and saved to new.json.\n"
     ]
    }
   ],
   "source": [
    "import csv\n",
    "import json\n",
    "\n",
    "csv_file_path = 'book_data.csv'\n",
    "\n",
    "json_file_path = 'new.json'\n",
    "\n",
    "data = []\n",
    "# book_authors,book_desc,book_edition,book_format,book_isbn,book_pages,book_rating,book_rating_count,book_review_count,book_title,genres,image_url\n",
    "\n",
    "with open(csv_file_path, mode='r', encoding='utf-8') as csvfile:\n",
    "    reader = csv.DictReader(csvfile)\n",
    "    for row in reader:\n",
    "        row['book_authors'] = (row['book_authors'])\n",
    "        row['book_desc'] = (row['book_desc']) if row['book_desc'] else None\n",
    "        row['book_isbn'] = (row['book_isbn']) if row['book_isbn'] else None\n",
    "        row['book_title'] = (row['book_title']) if row['book_title'] else None \n",
    "        row['genres'] = (row['genres']) if row['genres'] else None \n",
    "        data.append(row)\n",
    "\n",
    "with open(json_file_path, mode='w', encoding='utf-8') as jsonfile:\n",
    "    json.dump(data, jsonfile, indent=4, ensure_ascii=False)\n",
    "\n",
    "print(f\"CSV data has been converted to JSON and saved to {json_file_path}.\")\n"
   ]
  },
  {
   "cell_type": "code",
   "execution_count": null,
   "id": "0c7fd2c5",
   "metadata": {},
   "outputs": [],
   "source": [
    "# tropes to remove \n",
    "1. Read for School \n",
    "2. American \n",
    "3. Canada \n",
    "4. audiobook \n",
    "5. Science fiction fantasy\n",
    "6. France\n",
    "7. African\n",
    "8. Australia\n",
    "9. Novels   \n",
    "10. African American\n",
    "\n",
    "\n",
    "# tropes to change \n",
    "Picture books -> Children's \n",
    "Classic Literature -> Classics \n",
    "European Literature -> British Literature\n",
    "Russia -> Russian Literature \n",
    "Women's Fiction -> Feminism\n",
    "Adult Fiction -> Adult \n",
    "African American -> Race \n",
    "China -> race\n",
    "Japan -> Race\n",
    "Biblical -> Biblical Fiction\n",
    "India -> Race\n",
    "Christianity -> Christian \n",
    "Dogs -> Animals\n",
    "\n"
   ]
  }
 ],
 "metadata": {
  "kernelspec": {
   "display_name": "book (3.10.11)",
   "language": "python",
   "name": "python3"
  },
  "language_info": {
   "codemirror_mode": {
    "name": "ipython",
    "version": 3
   },
   "file_extension": ".py",
   "mimetype": "text/x-python",
   "name": "python",
   "nbconvert_exporter": "python",
   "pygments_lexer": "ipython3",
   "version": "3.10.11"
  }
 },
 "nbformat": 4,
 "nbformat_minor": 5
}

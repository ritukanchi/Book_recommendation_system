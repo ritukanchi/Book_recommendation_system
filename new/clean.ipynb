{
 "cells": [
  {
   "cell_type": "code",
   "execution_count": null,
   "id": "f698b364",
   "metadata": {},
   "outputs": [],
   "source": [
    "import csv\n",
    "import json\n",
    "\n",
    "csv_file_path = 'book_data.csv'\n",
    "\n",
    "json_file_path = 'new.json'\n",
    "\n",
    "data = []\n",
    "\n",
    "with open(csv_file_path, mode='r', encoding='utf-8') as csvfile:\n",
    "    reader = csv.DictReader(csvfile)\n",
    "    for row in reader:\n",
    "        row['id'] = int(row['id'])\n",
    "        row['rating'] = float(row['rating']) if row['rating'] else None\n",
    "        row['pages'] = int(row['pages']) if row['pages'] else None\n",
    "        data.append(row)\n",
    "\n",
    "with open(json_file_path, mode='w', encoding='utf-8') as jsonfile:\n",
    "    json.dump(data, jsonfile, indent=4, ensure_ascii=False)\n",
    "\n",
    "print(f\"CSV data has been converted to JSON and saved to {json_file_path}.\")\n"
   ]
  }
 ],
 "metadata": {
  "language_info": {
   "name": "python"
  }
 },
 "nbformat": 4,
 "nbformat_minor": 5
}

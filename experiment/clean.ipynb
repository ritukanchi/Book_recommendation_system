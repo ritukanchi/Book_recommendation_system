{
 "cells": [
  {
   "cell_type": "code",
   "execution_count": 38,
   "metadata": {},
   "outputs": [],
   "source": [
    "import pandas as pd\n",
    "import matplotlib.pyplot as plt\n",
    "import numpy as np\n",
    "import json\n",
    "import pandas as pd\n",
    "import csv\n",
    "import os\n",
    "import seaborn as sns\n"
   ]
  },
  {
   "cell_type": "code",
   "execution_count": 39,
   "metadata": {},
   "outputs": [
    {
     "name": "stdout",
     "output_type": "stream",
     "text": [
      "                                                  me\n",
      "0  [{'__typename': 'users', 'user_books': [{'__ty...\n"
     ]
    }
   ],
   "source": [
    "with open('test.json', 'r') as file:\n",
    "    data = json.load(file)\n",
    "\n",
    "df = pd.json_normalize(data)\n",
    "\n",
    "print(df.head())"
   ]
  },
  {
   "cell_type": "code",
   "execution_count": 40,
   "metadata": {},
   "outputs": [
    {
     "name": "stdout",
     "output_type": "stream",
     "text": [
      "Cleaned books data has been successfully saved to cleaned_tags_data.csv.\n"
     ]
    }
   ],
   "source": [
    "with open('structured_output.json', 'r') as file: \n",
    "    data = json.load(file)\n",
    "\n",
    "books = data[\"books\"]\n",
    "\n",
    "csv_file_path = 'cleaned_tags_data.csv' \n",
    "\n",
    "with open(csv_file_path, 'w', newline='', encoding='utf-8') as csvfile:\n",
    "    fieldnames = [\n",
    "        'id', 'title', 'author', 'genre', 'rating', 'releaseDate', 'pages', 'description', 'tags'\n",
    "    ]\n",
    "    \n",
    "    writer = csv.DictWriter(csvfile, fieldnames=fieldnames)\n",
    "    \n",
    "    writer.writeheader()\n",
    "    \n",
    "    for book in books:\n",
    "        book_info = {\n",
    "            'id': book['id'],\n",
    "            'title': book['title'],\n",
    "            'author': book['author'],\n",
    "            'genre': book['genre'],\n",
    "            'rating': book['rating'],\n",
    "            'releaseDate': book['releaseDate'],\n",
    "            'pages': book['pages'],\n",
    "            'description': book['description']\n",
    "        }\n",
    "        \n",
    "        tags = ', '.join([tag['tag'] for tag in book['tags']])\n",
    "        \n",
    "        book_info['tags'] = tags\n",
    "        \n",
    "        writer.writerow(book_info)\n",
    "\n",
    "print(f\"Cleaned books data has been successfully saved to {csv_file_path}.\") "
   ]
  },
  {
   "cell_type": "code",
   "execution_count": 41,
   "metadata": {},
   "outputs": [],
   "source": [
    "df = pd.read_csv('cleaned_tags_data.csv')"
   ]
  },
  {
   "cell_type": "code",
   "execution_count": 42,
   "metadata": {},
   "outputs": [
    {
     "data": {
      "text/html": [
       "<div>\n",
       "<style scoped>\n",
       "    .dataframe tbody tr th:only-of-type {\n",
       "        vertical-align: middle;\n",
       "    }\n",
       "\n",
       "    .dataframe tbody tr th {\n",
       "        vertical-align: top;\n",
       "    }\n",
       "\n",
       "    .dataframe thead th {\n",
       "        text-align: right;\n",
       "    }\n",
       "</style>\n",
       "<table border=\"1\" class=\"dataframe\">\n",
       "  <thead>\n",
       "    <tr style=\"text-align: right;\">\n",
       "      <th></th>\n",
       "      <th>id</th>\n",
       "      <th>title</th>\n",
       "      <th>author</th>\n",
       "      <th>genre</th>\n",
       "      <th>rating</th>\n",
       "      <th>releaseDate</th>\n",
       "      <th>pages</th>\n",
       "      <th>description</th>\n",
       "      <th>tags</th>\n",
       "    </tr>\n",
       "  </thead>\n",
       "  <tbody>\n",
       "    <tr>\n",
       "      <th>0</th>\n",
       "      <td>42</td>\n",
       "      <td>Notes from Underground</td>\n",
       "      <td>Fyodor Dostoevsky</td>\n",
       "      <td>Fiction</td>\n",
       "      <td>4.083333</td>\n",
       "      <td>1847-01-01</td>\n",
       "      <td>149.0</td>\n",
       "      <td>Notes from Underground (pre-reform Russian: За...</td>\n",
       "      <td>Fiction, Classics, History, Literary Fiction, ...</td>\n",
       "    </tr>\n",
       "    <tr>\n",
       "      <th>1</th>\n",
       "      <td>53</td>\n",
       "      <td>The Rap Year Book: The Most Important Rap Song...</td>\n",
       "      <td>Shea Serrano</td>\n",
       "      <td>Unknown</td>\n",
       "      <td>4.312500</td>\n",
       "      <td>2015-10-13</td>\n",
       "      <td>583.0</td>\n",
       "      <td>A New York Times–bestselling, in-depth explora...</td>\n",
       "      <td>NaN</td>\n",
       "    </tr>\n",
       "    <tr>\n",
       "      <th>2</th>\n",
       "      <td>59</td>\n",
       "      <td>Holding Up the Universe</td>\n",
       "      <td>Jennifer Niven</td>\n",
       "      <td>Young Adult</td>\n",
       "      <td>3.642857</td>\n",
       "      <td>2016-01-01</td>\n",
       "      <td>402.0</td>\n",
       "      <td>A New York Times Bestseller From the author of...</td>\n",
       "      <td>Fiction, Young Adult, Romance, Mental health, ...</td>\n",
       "    </tr>\n",
       "    <tr>\n",
       "      <th>3</th>\n",
       "      <td>80</td>\n",
       "      <td>Cell</td>\n",
       "      <td>Stephen King</td>\n",
       "      <td>Horror</td>\n",
       "      <td>3.397590</td>\n",
       "      <td>2006-01-01</td>\n",
       "      <td>496.0</td>\n",
       "      <td>Cell is a 2006 apocalyptic horror novel by Ame...</td>\n",
       "      <td>Fantasy, Science fiction, Dystopian, Paranormal</td>\n",
       "    </tr>\n",
       "    <tr>\n",
       "      <th>4</th>\n",
       "      <td>138</td>\n",
       "      <td>Dreams from My Father: A Story of Race and Inh...</td>\n",
       "      <td>Barack Obama</td>\n",
       "      <td>History</td>\n",
       "      <td>4.005618</td>\n",
       "      <td>1995-01-01</td>\n",
       "      <td>461.0</td>\n",
       "      <td>Before Barack Obama became a politician he was...</td>\n",
       "      <td>History, Nonfiction, Biography, Biography &amp; Au...</td>\n",
       "    </tr>\n",
       "    <tr>\n",
       "      <th>...</th>\n",
       "      <td>...</td>\n",
       "      <td>...</td>\n",
       "      <td>...</td>\n",
       "      <td>...</td>\n",
       "      <td>...</td>\n",
       "      <td>...</td>\n",
       "      <td>...</td>\n",
       "      <td>...</td>\n",
       "      <td>...</td>\n",
       "    </tr>\n",
       "    <tr>\n",
       "      <th>5094</th>\n",
       "      <td>1684108</td>\n",
       "      <td>I Dated a Legal Devil</td>\n",
       "      <td>Unknown</td>\n",
       "      <td>Unknown</td>\n",
       "      <td>NaN</td>\n",
       "      <td>NaN</td>\n",
       "      <td>NaN</td>\n",
       "      <td>NaN</td>\n",
       "      <td>NaN</td>\n",
       "    </tr>\n",
       "    <tr>\n",
       "      <th>5095</th>\n",
       "      <td>1692163</td>\n",
       "      <td>Let Me Claim You</td>\n",
       "      <td>Marina Simcoe</td>\n",
       "      <td>Unknown</td>\n",
       "      <td>4.000000</td>\n",
       "      <td>2024-07-21</td>\n",
       "      <td>222.0</td>\n",
       "      <td>One minute, I’m taking out the trash in the al...</td>\n",
       "      <td>NaN</td>\n",
       "    </tr>\n",
       "    <tr>\n",
       "      <th>5096</th>\n",
       "      <td>1697265</td>\n",
       "      <td>Machines like Us: Toward AI with Common Sense</td>\n",
       "      <td>Ronald J. Brachman</td>\n",
       "      <td>Unknown</td>\n",
       "      <td>NaN</td>\n",
       "      <td>2022-01-01</td>\n",
       "      <td>320.0</td>\n",
       "      <td>How we can create artificial intelligence with...</td>\n",
       "      <td>NaN</td>\n",
       "    </tr>\n",
       "    <tr>\n",
       "      <th>5097</th>\n",
       "      <td>1708431</td>\n",
       "      <td>Barbie(TM): The World Tour</td>\n",
       "      <td>Margot Robbie</td>\n",
       "      <td>Unknown</td>\n",
       "      <td>NaN</td>\n",
       "      <td>2024-01-01</td>\n",
       "      <td>170.0</td>\n",
       "      <td>For the press tour following the record-breaki...</td>\n",
       "      <td>NaN</td>\n",
       "    </tr>\n",
       "    <tr>\n",
       "      <th>5098</th>\n",
       "      <td>1719614</td>\n",
       "      <td>Daisy Miller and Other Tales</td>\n",
       "      <td>Henry James Jr.</td>\n",
       "      <td>Unknown</td>\n",
       "      <td>NaN</td>\n",
       "      <td>2016-01-01</td>\n",
       "      <td>NaN</td>\n",
       "      <td>NaN</td>\n",
       "      <td>NaN</td>\n",
       "    </tr>\n",
       "  </tbody>\n",
       "</table>\n",
       "<p>5099 rows × 9 columns</p>\n",
       "</div>"
      ],
      "text/plain": [
       "           id                                              title  \\\n",
       "0          42                             Notes from Underground   \n",
       "1          53  The Rap Year Book: The Most Important Rap Song...   \n",
       "2          59                            Holding Up the Universe   \n",
       "3          80                                               Cell   \n",
       "4         138  Dreams from My Father: A Story of Race and Inh...   \n",
       "...       ...                                                ...   \n",
       "5094  1684108                              I Dated a Legal Devil   \n",
       "5095  1692163                                  Let Me Claim You    \n",
       "5096  1697265      Machines like Us: Toward AI with Common Sense   \n",
       "5097  1708431                         Barbie(TM): The World Tour   \n",
       "5098  1719614                       Daisy Miller and Other Tales   \n",
       "\n",
       "                  author        genre    rating releaseDate  pages  \\\n",
       "0      Fyodor Dostoevsky      Fiction  4.083333  1847-01-01  149.0   \n",
       "1           Shea Serrano      Unknown  4.312500  2015-10-13  583.0   \n",
       "2         Jennifer Niven  Young Adult  3.642857  2016-01-01  402.0   \n",
       "3           Stephen King       Horror  3.397590  2006-01-01  496.0   \n",
       "4           Barack Obama      History  4.005618  1995-01-01  461.0   \n",
       "...                  ...          ...       ...         ...    ...   \n",
       "5094             Unknown      Unknown       NaN         NaN    NaN   \n",
       "5095       Marina Simcoe      Unknown  4.000000  2024-07-21  222.0   \n",
       "5096  Ronald J. Brachman      Unknown       NaN  2022-01-01  320.0   \n",
       "5097       Margot Robbie      Unknown       NaN  2024-01-01  170.0   \n",
       "5098     Henry James Jr.      Unknown       NaN  2016-01-01    NaN   \n",
       "\n",
       "                                            description  \\\n",
       "0     Notes from Underground (pre-reform Russian: За...   \n",
       "1     A New York Times–bestselling, in-depth explora...   \n",
       "2     A New York Times Bestseller From the author of...   \n",
       "3     Cell is a 2006 apocalyptic horror novel by Ame...   \n",
       "4     Before Barack Obama became a politician he was...   \n",
       "...                                                 ...   \n",
       "5094                                                NaN   \n",
       "5095  One minute, I’m taking out the trash in the al...   \n",
       "5096  How we can create artificial intelligence with...   \n",
       "5097  For the press tour following the record-breaki...   \n",
       "5098                                                NaN   \n",
       "\n",
       "                                                   tags  \n",
       "0     Fiction, Classics, History, Literary Fiction, ...  \n",
       "1                                                   NaN  \n",
       "2     Fiction, Young Adult, Romance, Mental health, ...  \n",
       "3       Fantasy, Science fiction, Dystopian, Paranormal  \n",
       "4     History, Nonfiction, Biography, Biography & Au...  \n",
       "...                                                 ...  \n",
       "5094                                                NaN  \n",
       "5095                                                NaN  \n",
       "5096                                                NaN  \n",
       "5097                                                NaN  \n",
       "5098                                                NaN  \n",
       "\n",
       "[5099 rows x 9 columns]"
      ]
     },
     "execution_count": 42,
     "metadata": {},
     "output_type": "execute_result"
    }
   ],
   "source": [
    "df"
   ]
  },
  {
   "cell_type": "code",
   "execution_count": 43,
   "metadata": {},
   "outputs": [
    {
     "name": "stdout",
     "output_type": "stream",
     "text": [
      "0       Fiction, Classics, History, Literary Fiction, ...\n",
      "1                                                     NaN\n",
      "2       Fiction, Young Adult, Romance, Mental health, ...\n",
      "3         Fantasy, Science fiction, Dystopian, Paranormal\n",
      "4       History, Nonfiction, Biography, Biography & Au...\n",
      "                              ...                        \n",
      "5094                                                  NaN\n",
      "5095                                                  NaN\n",
      "5096                                                  NaN\n",
      "5097                                                  NaN\n",
      "5098                                                  NaN\n",
      "Name: tags, Length: 5099, dtype: object\n"
     ]
    }
   ],
   "source": [
    "print(df['tags'])"
   ]
  },
  {
   "cell_type": "code",
   "execution_count": 44,
   "metadata": {},
   "outputs": [
    {
     "name": "stdout",
     "output_type": "stream",
     "text": [
      "Number of data entries in the CSV file: 5099\n"
     ]
    }
   ],
   "source": [
    "import pandas as pd\n",
    "\n",
    "df = pd.read_csv('cleaned_tags_data.csv')\n",
    "\n",
    "num_rows = len(df) \n",
    "num_rows = df.shape[0] \n",
    "\n",
    "print(f\"Number of data entries in the CSV file: {num_rows}\")"
   ]
  },
  {
   "cell_type": "code",
   "execution_count": 45,
   "metadata": {},
   "outputs": [
    {
     "data": {
      "text/html": [
       "<div>\n",
       "<style scoped>\n",
       "    .dataframe tbody tr th:only-of-type {\n",
       "        vertical-align: middle;\n",
       "    }\n",
       "\n",
       "    .dataframe tbody tr th {\n",
       "        vertical-align: top;\n",
       "    }\n",
       "\n",
       "    .dataframe thead th {\n",
       "        text-align: right;\n",
       "    }\n",
       "</style>\n",
       "<table border=\"1\" class=\"dataframe\">\n",
       "  <thead>\n",
       "    <tr style=\"text-align: right;\">\n",
       "      <th></th>\n",
       "      <th>id</th>\n",
       "      <th>title</th>\n",
       "      <th>author</th>\n",
       "      <th>genre</th>\n",
       "      <th>rating</th>\n",
       "      <th>releaseDate</th>\n",
       "      <th>pages</th>\n",
       "      <th>description</th>\n",
       "      <th>tags</th>\n",
       "    </tr>\n",
       "  </thead>\n",
       "  <tbody>\n",
       "    <tr>\n",
       "      <th>0</th>\n",
       "      <td>42</td>\n",
       "      <td>Notes from Underground</td>\n",
       "      <td>Fyodor Dostoevsky</td>\n",
       "      <td>Fiction</td>\n",
       "      <td>4.083333</td>\n",
       "      <td>1847-01-01</td>\n",
       "      <td>149.0</td>\n",
       "      <td>Notes from Underground (pre-reform Russian: За...</td>\n",
       "      <td>Fiction, Classics, History, Literary Fiction, ...</td>\n",
       "    </tr>\n",
       "    <tr>\n",
       "      <th>1</th>\n",
       "      <td>53</td>\n",
       "      <td>The Rap Year Book: The Most Important Rap Song...</td>\n",
       "      <td>Shea Serrano</td>\n",
       "      <td>Unknown</td>\n",
       "      <td>4.312500</td>\n",
       "      <td>2015-10-13</td>\n",
       "      <td>583.0</td>\n",
       "      <td>A New York Times–bestselling, in-depth explora...</td>\n",
       "      <td>NaN</td>\n",
       "    </tr>\n",
       "    <tr>\n",
       "      <th>2</th>\n",
       "      <td>59</td>\n",
       "      <td>Holding Up the Universe</td>\n",
       "      <td>Jennifer Niven</td>\n",
       "      <td>Young Adult</td>\n",
       "      <td>3.642857</td>\n",
       "      <td>2016-01-01</td>\n",
       "      <td>402.0</td>\n",
       "      <td>A New York Times Bestseller From the author of...</td>\n",
       "      <td>Fiction, Young Adult, Romance, Mental health, ...</td>\n",
       "    </tr>\n",
       "    <tr>\n",
       "      <th>3</th>\n",
       "      <td>80</td>\n",
       "      <td>Cell</td>\n",
       "      <td>Stephen King</td>\n",
       "      <td>Horror</td>\n",
       "      <td>3.397590</td>\n",
       "      <td>2006-01-01</td>\n",
       "      <td>496.0</td>\n",
       "      <td>Cell is a 2006 apocalyptic horror novel by Ame...</td>\n",
       "      <td>Fantasy, Science fiction, Dystopian, Paranormal</td>\n",
       "    </tr>\n",
       "    <tr>\n",
       "      <th>4</th>\n",
       "      <td>138</td>\n",
       "      <td>Dreams from My Father: A Story of Race and Inh...</td>\n",
       "      <td>Barack Obama</td>\n",
       "      <td>History</td>\n",
       "      <td>4.005618</td>\n",
       "      <td>1995-01-01</td>\n",
       "      <td>461.0</td>\n",
       "      <td>Before Barack Obama became a politician he was...</td>\n",
       "      <td>History, Nonfiction, Biography, Biography &amp; Au...</td>\n",
       "    </tr>\n",
       "  </tbody>\n",
       "</table>\n",
       "</div>"
      ],
      "text/plain": [
       "    id                                              title             author  \\\n",
       "0   42                             Notes from Underground  Fyodor Dostoevsky   \n",
       "1   53  The Rap Year Book: The Most Important Rap Song...       Shea Serrano   \n",
       "2   59                            Holding Up the Universe     Jennifer Niven   \n",
       "3   80                                               Cell       Stephen King   \n",
       "4  138  Dreams from My Father: A Story of Race and Inh...       Barack Obama   \n",
       "\n",
       "         genre    rating releaseDate  pages  \\\n",
       "0      Fiction  4.083333  1847-01-01  149.0   \n",
       "1      Unknown  4.312500  2015-10-13  583.0   \n",
       "2  Young Adult  3.642857  2016-01-01  402.0   \n",
       "3       Horror  3.397590  2006-01-01  496.0   \n",
       "4      History  4.005618  1995-01-01  461.0   \n",
       "\n",
       "                                         description  \\\n",
       "0  Notes from Underground (pre-reform Russian: За...   \n",
       "1  A New York Times–bestselling, in-depth explora...   \n",
       "2  A New York Times Bestseller From the author of...   \n",
       "3  Cell is a 2006 apocalyptic horror novel by Ame...   \n",
       "4  Before Barack Obama became a politician he was...   \n",
       "\n",
       "                                                tags  \n",
       "0  Fiction, Classics, History, Literary Fiction, ...  \n",
       "1                                                NaN  \n",
       "2  Fiction, Young Adult, Romance, Mental health, ...  \n",
       "3    Fantasy, Science fiction, Dystopian, Paranormal  \n",
       "4  History, Nonfiction, Biography, Biography & Au...  "
      ]
     },
     "execution_count": 45,
     "metadata": {},
     "output_type": "execute_result"
    }
   ],
   "source": [
    "df.head()"
   ]
  },
  {
   "cell_type": "code",
   "execution_count": 46,
   "metadata": {},
   "outputs": [
    {
     "data": {
      "text/plain": [
       "(5099, 9)"
      ]
     },
     "execution_count": 46,
     "metadata": {},
     "output_type": "execute_result"
    }
   ],
   "source": [
    "df.shape\n"
   ]
  },
  {
   "cell_type": "code",
   "execution_count": 47,
   "metadata": {},
   "outputs": [
    {
     "name": "stdout",
     "output_type": "stream",
     "text": [
      "<class 'pandas.core.frame.DataFrame'>\n",
      "RangeIndex: 5099 entries, 0 to 5098\n",
      "Data columns (total 9 columns):\n",
      " #   Column       Non-Null Count  Dtype  \n",
      "---  ------       --------------  -----  \n",
      " 0   id           5099 non-null   int64  \n",
      " 1   title        5099 non-null   object \n",
      " 2   author       5099 non-null   object \n",
      " 3   genre        5099 non-null   object \n",
      " 4   rating       4887 non-null   float64\n",
      " 5   releaseDate  4925 non-null   object \n",
      " 6   pages        4563 non-null   float64\n",
      " 7   description  4385 non-null   object \n",
      " 8   tags         4393 non-null   object \n",
      "dtypes: float64(2), int64(1), object(6)\n",
      "memory usage: 358.6+ KB\n"
     ]
    }
   ],
   "source": [
    "df.info()\n"
   ]
  },
  {
   "cell_type": "code",
   "execution_count": 48,
   "metadata": {},
   "outputs": [
    {
     "data": {
      "text/plain": [
       "id               int64\n",
       "title           object\n",
       "author          object\n",
       "genre           object\n",
       "rating         float64\n",
       "releaseDate     object\n",
       "pages          float64\n",
       "description     object\n",
       "tags            object\n",
       "dtype: object"
      ]
     },
     "execution_count": 48,
     "metadata": {},
     "output_type": "execute_result"
    }
   ],
   "source": [
    "df.dtypes\n"
   ]
  },
  {
   "cell_type": "code",
   "execution_count": 49,
   "metadata": {},
   "outputs": [
    {
     "data": {
      "text/html": [
       "<div>\n",
       "<style scoped>\n",
       "    .dataframe tbody tr th:only-of-type {\n",
       "        vertical-align: middle;\n",
       "    }\n",
       "\n",
       "    .dataframe tbody tr th {\n",
       "        vertical-align: top;\n",
       "    }\n",
       "\n",
       "    .dataframe thead th {\n",
       "        text-align: right;\n",
       "    }\n",
       "</style>\n",
       "<table border=\"1\" class=\"dataframe\">\n",
       "  <thead>\n",
       "    <tr style=\"text-align: right;\">\n",
       "      <th></th>\n",
       "      <th>id</th>\n",
       "      <th>rating</th>\n",
       "      <th>pages</th>\n",
       "    </tr>\n",
       "  </thead>\n",
       "  <tbody>\n",
       "    <tr>\n",
       "      <th>count</th>\n",
       "      <td>5.099000e+03</td>\n",
       "      <td>4887.000000</td>\n",
       "      <td>4563.000000</td>\n",
       "    </tr>\n",
       "    <tr>\n",
       "      <th>mean</th>\n",
       "      <td>4.766485e+05</td>\n",
       "      <td>3.894077</td>\n",
       "      <td>374.582731</td>\n",
       "    </tr>\n",
       "    <tr>\n",
       "      <th>std</th>\n",
       "      <td>3.056766e+05</td>\n",
       "      <td>0.418639</td>\n",
       "      <td>182.379204</td>\n",
       "    </tr>\n",
       "    <tr>\n",
       "      <th>min</th>\n",
       "      <td>4.200000e+01</td>\n",
       "      <td>0.777778</td>\n",
       "      <td>0.000000</td>\n",
       "    </tr>\n",
       "    <tr>\n",
       "      <th>25%</th>\n",
       "      <td>3.322270e+05</td>\n",
       "      <td>3.687141</td>\n",
       "      <td>272.000000</td>\n",
       "    </tr>\n",
       "    <tr>\n",
       "      <th>50%</th>\n",
       "      <td>4.325340e+05</td>\n",
       "      <td>3.924528</td>\n",
       "      <td>352.000000</td>\n",
       "    </tr>\n",
       "    <tr>\n",
       "      <th>75%</th>\n",
       "      <td>5.259575e+05</td>\n",
       "      <td>4.132676</td>\n",
       "      <td>448.000000</td>\n",
       "    </tr>\n",
       "    <tr>\n",
       "      <th>max</th>\n",
       "      <td>1.719614e+06</td>\n",
       "      <td>5.000000</td>\n",
       "      <td>1956.000000</td>\n",
       "    </tr>\n",
       "  </tbody>\n",
       "</table>\n",
       "</div>"
      ],
      "text/plain": [
       "                 id       rating        pages\n",
       "count  5.099000e+03  4887.000000  4563.000000\n",
       "mean   4.766485e+05     3.894077   374.582731\n",
       "std    3.056766e+05     0.418639   182.379204\n",
       "min    4.200000e+01     0.777778     0.000000\n",
       "25%    3.322270e+05     3.687141   272.000000\n",
       "50%    4.325340e+05     3.924528   352.000000\n",
       "75%    5.259575e+05     4.132676   448.000000\n",
       "max    1.719614e+06     5.000000  1956.000000"
      ]
     },
     "execution_count": 49,
     "metadata": {},
     "output_type": "execute_result"
    }
   ],
   "source": [
    "df.describe()"
   ]
  },
  {
   "cell_type": "code",
   "execution_count": 50,
   "metadata": {},
   "outputs": [
    {
     "data": {
      "text/html": [
       "<div>\n",
       "<style scoped>\n",
       "    .dataframe tbody tr th:only-of-type {\n",
       "        vertical-align: middle;\n",
       "    }\n",
       "\n",
       "    .dataframe tbody tr th {\n",
       "        vertical-align: top;\n",
       "    }\n",
       "\n",
       "    .dataframe thead th {\n",
       "        text-align: right;\n",
       "    }\n",
       "</style>\n",
       "<table border=\"1\" class=\"dataframe\">\n",
       "  <thead>\n",
       "    <tr style=\"text-align: right;\">\n",
       "      <th></th>\n",
       "      <th>title</th>\n",
       "      <th>author</th>\n",
       "      <th>genre</th>\n",
       "      <th>releaseDate</th>\n",
       "      <th>description</th>\n",
       "      <th>tags</th>\n",
       "    </tr>\n",
       "  </thead>\n",
       "  <tbody>\n",
       "    <tr>\n",
       "      <th>count</th>\n",
       "      <td>5099</td>\n",
       "      <td>5099</td>\n",
       "      <td>5099</td>\n",
       "      <td>4925</td>\n",
       "      <td>4385</td>\n",
       "      <td>4393</td>\n",
       "    </tr>\n",
       "    <tr>\n",
       "      <th>unique</th>\n",
       "      <td>5066</td>\n",
       "      <td>2896</td>\n",
       "      <td>27</td>\n",
       "      <td>1543</td>\n",
       "      <td>4382</td>\n",
       "      <td>3172</td>\n",
       "    </tr>\n",
       "    <tr>\n",
       "      <th>top</th>\n",
       "      <td>The Tombs of Atuan</td>\n",
       "      <td>Stephen King</td>\n",
       "      <td>Fiction</td>\n",
       "      <td>2023-01-01</td>\n",
       "      <td>Dubliners is a collection of vignettes of Dubl...</td>\n",
       "      <td>Fiction</td>\n",
       "    </tr>\n",
       "    <tr>\n",
       "      <th>freq</th>\n",
       "      <td>2</td>\n",
       "      <td>56</td>\n",
       "      <td>2201</td>\n",
       "      <td>243</td>\n",
       "      <td>2</td>\n",
       "      <td>158</td>\n",
       "    </tr>\n",
       "  </tbody>\n",
       "</table>\n",
       "</div>"
      ],
      "text/plain": [
       "                     title        author    genre releaseDate  \\\n",
       "count                 5099          5099     5099        4925   \n",
       "unique                5066          2896       27        1543   \n",
       "top     The Tombs of Atuan  Stephen King  Fiction  2023-01-01   \n",
       "freq                     2            56     2201         243   \n",
       "\n",
       "                                              description     tags  \n",
       "count                                                4385     4393  \n",
       "unique                                               4382     3172  \n",
       "top     Dubliners is a collection of vignettes of Dubl...  Fiction  \n",
       "freq                                                    2      158  "
      ]
     },
     "execution_count": 50,
     "metadata": {},
     "output_type": "execute_result"
    }
   ],
   "source": [
    "df.describe(exclude=[np.number])\n"
   ]
  },
  {
   "cell_type": "code",
   "execution_count": 51,
   "metadata": {},
   "outputs": [
    {
     "data": {
      "text/plain": [
       "id               0\n",
       "title            0\n",
       "author           0\n",
       "genre            0\n",
       "rating         212\n",
       "releaseDate    174\n",
       "pages          536\n",
       "description    714\n",
       "tags           706\n",
       "dtype: int64"
      ]
     },
     "execution_count": 51,
     "metadata": {},
     "output_type": "execute_result"
    }
   ],
   "source": [
    "df.isnull().sum() "
   ]
  },
  {
   "cell_type": "code",
   "execution_count": 52,
   "metadata": {},
   "outputs": [],
   "source": [
    "df.dropna(subset=['description'], inplace=True)"
   ]
  },
  {
   "cell_type": "code",
   "execution_count": 53,
   "metadata": {},
   "outputs": [
    {
     "data": {
      "text/html": [
       "<div>\n",
       "<style scoped>\n",
       "    .dataframe tbody tr th:only-of-type {\n",
       "        vertical-align: middle;\n",
       "    }\n",
       "\n",
       "    .dataframe tbody tr th {\n",
       "        vertical-align: top;\n",
       "    }\n",
       "\n",
       "    .dataframe thead th {\n",
       "        text-align: right;\n",
       "    }\n",
       "</style>\n",
       "<table border=\"1\" class=\"dataframe\">\n",
       "  <thead>\n",
       "    <tr style=\"text-align: right;\">\n",
       "      <th></th>\n",
       "      <th>id</th>\n",
       "      <th>title</th>\n",
       "      <th>author</th>\n",
       "      <th>genre</th>\n",
       "      <th>rating</th>\n",
       "      <th>releaseDate</th>\n",
       "      <th>pages</th>\n",
       "      <th>description</th>\n",
       "      <th>tags</th>\n",
       "    </tr>\n",
       "  </thead>\n",
       "  <tbody>\n",
       "    <tr>\n",
       "      <th>0</th>\n",
       "      <td>42</td>\n",
       "      <td>Notes from Underground</td>\n",
       "      <td>Fyodor Dostoevsky</td>\n",
       "      <td>Fiction</td>\n",
       "      <td>4.083333</td>\n",
       "      <td>1847-01-01</td>\n",
       "      <td>149.0</td>\n",
       "      <td>Notes from Underground (pre-reform Russian: За...</td>\n",
       "      <td>Fiction, Classics, History, Literary Fiction, ...</td>\n",
       "    </tr>\n",
       "    <tr>\n",
       "      <th>1</th>\n",
       "      <td>53</td>\n",
       "      <td>The Rap Year Book: The Most Important Rap Song...</td>\n",
       "      <td>Shea Serrano</td>\n",
       "      <td>Unknown</td>\n",
       "      <td>4.312500</td>\n",
       "      <td>2015-10-13</td>\n",
       "      <td>583.0</td>\n",
       "      <td>A New York Times–bestselling, in-depth explora...</td>\n",
       "      <td>NaN</td>\n",
       "    </tr>\n",
       "    <tr>\n",
       "      <th>2</th>\n",
       "      <td>59</td>\n",
       "      <td>Holding Up the Universe</td>\n",
       "      <td>Jennifer Niven</td>\n",
       "      <td>Young Adult</td>\n",
       "      <td>3.642857</td>\n",
       "      <td>2016-01-01</td>\n",
       "      <td>402.0</td>\n",
       "      <td>A New York Times Bestseller From the author of...</td>\n",
       "      <td>Fiction, Young Adult, Romance, Mental health, ...</td>\n",
       "    </tr>\n",
       "    <tr>\n",
       "      <th>3</th>\n",
       "      <td>80</td>\n",
       "      <td>Cell</td>\n",
       "      <td>Stephen King</td>\n",
       "      <td>Horror</td>\n",
       "      <td>3.397590</td>\n",
       "      <td>2006-01-01</td>\n",
       "      <td>496.0</td>\n",
       "      <td>Cell is a 2006 apocalyptic horror novel by Ame...</td>\n",
       "      <td>Fantasy, Science fiction, Dystopian, Paranormal</td>\n",
       "    </tr>\n",
       "    <tr>\n",
       "      <th>4</th>\n",
       "      <td>138</td>\n",
       "      <td>Dreams from My Father: A Story of Race and Inh...</td>\n",
       "      <td>Barack Obama</td>\n",
       "      <td>History</td>\n",
       "      <td>4.005618</td>\n",
       "      <td>1995-01-01</td>\n",
       "      <td>461.0</td>\n",
       "      <td>Before Barack Obama became a politician he was...</td>\n",
       "      <td>History, Nonfiction, Biography, Biography &amp; Au...</td>\n",
       "    </tr>\n",
       "  </tbody>\n",
       "</table>\n",
       "</div>"
      ],
      "text/plain": [
       "    id                                              title             author  \\\n",
       "0   42                             Notes from Underground  Fyodor Dostoevsky   \n",
       "1   53  The Rap Year Book: The Most Important Rap Song...       Shea Serrano   \n",
       "2   59                            Holding Up the Universe     Jennifer Niven   \n",
       "3   80                                               Cell       Stephen King   \n",
       "4  138  Dreams from My Father: A Story of Race and Inh...       Barack Obama   \n",
       "\n",
       "         genre    rating releaseDate  pages  \\\n",
       "0      Fiction  4.083333  1847-01-01  149.0   \n",
       "1      Unknown  4.312500  2015-10-13  583.0   \n",
       "2  Young Adult  3.642857  2016-01-01  402.0   \n",
       "3       Horror  3.397590  2006-01-01  496.0   \n",
       "4      History  4.005618  1995-01-01  461.0   \n",
       "\n",
       "                                         description  \\\n",
       "0  Notes from Underground (pre-reform Russian: За...   \n",
       "1  A New York Times–bestselling, in-depth explora...   \n",
       "2  A New York Times Bestseller From the author of...   \n",
       "3  Cell is a 2006 apocalyptic horror novel by Ame...   \n",
       "4  Before Barack Obama became a politician he was...   \n",
       "\n",
       "                                                tags  \n",
       "0  Fiction, Classics, History, Literary Fiction, ...  \n",
       "1                                                NaN  \n",
       "2  Fiction, Young Adult, Romance, Mental health, ...  \n",
       "3    Fantasy, Science fiction, Dystopian, Paranormal  \n",
       "4  History, Nonfiction, Biography, Biography & Au...  "
      ]
     },
     "execution_count": 53,
     "metadata": {},
     "output_type": "execute_result"
    }
   ],
   "source": [
    "df.head()"
   ]
  },
  {
   "cell_type": "code",
   "execution_count": 54,
   "metadata": {},
   "outputs": [
    {
     "data": {
      "text/plain": [
       "id               0\n",
       "title            0\n",
       "author           0\n",
       "genre            0\n",
       "rating          77\n",
       "releaseDate     35\n",
       "pages          283\n",
       "description      0\n",
       "tags           338\n",
       "dtype: int64"
      ]
     },
     "execution_count": 54,
     "metadata": {},
     "output_type": "execute_result"
    }
   ],
   "source": [
    "df.isnull().sum() "
   ]
  },
  {
   "cell_type": "code",
   "execution_count": 55,
   "metadata": {},
   "outputs": [
    {
     "data": {
      "text/plain": [
       "(4385, 9)"
      ]
     },
     "execution_count": 55,
     "metadata": {},
     "output_type": "execute_result"
    }
   ],
   "source": [
    "df.shape\n"
   ]
  },
  {
   "cell_type": "code",
   "execution_count": 56,
   "metadata": {},
   "outputs": [],
   "source": [
    "df.dropna(subset=['rating'], inplace=True)"
   ]
  },
  {
   "cell_type": "code",
   "execution_count": 57,
   "metadata": {},
   "outputs": [
    {
     "data": {
      "text/plain": [
       "(4308, 9)"
      ]
     },
     "execution_count": 57,
     "metadata": {},
     "output_type": "execute_result"
    }
   ],
   "source": [
    "df.shape\n"
   ]
  },
  {
   "cell_type": "code",
   "execution_count": 58,
   "metadata": {},
   "outputs": [
    {
     "data": {
      "text/plain": [
       "id               0\n",
       "title            0\n",
       "author           0\n",
       "genre            0\n",
       "rating           0\n",
       "releaseDate     30\n",
       "pages          277\n",
       "description      0\n",
       "tags           300\n",
       "dtype: int64"
      ]
     },
     "execution_count": 58,
     "metadata": {},
     "output_type": "execute_result"
    }
   ],
   "source": [
    "df.isnull().sum() "
   ]
  },
  {
   "cell_type": "code",
   "execution_count": 59,
   "metadata": {},
   "outputs": [],
   "source": [
    "df.drop(columns=['pages'], inplace=True)"
   ]
  },
  {
   "cell_type": "code",
   "execution_count": 60,
   "metadata": {},
   "outputs": [],
   "source": [
    "df.drop(columns=['releaseDate'], inplace=True)"
   ]
  },
  {
   "cell_type": "code",
   "execution_count": 61,
   "metadata": {},
   "outputs": [
    {
     "data": {
      "text/plain": [
       "id               0\n",
       "title            0\n",
       "author           0\n",
       "genre            0\n",
       "rating           0\n",
       "description      0\n",
       "tags           300\n",
       "dtype: int64"
      ]
     },
     "execution_count": 61,
     "metadata": {},
     "output_type": "execute_result"
    }
   ],
   "source": [
    "df.isnull().sum() "
   ]
  },
  {
   "cell_type": "code",
   "execution_count": 62,
   "metadata": {},
   "outputs": [
    {
     "data": {
      "text/plain": [
       "(4308, 7)"
      ]
     },
     "execution_count": 62,
     "metadata": {},
     "output_type": "execute_result"
    }
   ],
   "source": [
    "df.shape"
   ]
  },
  {
   "cell_type": "code",
   "execution_count": 63,
   "metadata": {},
   "outputs": [
    {
     "data": {
      "text/html": [
       "<div>\n",
       "<style scoped>\n",
       "    .dataframe tbody tr th:only-of-type {\n",
       "        vertical-align: middle;\n",
       "    }\n",
       "\n",
       "    .dataframe tbody tr th {\n",
       "        vertical-align: top;\n",
       "    }\n",
       "\n",
       "    .dataframe thead th {\n",
       "        text-align: right;\n",
       "    }\n",
       "</style>\n",
       "<table border=\"1\" class=\"dataframe\">\n",
       "  <thead>\n",
       "    <tr style=\"text-align: right;\">\n",
       "      <th></th>\n",
       "      <th>id</th>\n",
       "      <th>title</th>\n",
       "      <th>author</th>\n",
       "      <th>genre</th>\n",
       "      <th>rating</th>\n",
       "      <th>description</th>\n",
       "      <th>tags</th>\n",
       "    </tr>\n",
       "  </thead>\n",
       "  <tbody>\n",
       "    <tr>\n",
       "      <th>0</th>\n",
       "      <td>42</td>\n",
       "      <td>Notes from Underground</td>\n",
       "      <td>Fyodor Dostoevsky</td>\n",
       "      <td>Fiction</td>\n",
       "      <td>4.083333</td>\n",
       "      <td>Notes from Underground (pre-reform Russian: За...</td>\n",
       "      <td>Fiction, Classics, History, Literary Fiction, ...</td>\n",
       "    </tr>\n",
       "    <tr>\n",
       "      <th>1</th>\n",
       "      <td>53</td>\n",
       "      <td>The Rap Year Book: The Most Important Rap Song...</td>\n",
       "      <td>Shea Serrano</td>\n",
       "      <td>Unknown</td>\n",
       "      <td>4.312500</td>\n",
       "      <td>A New York Times–bestselling, in-depth explora...</td>\n",
       "      <td>NaN</td>\n",
       "    </tr>\n",
       "    <tr>\n",
       "      <th>2</th>\n",
       "      <td>59</td>\n",
       "      <td>Holding Up the Universe</td>\n",
       "      <td>Jennifer Niven</td>\n",
       "      <td>Young Adult</td>\n",
       "      <td>3.642857</td>\n",
       "      <td>A New York Times Bestseller From the author of...</td>\n",
       "      <td>Fiction, Young Adult, Romance, Mental health, ...</td>\n",
       "    </tr>\n",
       "    <tr>\n",
       "      <th>3</th>\n",
       "      <td>80</td>\n",
       "      <td>Cell</td>\n",
       "      <td>Stephen King</td>\n",
       "      <td>Horror</td>\n",
       "      <td>3.397590</td>\n",
       "      <td>Cell is a 2006 apocalyptic horror novel by Ame...</td>\n",
       "      <td>Fantasy, Science fiction, Dystopian, Paranormal</td>\n",
       "    </tr>\n",
       "    <tr>\n",
       "      <th>4</th>\n",
       "      <td>138</td>\n",
       "      <td>Dreams from My Father: A Story of Race and Inh...</td>\n",
       "      <td>Barack Obama</td>\n",
       "      <td>History</td>\n",
       "      <td>4.005618</td>\n",
       "      <td>Before Barack Obama became a politician he was...</td>\n",
       "      <td>History, Nonfiction, Biography, Biography &amp; Au...</td>\n",
       "    </tr>\n",
       "    <tr>\n",
       "      <th>...</th>\n",
       "      <td>...</td>\n",
       "      <td>...</td>\n",
       "      <td>...</td>\n",
       "      <td>...</td>\n",
       "      <td>...</td>\n",
       "      <td>...</td>\n",
       "      <td>...</td>\n",
       "    </tr>\n",
       "    <tr>\n",
       "      <th>5082</th>\n",
       "      <td>1654400</td>\n",
       "      <td>In the Belly of the Whale</td>\n",
       "      <td>Michael Flynn</td>\n",
       "      <td>Fiction</td>\n",
       "      <td>4.000000</td>\n",
       "      <td>In the Belly of the Whale is a gripping epic t...</td>\n",
       "      <td>Fiction, Science fiction</td>\n",
       "    </tr>\n",
       "    <tr>\n",
       "      <th>5090</th>\n",
       "      <td>1671500</td>\n",
       "      <td>Eleven Numbers</td>\n",
       "      <td>Lee Child</td>\n",
       "      <td>Unknown</td>\n",
       "      <td>3.500000</td>\n",
       "      <td>An American mathematician’s assignment in Russ...</td>\n",
       "      <td>NaN</td>\n",
       "    </tr>\n",
       "    <tr>\n",
       "      <th>5091</th>\n",
       "      <td>1675464</td>\n",
       "      <td>Tao te Ching</td>\n",
       "      <td>Lao Tzu</td>\n",
       "      <td>Unknown</td>\n",
       "      <td>4.500000</td>\n",
       "      <td>This unique edition of the Tao Te Ching featur...</td>\n",
       "      <td>NaN</td>\n",
       "    </tr>\n",
       "    <tr>\n",
       "      <th>5093</th>\n",
       "      <td>1680271</td>\n",
       "      <td>Oh, The pets you can get!</td>\n",
       "      <td>Tish Rabe</td>\n",
       "      <td>Unknown</td>\n",
       "      <td>3.000000</td>\n",
       "      <td>The Cat and Co. take off to the faraway land o...</td>\n",
       "      <td>NaN</td>\n",
       "    </tr>\n",
       "    <tr>\n",
       "      <th>5095</th>\n",
       "      <td>1692163</td>\n",
       "      <td>Let Me Claim You</td>\n",
       "      <td>Marina Simcoe</td>\n",
       "      <td>Unknown</td>\n",
       "      <td>4.000000</td>\n",
       "      <td>One minute, I’m taking out the trash in the al...</td>\n",
       "      <td>NaN</td>\n",
       "    </tr>\n",
       "  </tbody>\n",
       "</table>\n",
       "<p>4308 rows × 7 columns</p>\n",
       "</div>"
      ],
      "text/plain": [
       "           id                                              title  \\\n",
       "0          42                             Notes from Underground   \n",
       "1          53  The Rap Year Book: The Most Important Rap Song...   \n",
       "2          59                            Holding Up the Universe   \n",
       "3          80                                               Cell   \n",
       "4         138  Dreams from My Father: A Story of Race and Inh...   \n",
       "...       ...                                                ...   \n",
       "5082  1654400                          In the Belly of the Whale   \n",
       "5090  1671500                                     Eleven Numbers   \n",
       "5091  1675464                                       Tao te Ching   \n",
       "5093  1680271                          Oh, The pets you can get!   \n",
       "5095  1692163                                  Let Me Claim You    \n",
       "\n",
       "                 author        genre    rating  \\\n",
       "0     Fyodor Dostoevsky      Fiction  4.083333   \n",
       "1          Shea Serrano      Unknown  4.312500   \n",
       "2        Jennifer Niven  Young Adult  3.642857   \n",
       "3          Stephen King       Horror  3.397590   \n",
       "4          Barack Obama      History  4.005618   \n",
       "...                 ...          ...       ...   \n",
       "5082      Michael Flynn      Fiction  4.000000   \n",
       "5090          Lee Child      Unknown  3.500000   \n",
       "5091            Lao Tzu      Unknown  4.500000   \n",
       "5093          Tish Rabe      Unknown  3.000000   \n",
       "5095      Marina Simcoe      Unknown  4.000000   \n",
       "\n",
       "                                            description  \\\n",
       "0     Notes from Underground (pre-reform Russian: За...   \n",
       "1     A New York Times–bestselling, in-depth explora...   \n",
       "2     A New York Times Bestseller From the author of...   \n",
       "3     Cell is a 2006 apocalyptic horror novel by Ame...   \n",
       "4     Before Barack Obama became a politician he was...   \n",
       "...                                                 ...   \n",
       "5082  In the Belly of the Whale is a gripping epic t...   \n",
       "5090  An American mathematician’s assignment in Russ...   \n",
       "5091  This unique edition of the Tao Te Ching featur...   \n",
       "5093  The Cat and Co. take off to the faraway land o...   \n",
       "5095  One minute, I’m taking out the trash in the al...   \n",
       "\n",
       "                                                   tags  \n",
       "0     Fiction, Classics, History, Literary Fiction, ...  \n",
       "1                                                   NaN  \n",
       "2     Fiction, Young Adult, Romance, Mental health, ...  \n",
       "3       Fantasy, Science fiction, Dystopian, Paranormal  \n",
       "4     History, Nonfiction, Biography, Biography & Au...  \n",
       "...                                                 ...  \n",
       "5082                           Fiction, Science fiction  \n",
       "5090                                                NaN  \n",
       "5091                                                NaN  \n",
       "5093                                                NaN  \n",
       "5095                                                NaN  \n",
       "\n",
       "[4308 rows x 7 columns]"
      ]
     },
     "execution_count": 63,
     "metadata": {},
     "output_type": "execute_result"
    }
   ],
   "source": [
    "df"
   ]
  },
  {
   "cell_type": "code",
   "execution_count": 64,
   "metadata": {},
   "outputs": [
    {
     "data": {
      "image/png": "[encoded data removed]",
      "text/plain": [
       "<Figure size 640x480 with 1 Axes>"
      ]
     },
     "metadata": {},
     "output_type": "display_data"
    }
   ],
   "source": [
    "ax = plt.axes()\n",
    "sns.heatmap(df.isna().transpose(), cbar=False, ax=ax)\n",
    "\n",
    "plt.xlabel(\"Columns\")\n",
    "plt.ylabel(\"Missing values\")\n",
    "\n",
    "plt.show()"
   ]
  },
  {
   "cell_type": "code",
   "execution_count": 65,
   "metadata": {},
   "outputs": [],
   "source": [
    "df[\"missing_description\"] = np.where(df[\"description\"].isna(), 1, 0)"
   ]
  },
  {
   "cell_type": "code",
   "execution_count": 66,
   "metadata": {},
   "outputs": [
    {
     "data": {
      "text/html": [
       "<div>\n",
       "<style scoped>\n",
       "    .dataframe tbody tr th:only-of-type {\n",
       "        vertical-align: middle;\n",
       "    }\n",
       "\n",
       "    .dataframe tbody tr th {\n",
       "        vertical-align: top;\n",
       "    }\n",
       "\n",
       "    .dataframe thead th {\n",
       "        text-align: right;\n",
       "    }\n",
       "</style>\n",
       "<table border=\"1\" class=\"dataframe\">\n",
       "  <thead>\n",
       "    <tr style=\"text-align: right;\">\n",
       "      <th></th>\n",
       "      <th>id</th>\n",
       "      <th>title</th>\n",
       "      <th>author</th>\n",
       "      <th>genre</th>\n",
       "      <th>rating</th>\n",
       "      <th>description</th>\n",
       "      <th>tags</th>\n",
       "      <th>missing_description</th>\n",
       "    </tr>\n",
       "  </thead>\n",
       "  <tbody>\n",
       "    <tr>\n",
       "      <th>0</th>\n",
       "      <td>42</td>\n",
       "      <td>Notes from Underground</td>\n",
       "      <td>Fyodor Dostoevsky</td>\n",
       "      <td>Fiction</td>\n",
       "      <td>4.083333</td>\n",
       "      <td>Notes from Underground (pre-reform Russian: За...</td>\n",
       "      <td>Fiction, Classics, History, Literary Fiction, ...</td>\n",
       "      <td>0</td>\n",
       "    </tr>\n",
       "    <tr>\n",
       "      <th>1</th>\n",
       "      <td>53</td>\n",
       "      <td>The Rap Year Book: The Most Important Rap Song...</td>\n",
       "      <td>Shea Serrano</td>\n",
       "      <td>Unknown</td>\n",
       "      <td>4.312500</td>\n",
       "      <td>A New York Times–bestselling, in-depth explora...</td>\n",
       "      <td>NaN</td>\n",
       "      <td>0</td>\n",
       "    </tr>\n",
       "    <tr>\n",
       "      <th>2</th>\n",
       "      <td>59</td>\n",
       "      <td>Holding Up the Universe</td>\n",
       "      <td>Jennifer Niven</td>\n",
       "      <td>Young Adult</td>\n",
       "      <td>3.642857</td>\n",
       "      <td>A New York Times Bestseller From the author of...</td>\n",
       "      <td>Fiction, Young Adult, Romance, Mental health, ...</td>\n",
       "      <td>0</td>\n",
       "    </tr>\n",
       "    <tr>\n",
       "      <th>3</th>\n",
       "      <td>80</td>\n",
       "      <td>Cell</td>\n",
       "      <td>Stephen King</td>\n",
       "      <td>Horror</td>\n",
       "      <td>3.397590</td>\n",
       "      <td>Cell is a 2006 apocalyptic horror novel by Ame...</td>\n",
       "      <td>Fantasy, Science fiction, Dystopian, Paranormal</td>\n",
       "      <td>0</td>\n",
       "    </tr>\n",
       "    <tr>\n",
       "      <th>4</th>\n",
       "      <td>138</td>\n",
       "      <td>Dreams from My Father: A Story of Race and Inh...</td>\n",
       "      <td>Barack Obama</td>\n",
       "      <td>History</td>\n",
       "      <td>4.005618</td>\n",
       "      <td>Before Barack Obama became a politician he was...</td>\n",
       "      <td>History, Nonfiction, Biography, Biography &amp; Au...</td>\n",
       "      <td>0</td>\n",
       "    </tr>\n",
       "  </tbody>\n",
       "</table>\n",
       "</div>"
      ],
      "text/plain": [
       "    id                                              title             author  \\\n",
       "0   42                             Notes from Underground  Fyodor Dostoevsky   \n",
       "1   53  The Rap Year Book: The Most Important Rap Song...       Shea Serrano   \n",
       "2   59                            Holding Up the Universe     Jennifer Niven   \n",
       "3   80                                               Cell       Stephen King   \n",
       "4  138  Dreams from My Father: A Story of Race and Inh...       Barack Obama   \n",
       "\n",
       "         genre    rating                                        description  \\\n",
       "0      Fiction  4.083333  Notes from Underground (pre-reform Russian: За...   \n",
       "1      Unknown  4.312500  A New York Times–bestselling, in-depth explora...   \n",
       "2  Young Adult  3.642857  A New York Times Bestseller From the author of...   \n",
       "3       Horror  3.397590  Cell is a 2006 apocalyptic horror novel by Ame...   \n",
       "4      History  4.005618  Before Barack Obama became a politician he was...   \n",
       "\n",
       "                                                tags  missing_description  \n",
       "0  Fiction, Classics, History, Literary Fiction, ...                    0  \n",
       "1                                                NaN                    0  \n",
       "2  Fiction, Young Adult, Romance, Mental health, ...                    0  \n",
       "3    Fantasy, Science fiction, Dystopian, Paranormal                    0  \n",
       "4  History, Nonfiction, Biography, Biography & Au...                    0  "
      ]
     },
     "execution_count": 66,
     "metadata": {},
     "output_type": "execute_result"
    }
   ],
   "source": [
    "df.head()"
   ]
  },
  {
   "cell_type": "code",
   "execution_count": 67,
   "metadata": {},
   "outputs": [
    {
     "name": "stdout",
     "output_type": "stream",
     "text": [
      "0       Fiction, Classics, History, Literary Fiction, ...\n",
      "1                                                     NaN\n",
      "2       Fiction, Young Adult, Romance, Mental health, ...\n",
      "3         Fantasy, Science fiction, Dystopian, Paranormal\n",
      "4       History, Nonfiction, Biography, Biography & Au...\n",
      "                              ...                        \n",
      "5082                             Fiction, Science fiction\n",
      "5090                                                  NaN\n",
      "5091                                                  NaN\n",
      "5093                                                  NaN\n",
      "5095                                                  NaN\n",
      "Name: tags, Length: 4308, dtype: object\n"
     ]
    }
   ],
   "source": [
    "header_column = 'tags'\n",
    "\n",
    "if header_column in df.columns:\n",
    "    print(df[header_column])\n",
    "else:\n",
    "    print(f\"Column '{header_column}' not found in the CSV file.\")\n"
   ]
  },
  {
   "cell_type": "code",
   "execution_count": 68,
   "metadata": {},
   "outputs": [
    {
     "name": "stdout",
     "output_type": "stream",
     "text": [
      "Unique values in 'tags':\n",
      "['Fiction, Classics, History, Literary Fiction, Realistic Fiction, Philosophical', nan, 'Fiction, Young Adult, Romance, Mental health, Contemporary', 'Fantasy, Science fiction, Dystopian, Paranormal', 'History, Nonfiction, Biography, Biography & Autobiography, social science, African Americans', 'Fiction, Fantasy, Thriller, Police, Supernatural', 'Fiction, Mystery, Thriller, Murder, Crime', 'Fiction, Fantasy, Adventure, Science fiction, War', 'Fiction, Fantasy, Adventure, Science fiction, War, Magic', 'Fiction, Fantasy, Young Adult, Adventure, History, LGBTQ, Mystery, Juvenile Fiction, Young Adult Fiction, Murder', 'Fiction, Fantasy, Adventure, Classics, Science fiction, Comics, Dystopian, Comics & Graphic Novels, Graphic novels', 'Young Adult, Nonfiction, Biography, Biography & Autobiography, Juvenile Nonfiction, Women, Self-Help, autobiography', 'Fiction, Fantasy, Classics, Literature, Travel, Family, Domestic fiction, Magical Realism', 'History, War, Nonfiction, Mystery, Biography & Autobiography, Thriller, Murder, True crime, Ireland, Historical', 'Fiction, Fantasy, Classics, Suspense, Literary Collections, Horror,  American, English fiction, Foreign Language Study', 'Fiction, Fantasy, Adventure, Science fiction, Juvenile Nonfiction, Thriller, Historical Fiction, Literary Collections, Spanish,  American', 'Nonfiction, Cooking, Food, Cookbook', 'Fantasy, Fiction, Adventure, Classics, Science fiction, War, Young Adult Fiction, Magic, Fantasy fiction, High Fantasy', 'Fiction, Fantasy, Young Adult, Adventure, Science fiction, Romance, War, Juvenile Fiction, Mystery, Young Adult Fiction', 'Fantasy, Adventure, Fiction, Young Adult, Classics, Science fiction, Comics & Graphic Novels, Literature, Spanish', 'Fiction, Fantasy, Young Adult, Science fiction, Romance, Mystery, Short stories, Suspense, Horror', 'Fiction, Fantasy, Adventure, Classics, Science fiction, Dystopian, Mystery, Space, Aliens', 'Fiction, Classics, Romance, Family, English fiction, Domestic fiction, India, French literature', 'Fantasy, Fiction, Adventure, Science fiction, Boys', 'Fiction, Young Adult, Classics, History, Romance, Comics, Nonfiction, Juvenile Nonfiction, Literature', 'Fiction, Adventure, Classics, Comics, Mystery, Comics & Graphic Novels, Thriller, Suspense, Murder, Literary Collections', 'Fantasy, Fiction, Young Adult, Adventure, Science fiction, Mystery', 'Fiction, Young Adult, Juvenile Fiction, Humor', 'Fiction, Fantasy, History, Mystery, Historical Fiction', 'Fiction, Fantasy, Young Adult, Adventure, Classics, Juvenile Fiction, Humor, Baudelaire,  Klaus (Fictitious character)', 'History, Business & Economics, Finance', 'Fiction, Classics, History, Juvenile Nonfiction, Friendship, Women, Historical Fiction, Drama, Literary Fiction, Bildungsromans', 'Fiction, Fantasy, Science fiction, Horror, Journalists', 'Fiction, Fantasy, Adventure, Classics, Science fiction, Dystopian, Space, Cyberculture', 'Fiction, Fantasy, Science fiction, Adventure, War, Space, Aliens, Space Opera', 'Fiction, Fantasy, Adventure, Classics, History, Literary Fiction, Magical Realism, Amnesiacs', 'Fiction, Fantasy, Young Adult, Adventure, LGBTQ, Juvenile Fiction, Magic', 'Fiction, Fantasy, Young Adult, Science fiction, Dystopian, Young Adult Fiction', 'Fiction, Fantasy, Young Adult, Science fiction, Dystopian, Young Adult Fiction, Fantasy fiction', 'Fantasy, Young Adult, War, Young Adult Fiction', 'Fiction, Fantasy, Classics, Science fiction, Dystopian, Space, Aliens, English fiction, Drugs, Hallucinogenic drugs', 'Fiction, Classics', 'Fiction, Fantasy, Young Adult, Adventure, Science fiction, Juvenile Fiction, Romance, Dystopian, Young Adult Fiction, Dystopian', 'Science fiction, Fiction, Fantasy, Adventure, Classics, Space, Aliens', 'Nonfiction, Religion, Philosophy, Psychology, Family & Relationships', 'Fantasy, Fiction, Adventure, Science fiction, Comics, Mystery, Police, Urban Fantasy', 'Fiction, Fantasy, Adventure, Science fiction, War, Space, Aliens', 'Philosophy, Business & Economics, Education, Self-Help, Change (Psychology)', 'Fantasy, Young Adult, Adventure, Science fiction, Space', 'Fantasy, Fiction, Young Adult, Adventure, Science fiction, LGBTQ, Dystopian, Assassins, Grimdark', 'Young Adult, Comics, Romance, Philosophy, Bullies', 'Humor, Mathematics, Crafts & Hobbies, Games & Activities', 'Young Adult, Fiction, Classics, Adventure, Juvenile Fiction, Young Adult Fiction, Friendship, Family, literary criticism', 'Fiction, Fantasy, Adventure, Classics, History, War, Historical Fiction, Adventure stories, British', 'Nonfiction, Religion', 'Fiction, Fantasy, Classics, Comics', 'Classics, Nonfiction, Religion, Self-Help, Art, reference, non-fiction,  artistic, Creation (Literary,  etc.)', \"Fiction, Fantasy, Young Adult, Adventure, Science fiction, Juvenile Fiction, Humor, Children's stories\", 'Fiction, Classics, History, Literature, Good and evil, Russia', 'Nonfiction, Business & Economics, Science, Computers, Mathematics', 'Fantasy, Young Adult, Classics', 'Fiction, Fantasy, Adventure, Classics, Science fiction, Space, Life on other planets', 'Fiction, Fantasy, Young Adult, Adventure, Classics, Science fiction, Mystery, Covenant,  Thomas (Fictitious character)', 'Young Adult, Fiction, Mystery, LGBTQ, Young Adult Fiction, Murder, Application software', 'Fiction, Science fiction, Fantasy, Young Adult, Adventure, Classics, Juvenile Fiction, Science, Thriller', 'Fiction, Fantasy, Young Adult, Adventure, Classics, Science fiction, War, Dystopian, Space, Aliens', 'Fantasy, Adventure, Science fiction, Classics', 'Fiction, Fantasy, Science fiction, Adventure, Classics, History, Time Travel, Black Death', 'Fiction, Fantasy, Young Adult, Adventure, Science fiction, War, Alera (Imaginary place)', 'Fiction, Literature, Friendship, Art', 'Biography, Nonfiction, Biography & Autobiography', 'Fantasy, Young Adult, Fiction, Adventure, Science fiction, Dystopian, Juvenile Fiction, Young Adult Fiction, Thriller, Spanish', 'Fantasy, Adventure, Science fiction, Space', 'Fantasy, Young Adult, Fiction, Adventure, LGBTQ, Magic, Fantasy fiction', 'Fiction, Classics, Adventure, Young Adult, History, Comics, Juvenile Fiction, Juvenile Nonfiction, Comics & Graphic Novels', 'Fiction, Friendship, Literary Fiction, Japan', 'Fantasy, Young Adult', 'Fiction, Fantasy, Young Adult, Adventure, Juvenile Fiction, Romance, Young Adult Fiction, Friendship, Magic, Spanish', 'Fantasy, Science fiction, War, Dystopian, Aliens', 'Fantasy, Fiction, Young Adult, Adventure, Science fiction, Fantasy fiction', 'Fantasy, Adventure, Science fiction', 'Fantasy, Fiction, Young Adult, Adventure, Science fiction, War, Magic, Fantasy fiction', 'Fiction, Young Adult, Classics, Science fiction, Biography, Biography & Autobiography, Women, Children of alchoholics', 'Fiction, Fantasy, Romance', 'Fiction, Fantasy, Adventure, Classics, Science fiction, Dystopian, Space, End of the world, Circumstellar matter', 'Fantasy, Young Adult, Adventure, Classics, Science fiction, Space', 'Fiction', 'Nonfiction, social science', 'Fiction, African Americans, Fathers and sons, Satire', 'Fantasy, Adventure, Science fiction, War, Space', 'History, War, Nonfiction', 'Fiction, Fantasy, Young Adult, LGBTQ, Dystopian, Young Adult Fiction', 'Fiction, Mystery, Murder, Police, Australia, Hole', 'Classics, Biography, Business & Economics, Women, social science, Blue collar workers, Minimum wage', 'Fiction, Fantasy, Classics, Young Adult, Adventure, Science fiction, Children', \"Fiction, Fantasy, Young Adult, Adventure, Classics, Juvenile Fiction, Children, Spanish, Children's stories\", 'Fiction, Fantasy, Young Adult, Adventure, Science fiction, Comics, Comics & Graphic Novels', \"Fiction, Fantasy, Young Adult, Classics, Juvenile Fiction, Spanish, Children's Literature, picture book\", 'History, War, Nonfiction, Biography, Biography & Autobiography, Politics', \"Juvenile Fiction, Children's stories, Adventure stories,  Swiss (German)\", 'Fantasy, Fiction, Classics, Young Adult, Adventure, Science fiction, Short stories, Mythology, High Fantasy, Epic Fantasy', 'History, Nonfiction', 'Fiction, Classics, LGBTQ', 'Fiction, Fantasy, Adventure, Classics, Science fiction, Space, Aliens, Computers', \"Fiction, Classics, Literature, Alzheimer's disease\", 'Fiction, Fantasy, Young Adult, Adventure, Science fiction, Magic, Fantasy fiction', 'Fiction, Adventure, Thriller, Women, Escort services', 'Fiction, Adventure, Classics, LGBTQ, Mystery', 'Fiction, Mystery, Thriller, Suspense, Murder, Women, Police', 'Fiction, Classics, Young Adult, Adventure, Mystery, History, Romance, Literature, Murder', 'Fantasy, Young Adult, Adventure, Science fiction, War, Comics, Dystopian, Comics & Graphic Novels', 'Fiction, Fantasy, Young Adult, Science fiction, Dystopian, Historical Fiction', 'Fiction, Young Adult, Classics, Literature, Broadsides', 'Fiction, Fantasy, Young Adult, Adventure, Science fiction, Romance, Comics, Juvenile Fiction, Graphic novels', 'Fiction, Fantasy, Adventure, Science fiction', 'Fiction, Fantasy, Adventure, Classics, Science fiction, Space, Aliens,  English, Computer games', 'Adventure, Classics', 'Fiction, Fantasy, Science fiction, Mystery, Suspense, Murder', 'Fantasy, Fiction, Science fiction, Young Adult, LGBTQ, Adventure, Mystery, Space, Dystopian, Horror', 'Young Adult, Fiction, Fantasy, Adventure, Science fiction, Dystopian, Juvenile Fiction, Romance, Philosophy, Young Adult Fiction', 'Fiction, Fantasy, Adventure, Science fiction, History, Aliens, Demonology, Intelligence officers, Computer hackers', 'Fiction, Thriller, Suspense, Aircraft accident victims', 'Fiction, Fantasy, Adventure, Science fiction, Space, Alternative histories (Fiction)', 'Biography', 'Fiction, Young Adult, Romance, Family, Families, Bereavement', 'Classics', 'Adventure', 'Fantasy, Young Adult, Adventure, Science fiction, Classics, Aliens', 'Fiction, Fantasy, Young Adult, Adventure, Magic, dragons', 'Fantasy, Young Adult, Young Adult Fiction', 'Biography, Philosophy, Business & Economics, Business', 'Fiction, Classics, Short stories,  American', 'Fiction, Young Adult, Adventure, Science fiction, Thriller, Suspense, Friendship, Horror, Realistic Fiction, Bioengineering', 'Classics, History, War, Biography, Biography & Autobiography, Politics, Presidents', 'Fantasy, Young Adult, Adventure, Classics, Comics', 'Fiction, Classics, Biography, Biography & Autobiography, Family, Family & Relationships, Drama, Grief', 'Fiction, Fantasy, Young Adult, Adventure, History, Romance, Juvenile Fiction, Young Adult Fiction, Dreams', 'Fiction, Fantasy, Criminal investigation', 'Nonfiction, Business & Economics, Mathematics, political science, Algorithms', 'Fiction, Classics, Family, African Americans, African American families, Spanish literature', 'History, African Americans', \"Fiction, Fantasy, Young Adult, Adventure, Classics, Juvenile Fiction, Philosophy, Humor, Poetry, Children's stories\", 'Fiction, Fantasy, Young Adult, Adventure, Magic, Children, Bookbinding', 'Fiction, Science fiction, Fantasy, Young Adult, Adventure, Dystopian, Juvenile Fiction, dystopian, Technology, Action and adventure', 'Nonfiction, Humor, Women, social science, political science, Feminism, Essays', 'Fantasy, Fiction, Science fiction, Young Adult, Adventure, Classics, Juvenile Fiction, Literature', 'Classics, History, Philosophy, Literature, Poetry, literary criticism', 'Fiction, Fantasy, Young Adult, Adventure, Mystery, Murder, Daye,  October (Fictitious character)', 'Fiction, Fantasy, Young Adult, Adventure, Science fiction, Police, Urban Fantasy', 'Fiction, Classics, Young Adult, Romance, Psychology, Women, African Americans, Historical Fiction, reference', 'Fiction, Fantasy, Young Adult, Science fiction, Romance', 'Comics, Comics & Graphic Novels', 'Nonfiction, Murder, True crime, Crime', 'Fantasy, Young Adult, Classics, Juvenile Fiction, Children', 'Classics, History, Biography, Religion, Biography & Autobiography, African Americans', 'Fiction, Fantasy, Young Adult, Adventure, Science fiction, Fantasy fiction', 'Fiction, Murder', 'Politics, political science', 'Fiction, Fantasy, Classics, Science fiction, Dystopian, Psychology, Literature, Literary Collections, Foreign Language Study', 'Fiction, Young Adult, Classics, Romance', 'Fiction, Young Adult, Comics, Comics & Graphic Novels, Family, Graphic novels', 'Fiction, Young Adult, Classics, Nonfiction, Philosophy, Business & Economics, Psychology, Self-Help', 'Fantasy, Adventure, Science fiction, Dystopian', 'Fiction, Classics, Young Adult, Adventure, History, Comics, War, Romance, Mystery', 'Fiction, Fantasy, Adventure, Science fiction, War, Dystopian, Space, Brothers, Emperors', 'Fiction, Young Adult, Classics, Suspense, Chess', 'Fiction, Fantasy, Classics, Science fiction, Dystopian, Science, Mathematics, Literature, Historical Fiction', 'Fiction, Fantasy, Adventure, Classics, Science fiction, Dystopian, Space,  American, Amerikaanse fiksie', 'Fiction, Young Adult, Romance, Mystery, Young Adult Fiction, Friendship, Family, Amnesia', 'Fiction, LGBTQ, Juvenile Nonfiction, Humor', 'Business & Economics, Business', 'Young Adult, Fiction, Adventure, Romance, Young Adult Fiction, Mystery, Murder, Family, Boarding school', 'Science, Nonfiction, Psychology, Health & Fitness, Dreams', 'Nonfiction, Business & Economics, Mathematics, Business, Finance, Chance', 'Fiction, Fantasy, Young Adult, Adventure, Science fiction, History, Comics, Romance, Etiquette', 'Young Adult, Fiction, Fantasy, Adventure, Classics, Juvenile Fiction, Humor, Children, Adventure stories', 'Fiction, Fantasy, Young Adult, Adventure, Classics, Juvenile Fiction, Mystery, Humor, Middle Grade', 'Fiction, Adventure, Historical Fiction, Brothers', 'Fantasy, Young Adult, Adventure, Classics', 'Fantasy, Young Adult, Fiction, Science fiction, Adventure, Classics, Dystopian, Juvenile Fiction, Young Adult Fiction, Middle Grade', 'Fiction, Fantasy, Adventure, Young Adult, Classics, Science fiction, Comics, Humor, Discworld (Imaginary place)', 'Nonfiction, Humor', 'Fiction, Classics, Young Adult, History, Historical Fiction, War, Biography, Religion, Biography & Autobiography', 'Fiction, Fantasy, Classics, Science fiction,  English', 'Biography, Biography & Autobiography', 'Fiction, Fantasy, Young Adult, Adventure, Juvenile Fiction, Dystopian, Young Adult Fiction, Magic, Ability', 'Fiction, Adventure, Fantasy, Science fiction, Dystopian, Travel, Post Apocalyptic, Fathers and sons, Apocalypse', 'Fiction, Young Adult, Juvenile Fiction', 'Fiction, Fantasy, Young Adult, Comics, Comics & Graphic Novels, Graphic novels', 'Fiction, Fantasy, Young Adult, Adventure, Science fiction, Dystopian, Magic, Fantasy fiction', 'Young Adult, Fantasy, Fiction, LGBTQ, Adventure, Juvenile Fiction, Young Adult Fiction, Magic, Boarding school, Coming of Age', 'Fiction, Young Adult, LGBTQ, Juvenile Fiction, Mystery, Young Adult Fiction', 'Nonfiction, Philosophy, Business & Economics, Consumption (Economics), Basic income', 'Fiction, Mystery', \"Fiction, Fantasy, Young Adult, Adventure, Science fiction, Children's stories, Drama,  English, Discworld (Imaginary place), Fantastic fiction\", 'Fiction, Fantasy, Young Adult, Adventure, Classics, Science fiction, Magic, Children, Fantasy fiction', 'Fiction, Adventure, Classics, Young Adult, Juvenile Fiction, Literature, Family, Middle Grade', 'Fiction, Fantasy, Young Adult, Children of the rich', 'Fiction, Fantasy, Young Adult, Young Adult Fiction, Anonymous persons', 'Nonfiction, Biography & Autobiography, Biography, Humor, Medical, Memoir, comedy, autobiography, Health, Anecdotes', 'Fiction, Fantasy, Adventure, Classics, Mystery, Japanese fiction', 'Fiction, Classics, History, War, Literature, English fiction, Realistic Fiction', \"Fiction, Fantasy, Young Adult, Adventure, Classics, Juvenile Fiction, Juvenile Nonfiction, Humor, Spanish, Children's stories\", 'Fantasy, Young Adult, Fiction, Adventure, Mystery, Juvenile Fiction, Dystopian, Young Adult Fiction, Politics', 'Fiction, Young Adult, Fantasy, Science fiction, Adventure, Dystopian, Young Adult Fiction, Spanish, Fantasy fiction, Assassins', 'Fiction, Fantasy, Adventure, Classics, Science fiction, Space, alien', 'Fiction, Romance, Friendship, Computer technicians', 'Fiction, Young Adult, Classics, History, Comics, Nonfiction, Juvenile Nonfiction, Literature, literary criticism, Drama', 'Fantasy, Fiction, Young Adult, Adventure, Science fiction, Juvenile Fiction, Young Adult Fiction, Magic', 'Science fiction', 'Fiction, Travel', 'Nonfiction, Psychology, Business & Economics, social science, Business, Decision making', 'Fiction, Classics,  N.Y.)', 'Fiction, Fantasy, Young Adult, LGBTQ, Comics, Juvenile Fiction, Comics & Graphic Novels, Friendship, Graphic novels', 'Fiction, Fantasy, Young Adult, Adventure, Science fiction, LGBTQ, Magic', 'Young Adult, Classics', 'Fiction, Fantasy, Adventure, Science fiction, LGBTQ, Space, Aliens, Immortalism', 'Philosophy, Business & Economics, Self-Help, Appointment books', 'Fiction, Fantasy, Young Adult, Adventure, Science fiction, Space, Aliens, alien', 'Fantasy, Adventure, Classics, Science fiction, Comics, Comics & Graphic Novels, Literature', 'Fantasy, Young Adult, Adventure, Juvenile Fiction, Juvenile Nonfiction, Magic, Art, Screenplay', 'Nonfiction, Biography, Biography & Autobiography, Juvenile Nonfiction, Women, Memoir, Family, Mental illness, Adult children of dysfunctional families', 'Fiction, Suspense', 'Fiction, Fantasy, Young Adult, Classics', 'Fiction, Fantasy, Mystery, Friendship, Literary Collections, Horror, Accident victims', 'Fiction, Fantasy, Young Adult, Science fiction, LGBTQ, Romance, Dystopian, Magic, Disasters', 'Fiction, Mystery, Murder, Police', 'Fiction, Classics, Philosophy, Friendship, Humorous stories', 'Fantasy, Young Adult, Adventure, Science fiction, Dystopian, Comics', 'Fiction, Fantasy, Adventure, Classics, Science fiction, Dystopian, Space, Life on other planets', 'Fantasy, Adventure, Science fiction, Space, Aliens', 'Fiction, Fantasy, Science fiction, Adventure, Dystopian, Mystery, Space, Aliens, Murder', \"Fiction, Fantasy, Young Adult, Adventure, Science fiction, Juvenile Fiction, Magic, Children's stories, England\", 'Fantasy, Fiction, Classics, Young Adult, Adventure, Science fiction, Magic, High Fantasy', 'Fiction, Young Adult, LGBTQ, Young Adult Fiction, African Americans', 'Fantasy, Young Adult, Science fiction, Dystopian', 'Fiction, Fantasy, Adventure, Science fiction, LGBTQ, Horror, science fantasy', 'Fiction, Adventure, Classics, War, Native Americans, English fiction, Indians of North America', 'Fiction, Fantasy, Science fiction, Young Adult, Adventure, War, Space, Military', 'Fiction, Fantasy, Young Adult, Adventure, LGBTQ', 'Nonfiction, Religion, Rationalism, God', 'Fiction, Fantasy, Science fiction, Young Adult, Adventure, Classics, Comics, Dystopian, Space, Aliens', 'Fiction, Fantasy, Science fiction, Short stories, Horror', 'Fiction, History, Literature, Women, African Americans', 'Fiction, Romance, Women, African Americans, African American families', 'Fiction, Classics, Romance, General, Suspense', 'Fantasy, Fiction, Young Adult, Adventure, Science fiction, Juvenile Fiction, General, Magic, Fantasy fiction', 'Nonfiction, General, Philosophy, Psychology, Self-Help, Attention', 'Fiction, Fantasy, Science fiction, Classics, Dystopian, Religion, Space, Aliens, English fiction', 'Fiction, Fantasy, Adventure, Science fiction, Suspense, Spanish, Arctic regions', 'Fiction, Classics, Romance, Friendship, Deaf people', 'Adventure, Biography, Nonfiction, Biography & Autobiography, General, Travel, Memoir, Feminism', 'Fiction, Fantasy, Adventure, Classics, Science fiction, Juvenile Fiction, Space, Aliens, Spanish', 'Fiction, Classics, Science fiction', 'Fiction, Fantasy, Young Adult, Adventure, Science fiction, Juvenile Fiction, General, Friendship, Family', 'Fiction, Fantasy, Young Adult, Classics, Science fiction, History, Dystopian, Science, Family', 'Fiction, Fantasy, Young Adult, Adventure, Science fiction, City and town life, Cocktail servers', 'History, Psychology, Literature, Science, Egypt', 'Fantasy, Fiction, Young Adult, Adventure, Assassins, High Fantasy', 'Fantasy, Young Adult, Adventure, Juvenile Fiction, Dystopian, Young Adult Fiction, Magic', 'Fiction, Fantasy, Science fiction, Dystopian, Aliens', 'Fiction, Fantasy, Young Adult, Adventure, Science fiction, Mystery, Alchemists', 'Fiction, Fantasy, Young Adult, Adventure, Classics, Science fiction, Comics, Juvenile Fiction, Dystopian, Comics & Graphic Novels', \"Fantasy, Fiction, Adventure, Young Adult, Classics, Science fiction, Comics, Dystopian, General, Children's stories\", 'Fiction, Young Adult, Juvenile Fiction, Romance, Young Adult Fiction', 'Biography, Religion', 'Fiction, Classics, Romance, History, Juvenile Fiction, General, Comics & Graphic Novels, Young Adult Fiction, Literature, Humor', 'History, War, Nonfiction, Biography, Biography & Autobiography', 'Fiction, Adventure, Fantasy, Young Adult, Science fiction, Fantasy fiction, High Fantasy', 'Biography,  American, Humor', 'Fiction, Science fiction, Fantasy, Adventure, Dystopian, Thriller, Suspense, Kidnapping, Kidnapping victims', 'Fantasy, Fiction, Young Adult, Adventure, Juvenile Fiction, General, Friendship, Spanish, Middle Grade', 'Fiction, Adventure, Classics, British, Intelligence service', 'Fiction, Classics, Nonfiction, General, Philosophy, Knowledge, Filozofi', 'Fiction, Fantasy, Young Adult, Adventure, Classics, Science fiction, Dystopian, Humor,  Elizabeth (Fictitious character)', \"Fiction, Fantasy, Young Adult, Adventure, LGBTQ, Juvenile Fiction, Children's stories, Homeless children\", 'Fiction, Fantasy, Young Adult, Science fiction, Juvenile Fiction, Romance, Dystopian, Young Adult Fiction, Spanish, Contests', 'Fantasy, Fiction, Classics, History, LGBTQ, Romance, General, Literature, Travel, Women', 'Fiction, Fantasy, Adventure, Science fiction, War, Betrayal,  1945-', 'Fiction, Fantasy, Young Adult, Science fiction, Cocktail servers', 'Fantasy, Fiction, Young Adult, Adventure, Science fiction, War, Mystery, Fantasy fiction, High Fantasy, Assassins', 'Comics, Biography, Humor, Biography & Autobiography, Philosophy, Memoir', 'Fantasy, Young Adult, Adventure, Science fiction', 'Fiction, Fantasy, Young Adult, LGBTQ, Mystery, Murder, Magic', 'Fiction, Fantasy, Young Adult, Adventure, Science fiction, LGBTQ, Dystopian, Assassins', 'Fiction, Classics, General, Comics & Graphic Novels, Family, Literary Collections, Domestic fiction', 'Fiction, Fantasy, Classics, Science fiction, Adventure, Dystopian,  English', 'Fiction, Young Adult, LGBTQ, Romance', 'Nonfiction, Biography, General, Biography & Autobiography, Family, social science, Memoir, White people', 'Young Adult, Fiction, Romance, College students, Television plays', 'Fiction, Fantasy, Adventure, Classics, Science fiction, History, China', 'Fiction, Romance, Nonfiction, Poetry, Contemporary, adult, Feminism, Mental health', 'Fiction, Fantasy, Adventure, Science fiction, Thriller, Suspense, Adventure stories', 'Fiction, Fantasy, Young Adult, Adventure, Science fiction, Comics, Comics & Graphic Novels, Graphic novels', 'Fantasy, Fiction, Young Adult, Adventure, LGBTQ, Juvenile Fiction, Middle Grade', 'Fiction, Young Adult, Classics, Women', 'Fiction, Fantasy, Adventure, Classics, Suspense, Spanish', 'Fiction, Fantasy, Young Adult, Adventure, Classics, Science fiction, Comics, Dystopian, Comics & Graphic Novels, Graphic novels', 'Fiction, Fantasy, Science fiction, Young Adult, Adventure, Classics, Space, Dystopian, General, Aliens', 'Fiction, Fantasy, Young Adult, Science fiction, Juvenile Fiction, Dystopian, Young Adult Fiction, Murder, Family', 'Fiction, Young Adult, Romance, Young Adult Fiction', 'Young Adult, History, War, Nonfiction, Juvenile Nonfiction, Acculturation', 'Fiction, Fantasy, Science fiction, Young Adult, Adventure, LGBTQ, Space, Aliens', 'Fiction, Fantasy, Young Adult, Adventure, Science fiction, Magic', 'Fiction, Fantasy, Young Adult, Adventure, Science fiction, Discworld (Imaginary place)', 'Fantasy, Fiction, Adventure, Young Adult, Science fiction, English fiction, Urban Fantasy', 'Fiction, Fantasy, Young Adult, General', 'Fiction, Fantasy, Classics, Science fiction, War, Dystopian, Alternative histories (Fiction)', 'Fiction, Romance, Historical Fiction', 'Fiction, Adventure, Thriller, Murder, Political corruption', 'Nonfiction, General, Business & Economics, Psychology, Business, Celebrities', \"Fiction, Fantasy, Young Adult, Adventure, War, Juvenile Fiction, Children's stories,  Australian\", 'Fiction, Fantasy, Young Adult, Adventure, War, Historical Fiction, High Fantasy, Imaginary wars and battles, Grimdark', 'Fiction, Fantasy, Young Adult, Science fiction, Juvenile Fiction, Romance, Dystopian, Young Adult Fiction, Contests', 'Fiction, Young Adult, Classics, General, Humor, Friendship, Women, Literary Collections, England', 'Fiction, Young Adult, Classics, LGBTQ, Religion, Literature, African Americans', 'Fiction, Fantasy, Young Adult, Adventure, Science fiction, Juvenile Fiction, Dystopian, General, Adventure stories', 'Biography, Nonfiction, Biography & Autobiography, Science, Nature, Grief, Falconry', 'Science fiction, Classics, Fiction, Fantasy, Young Adult, Adventure, Comics, Dystopian, General, Literature', 'Fiction, Young Adult, Adventure, Juvenile Fiction, General, Philosophy, Young Adult Fiction, Friendship, Best friends', 'Nonfiction, Self-Help, Body,  Mind & Spirit', 'Fiction, Fantasy, Young Adult, Science fiction, LGBTQ, Romance, Young Adult Fiction', 'Fantasy, Fiction, Young Adult, Adventure, Romance, Young Adult Fiction, Retellings, Characters and characteristics in literature', 'Fiction, Fantasy, Young Adult, Adventure, Science fiction, War, Juvenile Fiction, Romance, Dystopian, Young Adult Fiction', 'Classics, Biography, Biography & Autobiography', 'Fiction, History, Antislavery movements', 'Fiction, Classics, History', 'Fiction, Young Adult, Juvenile Fiction, Friendship', 'Fiction, Fantasy, Young Adult, Adventure, Classics, History, Juvenile Fiction, Juvenile Nonfiction, Philosophy, Literature', 'Fiction, Classics, War, History, Psychology, Historical Fiction, Realistic Fiction, World War,  1939-1945', 'Fiction, Classics, Fantasy, General, Horror, Literature, Gothic Horror, Haunted House', 'Fiction, Young Adult, Classics, History, Comics, War, General, Literature, Friendship, Performing Arts', 'Classics, Fiction, Young Adult, Romance, General, Literature, Humor, Friendship, Historical Fiction, Children', 'Fiction, Fantasy, Classics, Romance, Literature, Family, Magic Realism', 'Fiction, Young Adult, Contemporary, Literary Fiction, Identity (Psychology)', 'Fiction, Fantasy, Adventure, Classics, Science fiction, Space, Aliens,  American, English fiction, alien', 'Fantasy, Fiction, Science fiction, Young Adult, Adventure, Romance, Aliens, Dystopian, General, Literature', 'Biography, Nonfiction, General, Humor,  American', 'Fiction, Young Adult, Classics, History, War, Biography & Autobiography, Literature, literary criticism, communism', 'Nonfiction, Science, Business, Critical thinking', 'Fiction, Young Adult, Adventure, Classics, Juvenile Fiction, Mystery, Humor, Murder, Books and reading, Apartment houses', 'Fiction, Classics, War, LGBTQ, Romance, Friendship, Family', 'History, social science, political science, Ethnic relations', 'Fiction, Fantasy, Classics, Science fiction, General, Family, Carnival owners', 'Fiction, Classics, Young Adult, History, Religion, General, Philosophy, Literature, Spirituality', 'Fiction, Classics, Mystery, Suspense, Women', 'Young Adult, History, Biography, Juvenile Nonfiction, Biography & Autobiography, Space, Mathematics, Women, African Americans', 'Fantasy, Fiction, Classics, Young Adult, Adventure, Science fiction, Comics, Comics & Graphic Novels, Magic, Children', 'Classics, Philosophy, Religion, General, Body,  Mind & Spirit,  Chinese', 'Fiction, Fantasy, Young Adult, Adventure, Science fiction, LGBTQ, Space, Aliens', 'Fiction, Fantasy, Classics, General, Women, witches, Sisters', 'Fiction, Fantasy, Adventure, Science fiction, General, Antiquities', 'Fiction, Classics, LGBTQ, Thriller', 'Fiction, Fantasy, Classics, Science fiction, History, War', 'Fiction, Fantasy, Classics, Science fiction, Dystopian, General,  Classified, Defense information', 'Fiction, Fantasy, Young Adult, LGBTQ, Adventure, Classics, History, War, Romance, Historical Fiction', 'Fiction, Fantasy, Adventure, Science fiction,  American, Fantasy fiction', 'Adventure, Nonfiction, Humor, Travel', 'Fiction, Fantasy, Classics, Science fiction, Young Adult, History, Dystopian, Romance, General, Psychology', 'Fiction, Classics, Biography & Autobiography, Philosophy, Existentialism', 'Fiction, Fantasy, Young Adult, Adventure, Science fiction, War, Magic, Fantasy fiction', 'Fiction, Fantasy, Young Adult, Adventure, Science fiction, Dystopian, Young Adult Fiction, Adventure stories', 'Fiction, Classics, History, War, Literature, Women, Geishas', 'Fantasy, Fiction, Young Adult, Adventure, Classics, Science fiction, General, Literature, Magic, Fantasy fiction', 'Fiction, Classics, Young Adult, Family, Drama, Siblings, Plays', 'Fiction, Fantasy, Science fiction, Adventure, Dystopian', 'Classics, Nonfiction, Language Arts & Disciplines, Books and reading', 'Fantasy, Fiction, Young Adult, Adventure, Juvenile Fiction, General, Juvenile Nonfiction, Young Adult Fiction, Spanish, Fantasy fiction', \"Fiction, Fantasy, Young Adult, Adventure, Classics, Juvenile Fiction, Humor, Children's stories,  English, Middle Grade\", 'Classics, Biography, Family, Family & Relationships, Brothers', 'Fiction, Fantasy, Young Adult, Adventure, Classics, Juvenile Fiction, Magic, Children, Spanish, Fairy tales', 'Fiction, Young Adult, Mystery, Young Adult Fiction, Friendship, Spanish, Contemporary, Anxiety disorders', 'Biography, Nonfiction, Biography & Autobiography, social science, Women', 'Science fiction, Fiction, Fantasy, Classics, Young Adult, Adventure, History, Comics, Juvenile Fiction, Mystery', \"Fantasy, Fiction, Young Adult, Adventure, Science fiction, War, Young Adult Fiction, Magic, Children's stories\", 'Fantasy, Fiction, Adventure, LGBTQ, Science fiction, Magic', 'Fiction, Fantasy, Young Adult, Adventure, Science fiction, Assassins', 'Fiction, Classics, LGBTQ, Romance, General, Psychology, Literature, African Americans', 'Young Adult, Fiction, Fantasy, Dystopian, Science fiction, Adventure, Classics, War, Juvenile Fiction, Romance', 'Fiction, Classics, Fantasy, Young Adult, Adventure, History, Comics, Juvenile Fiction, Literature, General', 'Fiction, Young Adult, Classics, Businesswomen, Fashion editors', 'Fantasy, Fiction, Adventure, Science fiction, Dystopian, Horror, Demoniac possession', 'Fiction, Fantasy, Adventure, Science fiction, War, LGBTQ, Space, Aliens', 'Fantasy, Adventure, Fiction, Fantasy fiction, Read 2023', 'History, War, Nonfiction, Politics, United States', 'Fantasy, Fiction, Adventure, Young Adult, War, Magic, Fantasy fiction, Epic Fantasy, High Fantasy, Polish language materials', 'Fiction, Classics, Science fiction, Dystopian, General, Humor, Friendship, Family, Addicts', 'Nonfiction, Health & Fitness', 'Fiction, Fantasy, Adventure, Science fiction, Literature, Paranormal', 'Fiction, Fantasy, Romance, English fiction, Erotic stories', 'Fiction, Classics, Comics, Mystery, Romance, Literature, Suspense, Travel, Historical Fiction', 'Fiction, Fantasy, Young Adult, Adventure, Magic, Fairy tales, Retellings', 'Fiction, Fantasy, Science fiction, Adventure, LGBTQ, Space, Dystopian, Aliens, Murder, Ambassadors', 'Fiction, Fantasy, Adventure, Science fiction, History, War, Romance, Historical Fiction', 'Fiction, Fantasy, Adventure, Classics, Science fiction, Dystopian, Suspense', 'Fiction, Fantasy, Young Adult, Adventure, Science fiction, War, dragons', 'Fiction, Classics, History, Nonfiction, War, Philosophy, Romance, Biography, General, political science', 'Computers', 'Fiction, Fantasy, Young Adult, Adventure, Science fiction, Juvenile Fiction, Dystopian, General, Young Adult Fiction', 'Fiction, Classics, History, War, Romance, Historical Fiction, Australian fiction', 'Philosophy, Psychology, Self-Help', 'Fiction, Fantasy, Young Adult, Adventure, Science fiction, Urban Fantasy', 'Fiction, Fantasy, Adventure, Classics, Science fiction, General, Space,  American, Life on other planets', 'Fiction, Fantasy, Science fiction, General, Aliens, Short stories,  American', 'Fiction, Fantasy, Science fiction, Adventure, LGBTQ, War, General, Space, Aliens', 'Fiction, Fantasy, Science fiction, LGBTQ, Suspense, Castle Rock (Me. : Imaginary place)', 'Nonfiction, Biography & Autobiography, Literature, Memoir, Language Arts & Disciplines, reference, non-fiction', 'Young Adult, History, Classics, War, Nonfiction, General', 'Young Adult, Fiction, Fantasy, Science fiction, Adventure, War, Juvenile Fiction, Dystopian, Space, Aliens', 'Fiction, Fantasy, Young Adult, Adventure, Science fiction, Dystopian, Space, Aliens', 'Fiction, Fantasy, Adventure, Classics, Science fiction, Space, Aliens, alien, Interplanetary voyages', 'Fiction, Classics, LGBTQ, Romance, General, Women, Biography & Autobiography,  artistic,  etc.), Creation (Literary', 'Fiction, Romance', 'Fantasy, Fiction, Young Adult, Adventure, Romance, Young Adult Fiction, Action, Enemies to lovers', 'Fiction, Fantasy, Classics, Adventure, History, General, Juvenile Nonfiction, Thriller, Historical Fiction, Suspense', 'Fiction, Young Adult, Family', 'Fiction, Fantasy, Adventure, Science fiction, LGBTQ, Dystopian, Space, Aliens', 'Fantasy, Fiction, Young Adult, Adventure, Comics & Graphic Novels, Urban Fantasy, Paranormal romance', 'Fantasy, Fiction, Young Adult, Adventure, Science fiction, Mystery, Chicago (Ill.)', 'Fantasy, Fiction, Classics, Young Adult, Adventure, Comics, Juvenile Fiction, Friendship, Magic, Children', 'Fiction, Fantasy, Young Adult, Adventure, Classics, History, Comics, Juvenile Fiction, Romance, General', 'Fantasy, Young Adult, Fiction, Science fiction, Romance, Juvenile Fiction, Dystopian, Young Adult Fiction', 'Fiction, Fantasy, Adventure, Science fiction, Mystery, Juvenile Nonfiction, Thriller, Adventure stories', 'Fantasy, Fiction, Science fiction, Young Adult, Adventure, LGBTQ, Space, Spanish,  American', 'Fiction, Mystery, Thriller, Literature', 'Fiction, Fantasy, Young Adult, Adventure, Classics, Science fiction, Christmas, Christmas stories, Discworld (Imaginary place), Books', 'Fantasy, Fiction, Young Adult, Adventure, Science fiction, Juvenile Fiction, General, Young Adult Fiction, Magic, Spanish', 'Religion, General, Philosophy, Psychology, Ethics', 'Fiction, Fantasy, Science fiction, Dystopian', 'Fiction, Fantasy, Young Adult, Adventure, LGBTQ, Romance, Magic, High Fantasy, adult, Assassins', 'Fiction, Mystery, Thriller, Murder', 'Nonfiction, Travel', 'Fiction, Fantasy, Science fiction', 'Fiction, Fantasy, Science fiction, Adventure, Historical Fiction, Aging', 'Fiction, Thriller, Suspense, Coma', 'Fiction, Fantasy, Young Adult, Classics, Science fiction', 'Fiction, Fantasy, Young Adult, Adventure, Classics, Science fiction, Juvenile Fiction, General, Juvenile Nonfiction, Young Adult Fiction', 'Fantasy, Fiction, Adventure, Young Adult, Science fiction, War, Dystopian, Young Adult Fiction, Magic, Epic Fantasy', 'Fiction, Young Adult, Classics, Historical Fiction, War, Romance, General, Literature, Soviet Union', 'Biography, Biography & Autobiography, Philosophy, Humor, social science, Women', 'Fiction, Classics, Science fiction, Dystopian, General, Literature', 'Fiction, Fantasy, Adventure, Classics, LGBTQ, War, Comics, Romance, Humor, Artists', 'Fiction, History, Romance, Dystopian, Juvenile Nonfiction, Thriller, Korea (North), Defection', 'Young Adult, Adventure, History, War, Romance, Biography, Mystery, Juvenile Nonfiction, Thriller, Murder', 'Psychology, Computers, Guilt', 'Fiction, Fantasy, Science fiction, Adventure, Classics, Comics, Mystery, General, Fantasy fiction', 'Fiction, Young Adult, Classics, Literature, Mental illness', 'Fiction, Classics, Literature', 'Fiction, Fantasy, Young Adult, Adventure, Science fiction, Juvenile Fiction, Mystery, General, Young Adult Fiction, Magic', 'Fiction, Fantasy, Adventure, Science fiction, General, Space', 'Fiction, Adventure, Thriller', 'Fantasy, Fiction, Young Adult, Adventure, Dystopian, Urban Fantasy', \"Fantasy, Fiction, Young Adult, Adventure, LGBTQ, Juvenile Fiction, General, Children's stories, Fantasy fiction, Middle Grade\", 'Young Adult, Adventure, Fiction, Fantasy, Science fiction, Dystopian, Juvenile Fiction, Young Adult Fiction, Friendship, Amnesia', 'Fantasy, Fiction, Adventure, Classics, Science fiction, Space, Philosophy, Literature, Buddhist gods', 'Young Adult, Fiction, Fantasy, Adventure, Science fiction, Dystopian, Juvenile Fiction, Romance, Young Adult Fiction, Family', 'Biography, Nonfiction, Space, Biography & Autobiography, Science, Business, Technology & Engineering, Technology', 'Fiction, Fantasy, Young Adult, Adventure, LGBTQ, Juvenile Fiction, Magic, Dreams', 'Fiction, Fantasy, Adventure, Classics, Science fiction, Dystopian, Space,  American', 'Fiction, Fantasy, Young Adult, Adventure, Science fiction, War, Juvenile Fiction, Dystopian, Aliens, Young Adult Fiction', 'Fantasy, Fiction, Classics, Young Adult, Adventure, Juvenile Fiction, General, Juvenile Nonfiction, Magic, Children', 'Fiction, Fantasy, Young Adult, Adventure, Juvenile Fiction, Young Adult Fiction', 'Fiction, Fantasy, Young Adult, Adventure, Science fiction, Comics, Mystery, Literature, Police, Fantasy fiction', 'Fiction, Fantasy, Science fiction, Adventure, LGBTQ, Space, Aliens', 'Fiction, Fantasy, Adventure, Classics, Science fiction, Space, Aliens', 'Adventure, Nonfiction, Biography, Biography & Autobiography, Philosophy, Women, Travel, Memoir, India', 'History, Nonfiction, Philosophy, Business & Economics, social science, Cooking, Nature, Veganism', 'Classics, General, Philosophy, Education, Mathematics, Artificial Intelligence, Art and music, Artificial intelligence., Denken', 'History, Nonfiction, Science, Medical, Language Arts & Disciplines, Dead', 'Fiction, Fantasy, Young Adult, Adventure, Classics, Juvenile Fiction, Literature, Humor, Friendship, Family', 'Fiction, Fantasy, Young Adult, Adventure, Science fiction, Juvenile Fiction, Humor', 'Biography, Biography & Autobiography, Family, social science, African Americans, African American authors', 'Nonfiction, General, Business & Economics, social science, Bureaucracy', 'Young Adult, Fiction, LGBTQ, Romance, Young Adult Fiction, Friendship, Spanish, Mental health, Blogs', 'Classics, Romance, Nonfiction, Psychology, Family & Relationships, Energy policy, Feminist ethics', 'Classics, Nonfiction, Business, Computers, Computer Science', 'Fiction, Romance, Historical Fiction, England', 'Fiction, Fantasy, Young Adult, Adventure, Classics, General, Self-Help, Gulls', 'Fiction, Classics, History, General, Families, United States', 'Fantasy, Fiction, Young Adult, Adventure, Science fiction, High Fantasy', 'Fiction, Fantasy, Classics, Adventure, Young Adult, Science fiction, Comics, Juvenile Fiction, Philosophy, General', 'Adventure, Classics, Biography & Autobiography, Travel, social science', 'Fiction, Fantasy, Young Adult, Adventure, Classics, Comics, Juvenile Fiction, Friendship, Children, Folklore', 'Fiction, Science fiction, Family, Domestic fiction', 'Fiction, Young Adult, Adventure, Classics, History, General, Literature, Humor, Friendship, Travel', 'Fiction, Classics, History, Accident victims', 'Fiction, Young Adult, Fantasy, Adventure, Classics, Juvenile Fiction, Mystery, General, Juvenile Nonfiction, Literature', 'Science fiction, Comics, Science, Mathematics, Humor, Curiosities and wonders', 'Fiction, Classics, History, General, Literature, Literary Collections, Apartment houses', 'Fiction, Fantasy, Adventure, Science fiction, War, Space, Aliens, Corporations, Arms race', 'Fiction, Fantasy, Young Adult, Adventure, Science fiction, Dystopian, Mystery, Suspense, Books and reading', 'Fiction, Classics, History, Romance, England, Biographers', 'Fantasy, Fiction, Young Adult, Adventure, Science fiction, Mystery, Brothers', 'Fiction, Fantasy, Young Adult, Adventure, Classics, Science fiction, Juvenile Fiction, Young Adult Fiction, Magic, Fantasy fiction', 'Fiction, Fantasy, Young Adult, Adventure, LGBTQ, Young Adult Fiction, Magic', 'Fantasy, Fiction, Science fiction, LGBTQ, Novella', 'Fiction, Classics, Young Adult, History, Biography, Nonfiction, Literature, Drama, Realistic Fiction, Plays', 'Fiction, Fantasy, Adventure, War', 'Fiction, Fantasy, Young Adult, Adventure, Classics, Science fiction, Magic, Fantasy fiction, Xanth (Imaginary place)', 'Fiction, Classics, Japan', 'Fantasy, Young Adult, Adventure, Fiction, Science fiction, Alchemy, science-fiction', 'Fiction, Young Adult, History, War, Young Adult Fiction, Concentration camps, Labor camps', 'Fiction, Friendship', 'Fiction, Fantasy, Young Adult, Adventure, Classics, Science fiction, General, Arthurian romances', 'Fiction, Fantasy, Science fiction, Dystopian, Space, Aliens', 'History, Nonfiction, Salt', 'Fiction, Young Adult, Adventure, Family, Antarctica', 'Fiction, Fantasy, Young Adult, Adventure, Classics, Children, Adventure stories', 'Fiction, Classics, Fantasy, Young Adult, Science fiction, History, War, Dystopian, General, Literature', 'Fantasy, Young Adult, Fiction, Adventure, Science fiction, Dystopian, Romance, Young Adult Fiction, Siblings', 'Young Adult, Fiction, Fantasy, LGBTQ, Comics, Romance, Young Adult Fiction', 'Fiction, Fantasy, Classics, Young Adult, Science fiction, Dystopian, Juvenile Nonfiction, Short stories, literary criticism, Realistic Fiction', 'Fiction, Adventure, Fantasy, Classics, Science fiction, Juvenile Fiction, Mystery, Thriller, General, Juvenile Nonfiction', 'Fiction, Fantasy, Young Adult, Adventure, Classics, Juvenile Fiction, Juvenile Nonfiction, Poetry, Humor, Children', 'Young Adult, Classics, Comics, History, Nonfiction, Graphic novels', 'Fantasy, Fiction, Classics, Young Adult, Adventure, Juvenile Fiction, General, Magic, Children, Spanish', 'Adventure, Classics, Biography, Biography & Autobiography, General, Arches National Park (Utah)', 'Fiction, Classics, War, Historical Fiction', 'Fiction, Classics, Young Adult, History, Comics, Juvenile Fiction, Nonfiction, General, Literature, Drama', 'Fantasy, Young Adult, Adventure, Classics, Science fiction', 'Fantasy, Fiction, Science fiction, Mystery, Thriller, Suspense, Murder, Balls (Parties)', \"Fiction, Fantasy, Young Adult, Adventure, Science fiction, Juvenile Fiction, Children's stories, Fairies\", 'Fiction, Fantasy, Young Adult, Adventure, Juvenile Fiction, Magic', 'Fantasy, Adventure, Science fiction, Comics, Dystopian', 'Fiction, Mystery, Thriller, Contemporary, Alcoholics', 'Fiction, Mystery, General, Thriller, Suspense, Murder, Children, Domestic fiction, Abduction, Brennan', 'Fiction, Fantasy, Adventure, Classics, Science fiction, Romance, Space, Aliens, Literature, Historical Fiction', 'Fiction, Fantasy, Science fiction, Dystopian, Aliens, Suspense, Literature, Cannibalism', 'Fiction, Science fiction, Fantasy, Young Adult, Classics, Dystopian, War, Literature, Friendship, Women', 'Fiction, Fantasy, Young Adult, Adventure, Juvenile Fiction, Young Adult Fiction, Magic', 'Fiction, Fantasy, Science fiction, History, War, Mystery, Suspense, Humor, Alternative histories (Fiction)', 'Science, Nonfiction, Space, Astronomy, Astrophysics', 'Fiction, Fantasy, Classics, Young Adult, Adventure, Science fiction, History, War, Juvenile Fiction, Dystopian', 'Fiction, Fantasy, Young Adult, Adventure, Classics, Science fiction, Comics, Comics & Graphic Novels, Literature, Graphic novels', 'Fiction, Fantasy, Adventure, Classics, Science fiction, Dystopian, War, Post Apocalyptic', 'Fiction, Fantasy, Adventure, Young Adult, Classics, Science fiction, General, Magic, Literary Collections, Discworld (Imaginary place)', 'Fiction, Fantasy, Adventure, Science fiction, War, Magic, Battles', 'Young Adult, Classics, History, War, Comics, Nonfiction, Biography, Biography & Autobiography, Comics & Graphic Novels, Politics', 'Fiction, Classics, General, English fiction, Butterflies', 'Young Adult, LGBTQ, Juvenile Fiction, Mystery, Young Adult Fiction', 'Fiction, Fantasy, Young Adult, Adventure, Science fiction, Juvenile Fiction, Dystopian, General, Young Adult Fiction, Magic', 'Fantasy, Fiction, Young Adult, Adventure, Science fiction, Mystery, Magic, Imaginary places', 'Nonfiction, Science, Self-Help, Writing, Productivity, Personal Development, Academic writing', 'Fiction, Fantasy, Young Adult, Adventure, Classics, Science fiction, Dystopian, Space, Life on other planets', 'Fiction, Fantasy, Science fiction, Young Adult, Adventure, Classics, War, Dystopian, Space, Aliens', 'Fiction, Classics, History, War, Romance, Literature, Butlers', 'Fiction, Fantasy, Young Adult, Adventure, Classics, History, War, Romance, Folklore, Literary Collections', 'Fiction, Young Adult, Fantasy, History, Mystery, Romance, Young Adult Fiction, Historical Fiction', 'Fiction, Classics, Mystery, General, Psychology, Suspense, Detective and mystery stories, Horror, Government investigators', 'Fiction, Fantasy, Young Adult, Adventure, Classics, Science fiction, Juvenile Fiction, Magic, Children, England', 'Fiction, Classics, Adventure, Historical Fiction, Western, Cowboys', 'Fiction, Adventure, General, Suspense, autobiography', 'Fiction, Fantasy, Young Adult, Adventure, Science fiction, War', 'Fiction, Classics, Education, Russian fiction', 'Fantasy, Adventure, Fiction, Classics, Young Adult, Science fiction, History, War, Juvenile Fiction, Biography', 'Fiction, Thriller, Family, Family secrets, Missing persons', 'History, Classics, War, Nonfiction, General,  China, Nan-ching shih (China), Nanjing (Jiangsu Sheng', 'Fiction, Classics, Poetry', 'Biography, Politics', 'Fantasy, Classics, History, Religion, literary criticism, apologetics', 'Fiction, Fantasy, Young Adult, Adventure, Classics, Science fiction, Comics, Juvenile Fiction, Romance, Comics & Graphic Novels', 'Fiction, History, War, Historical Fiction, Prisoners of war, Burma', 'Fiction, Fantasy, Young Adult, Adventure, War, Magic, High Fantasy, Historical Fantasy, Grimdark', 'Young Adult, Fiction, Fantasy, Adventure, Science fiction, Dystopian, Young Adult Fiction, Contests', 'Fiction, Classics, History, Romance, General, Literature, Historical Fiction, England', 'Young Adult, Fiction, Fantasy, Adventure, Science fiction, Romance, Comics, LGBTQ, Juvenile Fiction, Dystopian', 'Fantasy, Fiction, Young Adult, Adventure, Science fiction, War, Romance, Dystopian, Juvenile Fiction, Young Adult Fiction', 'Fiction, Fantasy, Young Adult, Adventure, Science fiction, War, General, Magic, Fantasy fiction, dragons', 'Fiction, Fantasy, Young Adult, Adventure, Classics, Spanish', 'Fiction, Young Adult, Classics, Biography, Science, General, Biography & Autobiography, Literature, Women, Alcoholics', 'Fiction, Mystery, Suspense, Forensic Science', 'Nonfiction, Business & Economics, Business, Self-Help, Finance', 'Fiction, Classics, War, Historical Fiction, Middle East', 'Fiction, Fantasy, Young Adult, Adventure, Science fiction, Juvenile Fiction, Literature, Magic', 'Nonfiction, Business, Business & Economics, Finance', 'Fiction, Fantasy, Young Adult, Adventure, Juvenile Fiction, Humor, Baudelaire,  Klaus (Fictitious character)', 'Fiction, Fantasy, Adventure, Science fiction, War, Dystopian, General, Humor, Horror, Best sellers', 'Fiction, Spanish, Realistic Fiction, City and town life, Dark Comedy', 'Fiction, Fantasy, Young Adult, Adventure, Science fiction, Dystopian, War, Juvenile Fiction, Aliens, Young Adult Fiction', 'Fiction, Young Adult, LGBTQ, Romance, General, Contemporary, Coming of Age, Bildungsromans, Adult Fiction, Gay teenagers', 'Fiction, Fantasy, Young Adult, Adventure, Science fiction, LGBTQ, Dystopian, Young Adult Fiction', 'Fiction, Classics, History, War, Romance, Women', 'Fiction, Classics, Family', 'Fiction, Fantasy, Science fiction, Adventure, Classics, War, Space, Aliens, Imaginary wars and battles, Space warfare', 'Nonfiction, Business & Economics, Psychology, Business', 'Fiction, Science fiction, Fantasy, Adventure, Space, War, General, Aliens, Space Opera, Military Fiction', 'Fantasy, Adventure, Fiction, Young Adult, Science fiction, Magic, Assassins, quest', 'Fiction, Classics, Young Adult, Fantasy, Comics, Juvenile Fiction, General, Juvenile Nonfiction, Comics & Graphic Novels, Historical Fiction', \"Fiction, Fantasy, Young Adult, Classics, Juvenile Fiction, Poetry, Juvenile Nonfiction, Spanish, Children's poetry\", 'Fantasy, Science fiction, Classics, Dystopian, Aliens', 'Fiction, Classics, Dystopian, Literary Collections, English fiction, Epidemics, Algeria', 'Fiction, Fantasy, Young Adult, Adventure, Science fiction, Dystopian, General, Juvenile Nonfiction, Suspense, Horror', \"Fantasy, Young Adult, Fiction, Science fiction, Adventure, Juvenile Fiction, Friendship, Children's Literature\", 'Fiction, Fantasy, Science fiction, Dystopian, Identity (Psychology)', 'Fiction, Fantasy, Young Adult, Classics, Science fiction, Dystopian, General, African Americans', 'Fiction, Fantasy, Young Adult, Adventure, Classics, Science fiction, Dystopian, General, Education, Literary Collections', 'Adventure, War', 'Fiction, Fantasy, Adventure, Classics, Science fiction, Comics, Dystopian, Mystery, Police,  etc', 'Fiction, Fantasy, Young Adult, Adventure, Science fiction, Literature, Drama, Discworld (Imaginary place)', 'Fiction, Fantasy, Young Adult, Adventure, Science fiction, Madison (Wis.)', 'Fantasy, Young Adult, Adventure, Fiction, Romance, War, Young Adult Fiction, Friendship, Murder, Magic', 'Fiction, Classics, History, Juvenile Nonfiction, Historical Fiction, Great Britain,  Thomas,  1485?-1540,  Earl of Essex', 'Fiction, Fantasy, Science fiction, Young Adult, Adventure, Classics, General, Space, Aliens, Humor', 'Fiction, Fantasy, Young Adult, Science fiction, Juvenile Fiction, Romance, Dystopian, Young Adult Fiction', 'Nonfiction, Biography & Autobiography, Business & Economics, Business', 'Fiction, Fantasy, Classics, Science fiction, Horror', 'Fiction, Fantasy, Adventure, Classics, History, Religion, General, Short stories, Horror, Christmas', 'Classics, Fiction, History, Philosophy, Biography, Nonfiction, Religion, Biography & Autobiography, General, Psychology', 'Fiction, Fantasy, Young Adult, Juvenile Fiction, Friendship, Angels', 'Science fiction, Adventure, Fiction, Fantasy, War, Young Adult, Classics, Aliens, Space, Juvenile Fiction', 'Fiction, Fantasy, Adventure, Science fiction, Dystopian, Fantasy fiction, Imaginary wars and battles', 'Fiction, Fantasy, Young Adult, Thriller, Humor, Friendship, Horror, Paranormal, Supernatural', 'Young Adult, LGBTQ, Juvenile Fiction, Young Adult Fiction', 'Fantasy, Fiction, Young Adult, Adventure, Comics, Juvenile Fiction, General, Juvenile Nonfiction, Suspense, Friendship', 'Fantasy, Classics, Science fiction, War, Dystopian', 'Fantasy, Fiction, Adventure, Science fiction, Mystery, Comics, Murder, Police, Detective and mystery stories, Urban Fantasy', 'Fiction, Fantasy, Young Adult, Adventure, Mystery, Young Adult Fiction, Spanish', 'Fiction, Detective and mystery stories,  Dutch', 'Fantasy, Adventure, Fiction, Young Adult, Juvenile Fiction, Young Adult Fiction, Foreign Language Study, Mythological', 'Fiction, Fantasy, Classics, Science fiction', 'Fiction, Fantasy, Young Adult, Adventure, Comics, Romance, Juvenile Fiction, Magic, Spanish, Fairies', 'Fiction, Classics, Romance, General, literary criticism, English fiction, British,  1900-1945 - Texts', 'Fiction, Fantasy, Classics, Young Adult, Adventure, History, War, Juvenile Fiction, Literature, Poetry', 'Biography, Science', 'Fiction, Mystery, Thriller, Suspense, Psychological thriller', 'Fantasy, Fiction, Young Adult, Adventure, Science fiction, Dystopian, Fantasy fiction', 'Classics, General, Murder, social science, True crime', 'Fiction, Classics, LGBTQ, General, African Americans, Historical Fiction', 'Fiction, Fantasy, Young Adult, Adventure, Juvenile Fiction, Young Adult Fiction, Friendship', 'Fiction, Mystery, Thriller, Suspense, Police, Kidnapping, Private schools', 'Fiction, Classics, LGBTQ, General, Friendship, African Americans, Historical Fiction, Foreign Language Study', 'Fiction, Classics, Mystery, LGBTQ, General, Murder, Thriller, Friendship, Spanish, Crime', 'Fiction, Fantasy, Adventure, Science fiction, Dystopian, Space, Literary Collections', 'Fiction, Fantasy, Young Adult, Adventure, Romance, Juvenile Fiction, Young Adult Fiction, Artists', 'Fiction, LGBTQ, Literary Fiction, Realistic Fiction', 'Fiction, Fantasy, Young Adult, Adventure, Science fiction, Dystopian, Young Adult Fiction, Friendship,  Personal, Beauty', 'Fiction, Classics, Romance, Literature, English fiction, Realistic Fiction, Children of the rich', 'Fantasy, Classics', 'Classics, Young Adult, Literature, Foreign Language Study', 'Young Adult, Fiction, Adventure, Fantasy, Science fiction, Comics, Dystopian, Juvenile Fiction, Romance, Young Adult Fiction', 'Fiction, Classics, Literature, Literary Fiction', 'Fiction, Classics, Literature, Travel', 'Nonfiction, Science, Nature, Disasters', 'Nonfiction, Science, Business & Economics, Critical thinking', 'Fiction, Classics, Romance', 'Nonfiction, True crime, Crime', 'Fiction, Classics, Young Adult, History, Nonfiction, Religion, Drama, England, Realistic Fiction', 'Fiction, Fantasy, Young Adult, Adventure, Classics, Science fiction, General, Women, literary criticism, Adventure stories', 'Classics, General, Philosophy, Business & Economics, Psychology, Self-Help, Family & Relationships', 'Fiction, Fantasy, Young Adult, LGBTQ, Juvenile Fiction, Juvenile Nonfiction, Young Adult Fiction, Family, Spanish', 'Fantasy, Fiction, Science fiction, Mystery, Magic, Magical Realism, Curiosities and wonders, Magic Realism', 'Young Adult, Fiction, Fantasy, Dystopian, Adventure, Science fiction, War, Juvenile Fiction, Romance, Young Adult Fiction', 'Fiction, Classics, Young Adult, Adventure, General, Juvenile Nonfiction, Family, Historical Fiction', 'Fiction, Fantasy, Science fiction, Dystopian, Suspense, Thriller', 'Fiction, Fantasy, Classics, Young Adult, Mystery, Juvenile Fiction, General, Literature, Murder, Horror', 'Fiction, Adventure, Classics, History', 'Adventure, Classics, Travel', 'Fantasy, Adventure, Fiction, Young Adult, Classics, Science fiction, Magic', 'Fiction, Fantasy, Thriller, Murder, Horror', 'Fiction, Classics, LGBTQ, Juvenile Nonfiction, Friendship, Families', 'Fiction, Fantasy, Young Adult, Adventure, Classics, Science fiction, Space, Aliens, Christian Fiction', 'Fiction, Classics, Nonfiction, Biography, Biography & Autobiography, General, Memoir, Language Arts & Disciplines, reference,  American', 'Fiction, Classics, History, Historical Fiction, Aristocracy (Social class)', 'Fiction, Fantasy, Young Adult, Adventure, Science fiction, Juvenile Fiction, Dystopian, Space, Aliens, Young Adult Fiction', 'Fiction, Fantasy, Young Adult, Adventure, Science fiction, War, Juvenile Fiction, Dystopian, Adventure stories, Cities and towns', 'LGBTQ, Biography, Biography & Autobiography, Family,  English', 'Fiction, Mystery, Thriller, Suspense, Travel, Drama', 'Fantasy, Fiction, Adventure, Young Adult, Science fiction, Mystery, Magic, Horror, Urban Fantasy', 'History, War, Nonfiction, Philosophy, Business & Economics, Capitalism', 'Fiction, History, Mystery, Juvenile Nonfiction, Murder, Middle East,  2001-', 'Fantasy, Young Adult, Adventure, Fiction, War, Romance, Juvenile Fiction, Young Adult Fiction, Magic, High Fantasy', 'Fiction, Foster home care', 'History, Adventure, Classics, Nonfiction, Biography & Autobiography, Shipwreck survival', 'Fiction, Fantasy, Classics, Dystopian, General, Literature, Castles, Allegories', 'Fiction, Fantasy, Classics, Science fiction, Dystopian, Space, Aliens, alien', 'Fiction, Fantasy, Science fiction, Mystery, Thriller, Murder, Children', 'History, War, Nonfiction, political science, Intelligence service, Islam and politics', 'Business & Economics, Spanish, Finance,  Personal', 'Fiction, Fantasy, Adventure, History, War, Arthurian romances', 'Fiction, Classics, LGBTQ, Romance, Mystery, Lesbians', 'Young Adult, Classics, History, Biography, Nonfiction, Biography & Autobiography, General, Women,  American', 'Fantasy, Young Adult, Adventure, Fiction, Science fiction, LGBTQ, Juvenile Fiction, General, Young Adult Fiction, Thriller', 'Fiction, Fantasy, Adventure, Science fiction, Dystopian, Space', 'Fantasy, Young Adult, Adventure, Adventure stories', 'Fiction, Fantasy, Young Adult, Adventure, Science fiction, Magic, Children, Adventure stories', 'Fiction, Fantasy, Classics, General, Religion, Psychology, Mythology, Archetype (Psychology)', 'Fiction, Adventure, Classics, History, War, Literature, Humor', 'Fiction, Classics, Young Adult, Adventure, History, Comics, War, Juvenile Fiction, General, Juvenile Nonfiction', 'History, Romance, Humor', 'Fiction, Mystery, Thriller, Suspense, Realistic Fiction', 'Fiction, Fantasy, Classics, Young Adult, History, Romance, Drama, Plays', 'Science fiction, Fiction, Fantasy, Young Adult, Adventure, Classics, Juvenile Fiction, Space, Dystopian, Science', 'Young Adult, Fiction, Fantasy, Juvenile Fiction, Young Adult Fiction, Literature, Family', 'Fiction, Classics, Romance, Literature, Contemporary, Literary Fiction', 'Fiction, War, Romance, Cities and towns', 'Nonfiction, History, General, Psychology, Business, Business & Economics, Decision making', 'Fiction, Fantasy, Women', 'Nonfiction, Business & Economics, Business, Self-Help, Technology, non-fiction, Information technology', 'Fiction, Suspense, Women, relationships, Betrayal', 'Fiction, Science fiction, Fantasy, Adventure, Dystopian, Mystery, General, Suspense, Discoveries in geography', 'Fiction, Young Adult, LGBTQ, Young Adult Fiction, Best friends', 'Fiction, Fantasy, Adventure, Science fiction, War, Drama', 'Fiction, Fantasy, Young Adult, Adventure, Classics, Juvenile Fiction, General, Juvenile Nonfiction, Philosophy, Humor', 'Science fiction, Fiction, Fantasy, Young Adult, Classics, Juvenile Fiction, Dystopian, General, Space, Thriller', \"Fiction, Fantasy, Young Adult, Adventure, Classics, Juvenile Fiction, General, Magic, Spanish, Children's stories\", 'Fiction, Fantasy, Young Adult, Classics, History, LGBTQ, Romance, General, Philosophy, Literature', 'Adventure, Fiction, Classics, War, Thriller, Adventure stories, Spy', 'Fiction, Fantasy, Adventure, Classics, Science fiction, Philosophy, Reincarnation', 'Fantasy, Fiction, Young Adult, Adventure, Classics, Comics, Juvenile Fiction, Horror, Children, Graphic novels', 'Fiction, Fantasy, Thriller, Suspense', 'Fiction, Young Adult, Juvenile Fiction, Romance, Artists, Mental health', 'Fiction, Fantasy, Young Adult, Adventure, Juvenile Fiction, Romance, Young Adult Fiction', 'Fiction, Fantasy, Young Adult, Adventure, Classics, Juvenile Fiction, Juvenile Nonfiction', 'Fiction, Young Adult, Romance, Humor, Friendship', 'Fantasy, Fiction, Young Adult, Adventure, Juvenile Fiction, General, Young Adult Fiction, Spanish, Middle Grade, low fantasy', 'Fiction, Classics, Mystery, Literature, Murder, Detective and mystery stories, Adultery, Clergy,  Jane (Fictitious character)', 'Fiction, Fantasy, Young Adult, Adventure, Science fiction, LGBTQ, dragons', 'Fiction, Fantasy, Young Adult, Adventure, Science fiction, War, Dystopian, Magic, Africa', 'Young Adult, Fiction, Romance, Juvenile Fiction, Philosophy, Young Adult Fiction, Psychology, Friendship, Spanish, Realistic Fiction', 'Fiction, Fantasy, Young Adult, Adventure, Juvenile Fiction, Romance, Dystopian, Young Adult Fiction, Magic, Love stories', 'Classics, LGBTQ, Humor, Education', 'Fiction, Fantasy, Adventure, Classics, Science fiction, Dystopian', 'Fantasy, Fiction, Young Adult, Adventure, Classics, Science fiction, Juvenile Fiction, Science, General, Young Adult Fiction', 'Fantasy, Young Adult, Fiction, Adventure, Science fiction, History, Comics, Juvenile Fiction, Mystery, Comics & Graphic Novels', 'Fiction, Young Adult, LGBTQ, Young Adult Fiction, Adolescence', 'Fiction, Young Adult, Romance', 'Fiction, Young Adult, Classics, History, War, English fiction', 'Fiction, Fantasy, Young Adult, Adventure, Classics, Science fiction, LGBTQ, Conspiracy', 'Fiction, Fantasy, Adventure, Science fiction, Magic', 'Biography, Nonfiction, Biography & Autobiography, autobiography, Autoimmune diseases', 'Fiction, Fantasy, Science fiction, Young Adult, Adventure, Dystopian, Suspense, Horror, Epidemics', 'Fiction, Adventure, Classics, History, Nonfiction, Literature, Suspense, literary criticism, Spanish, Neo-Western', 'Historical Fiction, Classics, Literary Fiction, Family', 'Fiction, Fantasy, Young Adult, Classics, Science fiction, Dystopian', 'Fantasy, Fiction, Science fiction, Adventure, Classics, Dystopian,  American, Fantasy fiction', 'Fiction, Young Adult, Fantasy, Science fiction, Adventure, Romance, Dystopian, War, Juvenile Fiction, Young Adult Fiction', 'Fiction, Fantasy, Young Adult, Adventure, Classics, History, Romance, Juvenile Nonfiction', 'Fiction, Fantasy, Young Adult, Adventure, Science fiction, LGBTQ, Young Adult Fiction', 'Fiction, Fantasy, Young Adult, Adventure, Science fiction, LGBTQ, War, Dystopian, African American teenage girls', 'Fiction, Thriller', 'Fiction, Science fiction, Fantasy, Classics, Dystopian, Thriller, Suspense, Police, Epidemics', 'Fantasy, Fiction, Adventure, Young Adult, Science fiction, Mystery, Romance, Murder, Thriller, Magic', 'Fiction, Classics, Biography, General', 'Fiction, Fantasy, Young Adult, Adventure, Science fiction, Juvenile Fiction, Mystery, Cullen,  Edward (Fictitious character)', 'Fiction, Classics, History, Railroad construction workers', 'Fiction, Fantasy, Young Adult, Adventure, Science fiction, General, Friendship, Magic,  American, Adventure stories', 'Philosophy, Business & Economics, Psychology, Self-Help, Change (Psychology), Habit', 'Fiction, Fantasy, Young Adult, Adventure, Science fiction, Comics, Dystopian, Juvenile Fiction, Young Adult Fiction, Friendship', 'Nonfiction, Psychology, Business & Economics', \"Fiction, Fantasy, Young Adult, Adventure, Juvenile Fiction, Mystery, Children's stories, Haunted houses\", 'Fantasy, Fiction, Classics, LGBTQ, Boys', 'Classics, Nonfiction, Philosophy, Literary Collections,  American, Electronic books', 'Young Adult, Fiction, Fantasy, Science fiction, Romance, Dystopian, Young Adult Fiction', 'Fiction, Fantasy, Classics, Science fiction, Young Adult, Adventure, General, Space, Aliens, Humor', 'Fiction, Fantasy, Classics, Science fiction, Glasgow (Scotland)', 'Fiction, Fantasy, Young Adult, Adventure, Science fiction, Assassins, Discworld (Imaginary place)', 'Fiction, Young Adult, Romance, Juvenile Fiction, General, Juvenile Nonfiction, Young Adult Fiction, Family, Spanish, Contemporary Romance', 'Fiction, Fantasy, Romance, Family, Spanish', 'Fiction, Fantasy, Young Adult, Classics, Mystery, Detective and mystery stories, Magical Realism, Coming of Age', 'Fiction, Fantasy, Adventure, Classics, Science fiction, Dystopian, General, Aliens', 'Fiction, Classics, Young Adult, History, Religion, General, Historical Fiction, Realistic Fiction, Africa, British', 'Fiction, Fantasy, Young Adult, Classics, Juvenile Fiction, Fairy tales, England', 'Fiction, Young Adult, Romance, Young Adult Fiction, Friendship', 'Science fiction, Fiction, Fantasy, History, Space, Aliens, Dystopian, General, alien', 'Classics, Romance, Realistic Fiction, Gothic, Regency Romance', 'Biography, Nonfiction, Biography & Autobiography, Humor, Women, Memoir', 'History, Biography, Nonfiction, Biography & Autobiography, Friendship', \"Fiction, Fantasy, Young Adult, Classics, Juvenile Fiction, Romance, Poetry, Family, Language Arts & Disciplines, Children's Literature\", 'Fantasy, Fiction, Young Adult, Adventure, Science fiction, War, Fantasy fiction, High Fantasy, Epic Fantasy', 'Fiction, Adventure, Classics, Biography, Nonfiction, General, Philosophy, Psychology, Travel, Fathers and sons', 'Fiction, Fantasy, Classics, Science fiction, General, Philosophy, Short stories', 'Fiction, Fantasy, Young Adult, Adventure, Classics, Juvenile Fiction, Mystery, Humor', 'Fiction, Fantasy, Young Adult, Adventure, Science fiction, Juvenile Fiction, Romance, Dystopian, Space, Aliens', 'Fiction, Classics, History, General', 'History, Classics, Nonfiction, Biography, Murder, Chicago (Ill.), Architects, US History', 'Fantasy, Fiction, Young Adult, Adventure, Classics, Science fiction, History, Literature, Historical Fiction, Magic', 'Fiction, Classics, Young Adult, History, Juvenile Fiction, Nonfiction, General, Philosophy, Psychology, Literature', 'Fantasy, Young Adult, Adventure', 'Fiction, Young Adult, LGBTQ, Romance, Friendship, Illness', 'Nonfiction, Self-Help', 'Fiction, History, War, Romance, Historical Fiction, France', 'Nonfiction, social science, Women, African Americans', 'Fantasy, Fiction, Young Adult, Adventure, History, Juvenile Fiction, Animals, Games,  Mythical', 'Fantasy, Fiction, Adventure, Science fiction, Mystery', 'Fiction, War, Adoptees', 'Fiction, Romance, General, Women', 'Fiction, Young Adult, LGBTQ, Young Adult Fiction, Friendship, College stories', 'Fantasy, Fiction, Science fiction, Young Adult, LGBTQ, Adventure, Space, Dystopian, Murder, Magic', 'Nonfiction, Psychology', 'Fiction, Fantasy, Young Adult, Classics, Science fiction, General, Juvenile Nonfiction, Suspense, Horror', 'Fantasy, Fiction, Adventure, Classics, Science fiction, Time Travel', 'Fiction, Fantasy, Adventure, Young Adult, Classics, Juvenile Fiction, General, Philosophy, Children, Spanish', 'Fiction, Classics, Philosophy, French literature', 'Fiction, Young Adult, Adventure, Juvenile Fiction, Romance, Mystery, General, Young Adult Fiction, Friendship, Spanish', 'Fiction, Classics, History, LGBTQ, Nonfiction, Religion, social science, political science, African Americans', 'Fantasy, Fiction, Young Adult, Adventure, History, Comics, Juvenile Fiction, General, Suspense, Children', 'Fiction, Fantasy, Young Adult, Adventure, Science fiction, Dystopian, Steampunk', 'Fantasy', \"Fiction, Fantasy, Young Adult, Adventure, Classics, Juvenile Fiction, General, Children's stories, Fairy tales\", 'Fiction, Fantasy, Classics, Young Adult, Adventure, Science fiction, History, Juvenile Fiction, General, Philosophy', 'Fiction, Adventure, Classics, Juvenile Fiction, Romance, General, Cattle drives, Call', 'Fiction, Fantasy, Adventure, Science fiction, War, Space, Aliens, Life on other planets', 'Fiction, Fantasy, Science fiction, Mystery, General, Thriller, Horror, Murder, Women, Crime', 'Fiction, Fantasy, Adventure, Classics, History, Suspense, Historical Fiction, Black Death, Middle Ages', 'Nonfiction, Philosophy, Self-Help', 'Fiction, Fantasy, Young Adult, Adventure, Comics, Juvenile Fiction, General, Juvenile Nonfiction, Comics & Graphic Novels, Humor', 'Fiction, Young Adult, Adventure, Classics, History, Comics, Romance, Nonfiction, General, Literature', 'Fiction, Fantasy, Young Adult, Adventure, Comics, Juvenile Fiction, Dystopian, Philosophy, Young Adult Fiction, Friendship', 'Fiction, Classics, Mystery, Thriller, Suspense, Detective and mystery stories', 'Classics, LGBTQ, Biography, Biography & Autobiography', 'Fiction, Classics, History, Literature, Friendship, Japan', 'Fiction, Classics, General, Literature, Family, literary criticism, Dreams', 'Fiction, Fantasy, Science fiction, Adventure, Classics, Dystopian, Thriller, General, Suspense, Horror', 'Fiction, Young Adult, Romance, History, Comics, Juvenile Fiction, Young Adult Fiction, Family, literary criticism, Spanish', 'Aliens, Classics, Fantasy, Science fiction, Space', 'Nonfiction, Business, Business & Economics', 'Fiction, Classics, Comics, Mystery, Murder, Detective and mystery stories,  English, Mystery fiction,  Hercule (Fictitious character), Poirot', 'Fiction, Adventure, Classics, History, War, General, Historical Fiction, literary criticism', 'Fiction, Fantasy, Young Adult, Adventure, Classics, Science fiction, Dystopian, General, Suspense, Magic', 'Fiction, Fantasy, Young Adult, Adventure, Science fiction, War, Space, Aliens', 'Fantasy, Fiction, Young Adult, Classics, Science fiction, General, Literature', 'Fiction, Classics, LGBTQ, War', 'Fiction, Fantasy, Mystery, Thriller, Murder, Fathers and daughters', 'Fiction, Fantasy, LGBTQ, Native Americans, Indians of North America', 'Young Adult, Fiction, LGBTQ, Romance, Comics, Juvenile Fiction, Young Adult Fiction, Friendship, Graphic novels, Realistic Fiction', 'Fantasy, Fiction, Young Adult, Adventure, Science fiction, Discworld (Imaginary place)', 'Fiction, Fantasy, Young Adult, Adventure, War, Juvenile Fiction, Romance, Young Adult Fiction, High Fantasy, Romantasy', 'Fiction, Mystery, Suspense, Police', 'Fiction, Fantasy, Classics, Young Adult, Science fiction, Juvenile Fiction, Biography, General, Literature, Family', 'Fiction, Fantasy, Young Adult, Science fiction, LGBTQ, Juvenile Fiction, Dystopian, Young Adult Fiction, Family, Angels', 'Fiction, Fantasy, Classics, Science fiction, History, General, Juvenile Nonfiction, Magic, Historical Fiction, Children', 'Fiction, Fantasy, Science fiction, Adventure, Classics, Space', 'Fantasy, Fiction, Young Adult, Adventure, Science fiction, Dystopian, Juvenile Fiction, Psychology, Good and evil', 'Fiction, Fantasy, Young Adult, Adventure, Classics, Science fiction, Arthurian romances', 'Young Adult, Fiction, Classics', 'Fiction, Young Adult, LGBTQ, Family, Parenting, Gender identity', 'Fiction, Young Adult, Adventure, History, War, Juvenile Fiction, Friendship', 'Nonfiction, Philosophy, Business', 'Fiction, Fantasy, Science fiction, Young Adult, Adventure, Classics, Juvenile Fiction, General, Juvenile Nonfiction, Comics & Graphic Novels', 'Fiction, Fantasy, Adventure, Science fiction, War, Fantasy fiction', 'Fiction, Fantasy, Young Adult, Adventure, Classics, Juvenile Fiction, Humor', 'Fantasy, Adventure, Fiction', 'Fiction, Fantasy, Science fiction, Horror, Good and evil, Paranormal', 'Fiction, Fantasy, Young Adult, Comics', 'Fantasy, Science fiction, Young Adult, Adventure, LGBTQ, Dystopian, Space, Aliens', 'History, Classics, War, Nonfiction', 'Fantasy, Young Adult, Fiction, Science fiction, Adventure, Magic, Paranormal Romance, Bishop,  Diana (Fictitious character)', 'Fiction, Fantasy, General', 'Fantasy, Fiction, Adventure, Classics, Science fiction, General, Humor', 'Fiction, Fantasy, Adventure, Science fiction, Space', 'Fiction, Fantasy, Adventure, Science fiction, Dystopian, Suspense', 'Fiction, Fantasy, Adventure, Science fiction, Dystopian, Thriller', 'Fiction, Fantasy, Young Adult, Adventure, Classics, Science fiction, Space, Aliens', 'Fiction, Fantasy, Young Adult, Adventure, Science fiction, War, Fantasy fiction, Grimdark', 'Fiction, Fantasy, Classics, Science fiction, Dystopian', 'Nonfiction, Psychology, Business & Economics, Cognition', 'Nonfiction, Philosophy, Self-Help, Self help, Conduct of life', 'Historical Fiction, Contemporary, Nature stories', 'Young Adult, LGBTQ', 'Fiction, LGBTQ, Women, England, Race, Africans', 'Fiction, Fantasy, Young Adult, Adventure, Science fiction, Magic, English fiction, Boys', 'Fantasy, Fiction, Young Adult, Adventure, Science fiction, War, Death, Epic Fantasy', 'Fiction, Classics, War', 'Adventure, Nonfiction, Humor, Travel, Australia', 'Fiction, History, Mystery, Suspense, Historical Fiction', 'Fiction, Fantasy, Science fiction, Suspense, Friendship, Short stories', 'Fantasy, Young Adult, Adventure, War', 'Science fiction, Nonfiction, Artificial Intelligence', 'Fiction, Classics, Adventure, Young Adult, History, General, Juvenile Nonfiction, Psychology, Literature, Friendship', 'Fiction, Classics, Fantasy, Young Adult, Mystery, Thriller, Short stories, Literature, Poetry, Murder', 'Fiction, Fantasy, Young Adult', 'Science fiction, Fiction, Fantasy, Romance, LGBTQ, War, Dystopian, Time Travel, alternate history', 'Fiction, Romance, Historical Fiction, England, Historical Romance', 'Fiction, Fantasy, Classics, Comics, Religion, General, Christianity', 'Fantasy, Fiction, Young Adult, Adventure, Science fiction, War, Fantasy fiction, High Fantasy', 'Fiction, Fantasy, Adventure, Science fiction, Dystopian, United States', 'Science fiction, Fiction, Fantasy, Adventure, Classics, Dystopian, Space, Short stories, Magic,  American', 'Fiction, Fantasy, Young Adult, Adventure, Conspiracies', 'Fiction, Classics, General, Literature, English fiction, Foreign Language Study, reference, England, Domestic fiction', 'Fiction, Classics, Young Adult, Romance, Juvenile Fiction, General, Juvenile Nonfiction, Psychology, Literature, Literary Collections', 'Fantasy, Fiction, Adventure, Science fiction, Romance, Chicago (Ill.), Dresden', 'Fiction, Fantasy, Young Adult, Adventure, Science fiction, Comics, LGBTQ, Space, Young Adult Fiction, Education', 'Fantasy, Adventure, Classics, Science fiction, Dystopian, Businessmen', 'Classics, Nonfiction, Business & Economics, Business, Self-Help, Self help, Leadership', 'Fiction, Fantasy, Classics, Science fiction, Adventure, Comics, Dystopian, Comics & Graphic Novels, Short stories', 'Fiction, Mystery, Thriller, Education, Murder', 'Fantasy, Young Adult, Adventure, Romance, Dystopian, Magic', 'Fiction, Classics, Fantasy, Young Adult, History, Comics, Biography & Autobiography, General, Juvenile Nonfiction, Literature', 'Fantasy, Adventure, Young Adult, Science fiction, Comics', 'Business, Nonfiction', 'Fiction, Young Adult, Fantasy, LGBTQ, Adventure, Science fiction, Romance, Dystopian, Young Adult Fiction, Friendship', 'Fiction, Young Adult, LGBTQ, Juvenile Nonfiction, Young Adult Fiction', 'Fiction, Fantasy, Adventure, Classics, Science fiction, Dystopian, General, Politics, Adventure stories', 'Young Adult', 'Fiction, War, Great Britain', 'Fiction, Fantasy, Adventure, Science fiction, Dystopian, Space, Aliens, Philosophy, Mathematics, Suspense', 'Fantasy, Young Adult, Adventure, Science fiction, Dystopian', 'Fiction, Fantasy, English fiction', 'Fiction, History, Romance, Historical Fiction', 'Fiction, Fantasy, Young Adult, Adventure, Classics, Religion, General, Literature, Adventure stories, Magical Realism', 'Fantasy, Fiction, Young Adult, Adventure, Juvenile Fiction, Magic, Middle Grade', \"Fiction, Fantasy, Young Adult, Adventure, Science fiction, War, Juvenile Fiction, Dystopian, Children's stories, Steampunk\", 'Fiction, Mystery, Literature, Women, Police, Detective and mystery stories', 'Fiction, Fantasy, Classics, Cities and towns', 'Fiction, Fantasy, Science fiction, Young Adult, Adventure, Dystopian, Post-Apocalyptic Science Fiction, Choice', \"Fiction, Fantasy, Young Adult, Adventure, LGBTQ, Juvenile Fiction, Magic, Children's stories\", 'Fiction, Young Adult, History, Classics, Comics, War, Biography, Biography & Autobiography, Comics & Graphic Novels', 'Young Adult, Juvenile Fiction, Romance, Young Adult Fiction', 'Fiction, Fantasy, Adventure, Classics, Science fiction, Space', 'Nonfiction, Philosophy', 'Fiction, Romance, Philosophy, Friendship, Literary Fiction', 'Fiction, Young Adult', 'Fiction, Young Adult, Fantasy, Science fiction, Dystopian, Adventure, Classics, Comics, Juvenile Fiction, General', 'Fiction, Young Adult, Classics, Friendship, Apartment concierges', 'Fantasy, Science fiction, Horror', 'Young Adult, History, Biography, War, Biography & Autobiography, Juvenile Nonfiction, Middle East,  2001-, Attempted murder', 'Fiction, Fantasy, Science fiction, Adventure, LGBTQ, Space, Aliens, Space Opera', 'Fiction, Classics, Literary Fiction', 'Fiction, Classics, Romance, Suspense, Gothic', 'Fantasy, Fiction, Young Adult, Adventure, Science fiction, Young Adult Fiction, Friendship, low fantasy', 'Fiction, Classics, General, Literature', 'Fiction, Fantasy, Adventure, Science fiction, Dystopian, Thriller, Suspense, Vampires', 'Nonfiction, History, Biography, Memoir, Cooking', 'Fiction, Fantasy, Science fiction, Mystery, Thriller, Literature, Suspense', 'Fiction, Classics, Young Adult, Adventure, History, General, Philosophy, Suspense, Murder, Literary Collections', 'Fiction, Science fiction', 'Fiction, Family, Siblings', 'Fiction, Fantasy, Science fiction, Dystopian, Romance, Friendship, Artificial Intelligence, Humanity', 'Classics, History, Biography & Autobiography, Politics, City planners', 'Fiction, Fantasy, Science fiction, Classics, Dystopian, Space, English fiction, Life on other planets, Anarchism', 'Biography, Science, Religion, General, Philosophy, Nature, Native Americans, Botany', 'History, Classics, Nonfiction, Rome', 'Fiction, Classics, Drama, French drama', 'Fiction, Science fiction, Fantasy, Adventure, Classics, Comics, Dystopian, Comics & Graphic Novels, Foreign Language Study', 'Fantasy, Adventure, Classics', 'Fantasy, Young Adult, Fiction, Adventure, Science fiction, History, Comics, Juvenile Fiction, Young Adult Fiction, Mystery', 'Dystopian, Fantasy, Science fiction, Young Adult', 'Fiction, Classics, Women', 'Fiction, Classics, History, War, Literature, Humor', 'Fiction, Fantasy, Science fiction, Classics, Dystopian, Aliens', 'Fiction, Fantasy, Young Adult, Adventure, Science fiction, General, Adventure stories, Anansi (Legendary character)', 'Fantasy, Fiction, Young Adult, Adventure, Science fiction, Comics, Juvenile Fiction, Family, Graphic novels, Spanish', 'Adventure, Nonfiction, Space', 'Fantasy, Fiction, Young Adult, Adventure, War, Magic, Fantasy fiction, High Fantasy, Good and evil', 'Fiction, Classics, Science fiction, History, War, Romance, Biography, Science, English fiction', 'Nonfiction', 'Classics, History, War, Biography & Autobiography', 'Nonfiction, Philosophy, Psychology, Self-Help, Self help', 'Fiction, Classics, Young Adult, Adventure, History, Mystery, Literature, Children, Crime, Justice', 'Fiction, Classics, History, Nonfiction, Biography, Biography & Autobiography, General, Family, Children, Spanish', 'Fiction, Fantasy, Young Adult, Adventure, Comics, Juvenile Fiction, Young Adult Fiction, Magic', 'Fiction, Fantasy, Classics, Science fiction, Literature, Humor, English fiction, Satire', 'Fiction, Classics, Fantasy, Young Adult, History, Comics, LGBTQ, Juvenile Fiction, Romance, Philosophy', 'Fiction, Fantasy, Classics, Young Adult, Romance, Horror, Supernatural, Gothic Horror, Popular literature', 'Philosophy, Psychology, Body,  Mind & Spirit', 'History, Science, General, Biography & Autobiography, Mathematics, Diophantine analysis', 'Fiction, Classics, Biography, Travel, Literary Collections,  American', 'Young Adult, Fiction, Fantasy, Adventure, Science fiction, Dystopian, Juvenile Fiction, General, Young Adult Fiction', 'Fiction, Thriller, Suspense', 'Fiction, Fantasy, Young Adult, Adventure, Young Adult Fiction', 'Classics, History, Nonfiction, Religion, Literature, Politics, political science', 'Fiction, Fantasy, Young Adult, Adventure, Classics, Science fiction, Juvenile Fiction, Dystopian, Mystery, Space', 'Fiction, Romance, Period romance, Period piece', 'Fantasy, Fiction, Young Adult, Adventure, Juvenile Fiction, Juvenile Nonfiction, Literature, Magic, Families, Electronic books', 'Fiction, Fantasy, Young Adult, Classics, General, Juvenile Nonfiction, Horror, Thriller, Family, Children', 'Biography, Nonfiction, Politics', 'Fiction, Fantasy, Young Adult, Adventure, Classics, Science fiction, Juvenile Fiction, Young Adult Fiction, Alanna (Fictitious character)', 'Fantasy, Fiction, Classics, Young Adult, Adventure, Romance, Historical Fiction', 'Fiction, Classics, Young Adult, Adventure, War, History, Comics, Comics & Graphic Novels, Historical Fiction, Drama', 'Fantasy, Young Adult, Adventure, Fiction, Romance, Juvenile Fiction, Dystopian, Young Adult Fiction, Murder, High Fantasy', 'Fiction, Fantasy, Young Adult, Adventure, Science fiction, War, Dystopian, Young Adult Fiction', 'Fiction, Fantasy, Young Adult, Adventure, Science fiction, LGBTQ, gods, Homecoming', 'Nonfiction, Business & Economics, Psychology, Belief and doubt', 'Classics, War', 'Fiction, Classics, LGBTQ, English fiction, Post World War', 'Fiction, Classics, Science fiction, War, Dystopian, Politics, Satire, Dictators', 'Fiction, Fantasy, Science fiction, Adventure, War, Space, Military', \"Fiction, Fantasy, Young Adult, Adventure, Science fiction, War, Juvenile Fiction, Young Adult Fiction, Magic, Children's stories\", 'Fiction, Classics, History, War, Literature, Friendship', 'Fiction, Mystery, Thriller, Suspense, Friendship, Murder, Female friendship', 'Fiction, Fantasy, Classics, Young Adult, Adventure, History, Comics, Juvenile Fiction, General, Comics & Graphic Novels', 'Fiction, Young Adult, Realistic Fiction', 'History, Nonfiction, Biography, General, African Americans', 'Fantasy, Science fiction, Dystopian, Space, End of the world', 'Fiction, History, War, Religion, Literature', 'Fiction, Classics, Young Adult, Mystery, General, Murder, Women, Detective and mystery stories, English fiction, Extortion', 'History, Biography, African Americans', 'Fiction, Young Adult, Romance, Juvenile Fiction, Young Adult Fiction, Friendship, Contemporary', 'Biography, Nonfiction, autobiography, Biography Memoir, Disability, General, Memoir, Psychology, Science', 'Science fiction, Fiction, Fantasy, Young Adult, Adventure, Space, Juvenile Fiction, Young Adult Fiction, Astronauts', 'Fantasy, Fiction, Classics, Young Adult, Romance, History, Comics, Nonfiction, Juvenile Nonfiction, Literature', 'Fantasy, Classics, Science fiction, LGBTQ', 'Fiction, Young Adult, Adventure, Classics, History, War, Psychology, Historical Fiction, English fiction', 'Fiction, Thriller, Murder', 'LGBTQ', 'Classics, Nonfiction, Science, Literature, Evolution', 'Fiction, Fantasy, Adventure, Science fiction, Thriller, Suspense, Magic, Cults', 'Fiction, Fantasy, Classics, History, Religion, General, Literature, Politics, Poetry, Hell', 'Psychology, Self-Help, Family & Relationships', 'Fiction, Thriller, Suspense, Horror, Apartment houses', 'Fiction, Young Adult, Classics, War, Short stories, Memoir, Vietnam War,  1961-1975', 'Fantasy, Young Adult, Fiction, Adventure, LGBTQ, Juvenile Fiction, Magic, Betrayal', 'Fiction, Fantasy, Adventure, Science fiction, War, Fantasy fiction, Grimdark', 'Fantasy, Adventure, Science fiction, Dystopian, LGBTQ, Space, Aliens', 'Fiction, Fantasy, Young Adult, Adventure, Science fiction', 'Fiction, Young Adult, Fantasy, Classics, History, War, Juvenile Fiction, Historical Fiction, Religion, Young Adult Fiction', 'Fiction, Classics, LGBTQ, Romance, Friendship, Women, Alabama', 'Young Adult, Fiction, Fantasy, Science fiction, Adventure, Juvenile Fiction, Romance, Aliens, Dystopian, Young Adult Fiction', 'History, Philosophy, political science', 'Fantasy, Fiction, Classics, War, History, Biography & Autobiography', 'Fiction, Classics, Young Adult, Adventure, Mystery, History, Detective and mystery stories,  English, detective', 'Fiction, Fantasy, Adventure, Classics, Science fiction, Romance, Historical Fiction, Magical Realism', 'Fiction, Fantasy, Classics, Science fiction, Suspense, Horror, Epistolary, Documentary films', \"Fiction, Fantasy, Adventure, Classics, Science fiction, General, Children's stories, Discworld (Imaginary place)\", 'Fiction, Fantasy, Young Adult, Romance, Adventure, Science fiction, Comics, Juvenile Fiction, Young Adult Fiction, Friendship', 'Fiction, Classics, LGBTQ, Drama, Queer, Period romance', 'Fiction, Classics, Governors', 'Fiction, Mystery, Romance, Thriller', 'Fantasy, Fiction, Adventure, Science fiction, War, Space', 'History, War, Biography, Nonfiction, Biography & Autobiography, Science', 'Fiction, Thriller, Police', 'Fiction, Fantasy, Young Adult, Classics, History, Juvenile Fiction, Children, Boarding school', 'Biography, Nonfiction, Biography & Autobiography, Humor, Memoir, comedy', 'Fiction, Fantasy, Young Adult, Adventure, Science fiction, Dystopian, General', 'Fiction, Fantasy, Adventure, Science fiction, Romance, Mystery', 'Fiction, Fantasy, Young Adult, Classics, Murder, Family, Domestic fiction, Bereavement', 'Adventure, Classics, History, Biography, Biography & Autobiography, Travel, Agriculture', 'Fiction, Fantasy, Young Adult, Adventure, Science fiction, War, Juvenile Fiction, Dystopian, Young Adult Fiction, Siblings', 'Nonfiction, Business & Economics, Self help, Productivity, Advice', 'Fiction, Romance, Contemporary Romance', 'Fiction, Young Adult, Fantasy, Science fiction, Adventure, Dystopian, Juvenile Fiction, General, Young Adult Fiction, Murder', 'Fiction, Fantasy, Mystery, Murder', 'Science fiction, Fiction, Fantasy, Adventure, War, Space, Dystopian, Aliens', 'Fantasy, Adventure, Fiction, Science fiction, War, Thriller, Fantasy fiction', 'Fantasy, Fiction, Young Adult, Adventure, Science fiction, Mystery, Magic, Detective and mystery stories, Urban Fantasy, Paranormal', 'Fantasy, Fiction, Classics, Science fiction, English fiction', 'Fiction, Young Adult, Science fiction, Fantasy, Adventure, Dystopian, Juvenile Fiction, Romance, General, Aliens', 'Fantasy, Science fiction, Classics, Dystopian', 'War, Nonfiction, political science', 'Fiction, Fantasy, Science fiction, Classics, Dystopian, Space, Robots, Overpopulation', 'Fiction, Fantasy, Young Adult, Adventure, Classics, Juvenile Fiction, General, Magic', 'Fiction, Science fiction, Fantasy, Classics, Adventure, Young Adult, Comics, Dystopian, War, Space', 'Fiction, Fantasy, Classics, Young Adult, Adventure, History, General, Juvenile Nonfiction, Philosophy', 'Fantasy, Fiction, Young Adult, Adventure, Science fiction, War, Juvenile Fiction, Dystopian, Young Adult Fiction, Magic', 'Fiction, Fantasy, Adventure, Science fiction, Dystopian, Babel', 'Fiction, Science fiction, Classics, Fantasy, Dystopian, Computers, Artificial Intelligence, Conspiracies, cyberpunk, Business intelligence', 'Fantasy, Young Adult, Adventure, Science fiction, Comics, Dystopian, General, Comics & Graphic Novels, Humor', 'Fiction, Fantasy, Young Adult, Adventure, Science fiction, Dystopian, Clairvoyants', 'Fiction, Adventure', 'Fantasy, Young Adult, Fiction, Comics, Young Adult Fiction, Graphic novels, Horror, Paranormal, Supernatural', 'Adventure, Fiction, Classics, Autobiographical fiction', 'Fantasy, Fiction, Young Adult, Adventure, Science fiction, War, Juvenile Fiction, General, Young Adult Fiction, Magic', 'Fiction, Classics, Literature, Friendship', 'Fantasy, Young Adult, Fiction, Adventure, Science fiction, Juvenile Fiction, Young Adult Fiction, Magic, Young adult fantasy', 'Fiction, Young Adult, Comics, Romance, Juvenile Nonfiction, Literature, Spanish', 'Nonfiction, Philosophy, Self-Help, Spirituality', 'Fiction, Classics, Philosophy, Religion, General, Poetry, Art, Graphic novels, Fairy tales', 'Fiction, Fantasy, Classics, Horror', 'Nonfiction, Business & Economics, Psychology, Art, Business, Self-Help, Design, Self help, Personal Development, Productivity', 'Fiction, Mystery, Thriller, Murder, Police', 'Fiction, Fantasy, Adventure, Classics, Science fiction, Space, Literary Collections, Medical, Historians', 'Fiction, Fantasy, Young Adult, Adventure, Science fiction, War, Fantasy fiction, High Fantasy, Epic Fantasy, Imaginary wars and battles', 'Fiction, Fantasy, Young Adult, Adventure, Science fiction, Romance, Magic, Friendship, Folklore, Fairy tales', 'Fiction, Classics, Literature, Friendship, Mentally ill', 'Fantasy, Young Adult, Adventure, Science fiction, Adventure stories', 'Young Adult, Fiction, Adventure, Juvenile Fiction, Romance, Mathematics, Young Adult Fiction, Friendship, Spanish, Realistic Fiction', 'Fiction, Fantasy, Classics, Science fiction, Dystopian, Crime, Literary Fiction, Film', 'Fiction, Fantasy, Science fiction, Adventure, LGBTQ, Dystopian, General, Aliens, Suspense', 'Fiction, Fantasy, Young Adult, LGBTQ, Mystery, Thriller', 'Young Adult, Fiction, Classics, Juvenile Fiction, Young Adult Fiction, Native Americans, Realistic Fiction', 'Fiction, Fantasy, Young Adult, Adventure, Science fiction, Romance, Fantasy fiction', 'Fantasy, Fiction, Young Adult, Adventure, Classics, Science fiction, Comics, dragons', 'Nonfiction, Philosophy, Self help, Productivity', 'Fiction, Fantasy, Young Adult, Adventure, Romance, Young Adult Fiction, Murder, Fairy tales', 'Fiction, Fantasy, Young Adult, Adventure, Classics, Science fiction, Fantasy fiction,  English', 'Young Adult, LGBTQ, Juvenile Fiction, Young Adult Fiction, literary criticism', 'Fiction, Fantasy, Young Adult, Science fiction, General, Suspense, Horror, English fiction, Horror', 'Business', 'Fiction, Science fiction, Fantasy, Young Adult, Adventure, LGBTQ, Space, Aliens, Space Opera', 'Fiction, Fantasy, Young Adult, Adventure, Science fiction, Humor', 'Fiction, Fantasy, Young Adult, Adventure, Juvenile Fiction', 'Fiction, Fantasy, Young Adult, Adventure, Classics, Science fiction, Juvenile Fiction, Children, Spanish', 'Fiction, History, Mystery, Detective and mystery stories', 'Fantasy, Young Adult, Fiction, Adventure, Classics, Science fiction, Dystopian, Middle Grade, Community life', 'Fantasy, Fiction, Young Adult, Adventure, Classics, Juvenile Fiction, Nonfiction, Mystery, General, Magic', 'Fiction, Classics, Medical', 'Fiction, Young Adult, Classics, Historical Fiction, Realistic Fiction, Adult children of aging parents', \"Fantasy, Young Adult, Fiction, Adventure, Classics, Juvenile Fiction, Humor, Magic, Spanish, Children's Literature\", 'Fiction, Fantasy, Young Adult, Adventure, Science fiction, Magic, Fantasy fiction, Fantasy games', 'Classics, Nonfiction, Biography & Autobiography, Philosophy, Psychology, Business, Control (Psychology)', 'Fiction, Thriller, Suspense, adult', 'Fiction, Fantasy, Young Adult, Adventure, Juvenile Fiction, Romance, Young Adult Fiction, Young adult fantasy', 'Fiction, Classics, Mystery, Murder, Mystery fiction', 'Classics, Nonfiction, Philosophy, Business & Economics, Business, Self-Help, Spanish, Finance, Conduct of life, Self-actualization (Psychology)', 'Fiction, Young Adult, Classics, History, General, African Americans', 'Fiction, Fantasy, Young Adult, Adventure, Classics, Juvenile Fiction, Magic, Children, Spanish, Middle Grade', \"Fiction, Fantasy, Young Adult, Adventure, Juvenile Fiction, Friendship, Magic, Children, Children's stories, Boarding school\", 'Fantasy, Young Adult, Fiction, Adventure, Romance, LGBTQ, Juvenile Fiction, Young Adult Fiction, Magic, Demonology', 'Fiction, Fantasy, Adventure, Classics, Science fiction, Dystopian, Fantasy fiction, Adventure stories, Fate and fatalism', 'Fiction, Fantasy, Adventure, Science fiction, Space, Aliens, Life on other planets', \"Fantasy, Fiction, Classics, Young Adult, Adventure, Juvenile Fiction, General, Magic, Children's stories, Middle Grade\", 'Fantasy, Fiction, Adventure, Science fiction, Chicago (Ill.)', 'Fiction, Fantasy, Young Adult, Adventure, War, Dystopian, General, Young Adult Fiction', 'Fantasy, Fiction, Young Adult, Adventure, Juvenile Fiction, Young Adult Fiction, Magic, Fairy tales, Dark Fantasy, Fairy Tale Retelling', 'Fiction, Young Adult, Classics, History, Comics, Nonfiction, General, Literature, Historical Fiction, Graphic novels', 'Fiction, General, Women, Historical Fiction', 'Fiction, Classics, Mystery, Crime', 'Fiction, Fantasy, Science fiction, Adventure, Space, Aliens, comedy', 'Fiction, Young Adult, LGBTQ, Fantasy, Romance, Juvenile Fiction, Young Adult Fiction, Juvenile Nonfiction, Friendship, Family', 'Fiction, Fantasy, Young Adult, Adventure, Science fiction, Drama', 'Fiction, Fantasy, Adventure, Classics, Young Adult, History, Philosophy, General, Juvenile Nonfiction, Politics', 'Business, Nonfiction, Self help', 'Fiction, Fantasy, Young Adult, Adventure, LGBTQ, Juvenile Fiction, Magic, Spanish, Boston (Mass.)', 'Fiction, Adventure, Classics, Historical Fiction', 'Fantasy, Science fiction, LGBTQ, Electronic books, High Fantasy', 'Fiction, Classics, Young Adult, History, Romance, General, Juvenile Nonfiction, Literature, Murder,  American', 'Fiction, Classics, Mystery, Suspense, Murder, Historical Fiction', 'Fiction, Young Adult, Classics, Juvenile Fiction, General, Psychology, Literature, Historical Fiction, Art, Death', 'Fantasy, Classics, Science fiction, Literature', 'Fiction, Fantasy, Young Adult, Adventure, Classics, Science fiction, Science, Thriller, Literature, Travel', 'Fantasy, Fiction, Adventure, Young Adult, Science fiction, War, Magic, High Fantasy, Blessing and cursing', 'Fiction, Young Adult, Romance, Electronic mail messages', 'Fantasy, Fiction, Young Adult, Adventure, Science fiction, General, Humor, Drama, Discworld (Imaginary place)', 'Fiction, Fantasy, Young Adult, Adventure, Classics, Science fiction, Romance, Literature, Spanish, English fiction', 'History, Adventure, Classics, Nonfiction, Biography, Biography & Autobiography, Travel, Antarctica, Imperial Trans-Antarctic Expedition', 'History, Nonfiction, Business & Economics, Debt', 'History, Business & Economics, Developing countries', 'Fiction, Romance, Friendship', 'Fiction, LGBTQ, Young Adult, Romance, Biography, Historical Fiction, Women', 'Fiction, Fantasy', 'Fantasy, Fiction, Young Adult, Adventure, Science fiction, Mystery, Chicago (Ill.), Dresden', 'Nonfiction, Business, Computers, Design', 'Fiction, Young Adult, LGBTQ, Romance, Friendship, Women', 'Fiction, Classics, Women, Depression', 'Fantasy, Fiction, Adventure, Classics, Science fiction, War', 'Fiction, Fantasy, Young Adult, Adventure, Science fiction, Romance, History, War, Juvenile Fiction, General', 'Fiction, Fantasy, Young Adult, Adventure, Comics, Juvenile Fiction, Magic, Graphic novels, Apprentices', 'Fantasy, Young Adult, Fiction, Adventure, Science fiction, LGBTQ, War, Juvenile Fiction, Romance, Magic', 'Fantasy, Young Adult, Adventure, Classics, Science fiction, War', 'Fiction, Fantasy, Young Adult, LGBTQ, Juvenile Fiction, Young Adult Fiction, Siblings', 'Fiction, Classics, Fantasy, Science fiction, Young Adult, History, Comics, Juvenile Fiction, Mystery, Juvenile Nonfiction', 'Fiction, Fantasy, Adventure, Classics, Science fiction, War, Dystopian, General, Space, Fantasy fiction', 'Fantasy, Classics, Science fiction', 'Fantasy, Young Adult, Adventure, Classics, Children', 'Fantasy, Adventure, Science fiction, Thriller, Suspense', 'Fiction, Classics, History, LGBTQ, Biography, Philosophy, Literature, Poetry, Politics, Drama', 'Fiction, Classics, Biography, General, Literature, literary criticism', 'Classics, Science fiction, Space', 'Fantasy, Young Adult, LGBTQ', 'Fantasy, Adventure, Classics, Young Adult, Fairy tales', 'Fiction, Fantasy, Adventure, Classics, Science fiction, Dystopian, Aliens, Russian fiction', 'Adventure, Fiction, Fantasy, Young Adult, Science fiction, Realistic Fiction, Bookstores', 'Fiction, Fantasy, Classics, History, Literature, Drama', 'Fantasy, Young Adult, Science fiction, Juvenile Fiction, Dystopian, Young Adult Fiction', 'Fiction, Young Adult, History, War, Religion, Friendship, Historical Fiction', 'Classics, Nonfiction, Religion, General, Philosophy, Education', 'Fiction, Young Adult, Adventure, Classics, Fathers, Indian Territory', 'Fiction, Mystery, Murder', 'Fantasy, LGBTQ', 'Fiction, Fantasy, Classics, Romance, General, Japanese fiction, Mysticism, Magic realism (Literature), Models (Persons), Metaphysics', 'Fantasy, Young Adult, Adventure, Science fiction, Space, Aliens', 'Fiction, Classics, History, General, Literature, Murder, Family, Historical Fiction, Realistic Fiction', 'Fantasy, Adventure, Fiction, Young Adult, Classics, Science fiction, Comics, Juvenile Fiction, Dystopian, General', 'Classics, Business & Economics, Business, Self-Help, Finance, Business ethics', 'Fiction, Classics, Fantasy, Young Adult, Dystopian, Science fiction, History, Comics, Juvenile Fiction, Romance', 'Fiction, Classics, History, Biography & Autobiography, General, Literature, Classical fiction, Homelessness', 'Fiction, Fantasy, Young Adult, Adventure, Classics, Science fiction, Space, Aliens, Literature, Folklore', 'Fiction, Romance, Literary Fiction', 'Classics, Dark Comedy', 'Fiction, Adventure, Mystery, Thriller, Political corruption', 'Fantasy, Young Adult, Fiction, Adventure, Comics, LGBTQ, Comics & Graphic Novels, Magic, Contests', 'Nonfiction, Psychology, Health & Fitness', 'Fantasy, Adventure', 'Fiction, Fantasy, Young Adult, Adventure, Classics, Science fiction, History, Juvenile Fiction, General, Literature', 'Nonfiction, Business & Economics, Conduct of life, Productivity, Inspirational', 'Fiction, Fantasy, Classics, Science fiction, War, Americans', 'Fiction, History, Nonfiction, Crime', 'Fiction, Fantasy, Young Adult, LGBTQ, Young Adult Fiction', 'Young Adult, Classics, Nonfiction, Biography, Religion, Biography & Autobiography, General, Philosophy, Psychology, Education', 'Fantasy, Fiction, Young Adult, Adventure, Science fiction, Mystery, Magic', 'Fantasy, Fiction, Classics, Science fiction, War, Dystopian, Religion, Science,  American, English fiction', 'Fiction, Fantasy, Young Adult, Adventure, Classics, Science fiction, Comics, War, Fantasy fiction, Apprentices', 'Fiction, Fantasy, Young Adult, Adventure, Classics, Science fiction, Comics, Juvenile Fiction, Dystopian, Children', 'Fiction, Fantasy, Young Adult, Adventure, History, Religion, Friendship, Magic', 'Fiction, Fantasy, Science fiction, Adventure, Dystopian, Reincarnation', 'Fantasy, Young Adult, Comics', 'Fiction, Classics, History, Mystery, Suspense, Historical Fiction', 'Fantasy, Fiction, Young Adult, Adventure, Juvenile Fiction, Literary Collections, Spanish, Middle Grade, low fantasy, Camps', 'Fiction, Fantasy, Young Adult, Science fiction, Friendship, Magic', \"Fantasy, Fiction, Young Adult, Adventure, Classics, Juvenile Fiction, Short stories, Magic, Children's stories, Fairy tales\", 'Fantasy, Fiction, Classics, Young Adult, Adventure, Science fiction, Juvenile Fiction, General, Magic, Children', 'Fiction, Fantasy, Young Adult, Adventure, Juvenile Fiction, Human-animal relationships', 'Fantasy, Science fiction, Fiction, Aliens', 'LGBTQ, Nonfiction, Short stories, Memoir, Realistic Fiction, Essays', 'Fiction, Fantasy, Young Adult, Science fiction, LGBTQ, Dystopian, Young Adult Fiction', 'Fiction, Young Adult, Juvenile Fiction, Young Adult Fiction', 'Fantasy, Fiction, Adventure, Young Adult, Science fiction, Comics, Magic, High Fantasy', 'Fiction, Classics, Romance, Literature, Women', 'Fiction, Young Adult, Adventure, Classics, Biography, Nonfiction, Science, Juvenile Nonfiction, General, Biography & Autobiography', 'Fantasy, Fiction, Adventure, Young Adult, Science fiction, Dystopian, Magic, High Fantasy, Epic Fantasy, Mystical powers', 'Fantasy, Adventure, Classics, Science fiction, War, Space, Aliens', 'Fiction, Classics, Young Adult, Adventure, History, Comics, War, Literature, Politics, Police', 'Fiction, Fantasy, Classics, Science fiction, Space, Aliens, English fiction, Life on other planets, Extraterrestrial beings', 'Science, Psychology, Nature, Animal communication', 'Fiction, Adventure, Fantasy, Young Adult, Classics, Mystery, General, Thriller, Suspense, Fantasy fiction', 'Fiction, Young Adult, Classics, Literature, Spanish', 'History, Nonfiction, Science, Politics, Environmental degradation', 'Fiction, Classics, General, Literature, African Americans, English fiction, American fiction, African American girls', 'Fiction, Classics, Young Adult, History, Romance, Literature, African Americans, Realistic Fiction', 'Fiction, Fantasy, Juvenile Nonfiction, Education, Short stories, Horror,  American, Horror, Horror fiction', 'Fiction, Fantasy, Young Adult, Adventure, Science fiction, LGBTQ, Young Adult Fiction, Thriller, Magic, Betrayal', 'Young Adult, LGBTQ, Juvenile Fiction, Young Adult Fiction, Siblings', 'Fiction, Fantasy, Adventure, Classics, Science fiction, General, Juvenile Nonfiction, Thriller, Suspense, Horror', 'Fiction, Fantasy, Science fiction, Young Adult, Adventure, Classics, General, Space, Humor, Aliens', 'Fantasy, Young Adult, Adventure, Classics, Science fiction, LGBTQ', 'Fiction, Classics, Romance, Mystery', 'Fiction, Classics, Romance, General, Juvenile Nonfiction, Performing Arts,  American, relationships, Crime', 'Adventure, Classics, Antarctica', 'Fiction, Biography, History, Nonfiction, Biography & Autobiography, General, Business, Businessmen, Chief executive officers', 'Fiction, Classics, Mystery, Comics, Thriller, General, Suspense, Murder, Education, Detective and mystery stories', 'Fiction, History', 'Fantasy, Fiction, Adventure, Young Adult, Science fiction, LGBTQ, Dystopian, Magic', 'Fiction, Fantasy, Young Adult, Adventure, Science fiction, War, Magic', 'Fiction, Fantasy, Science fiction, Adventure, Classics, Space, Aliens, Computers, Interplanetary voyages', 'History', \"Fiction, Fantasy, Young Adult, Classics, Juvenile Fiction, General, Poetry, Humor, Children, Children's stories\", 'Fantasy, Classics, Nonfiction, Religion & Spirituality, Academic writing', 'Fiction, Romance, Historical Romance', 'Science fiction, Fiction, Fantasy, Classics, Young Adult, Dystopian, History, General, Science, Family', 'Fiction, Young Adult, Adventure, Classics, Juvenile Fiction', 'Fiction, Fantasy, Classics, History, Women, African Americans', 'Fiction, Classics, Adventure, Fantasy, Young Adult, Science fiction, History, Dystopian, Literary Collections, Adventure stories', 'Fantasy, Classics, Adventure, Fiction, Young Adult, Science fiction, War, High Fantasy, Hobbits (Fictitious characters)', 'Fiction, Classics, Young Adult, Adventure, History, Juvenile Fiction, Romance, Philosophy, Family, Literature', 'Fiction, Adventure, Classics, Young Adult, Juvenile Fiction, Realistic Fiction, Dogs', 'Fiction, Fantasy, Adventure, Classics, Science fiction, War, Dystopian, Space, Business & Economics', 'Fantasy, Young Adult, Adventure, Mystery, Historical Fiction', 'Adventure, History, Nonfiction, Travel, Amazon River Region', 'Fiction, LGBTQ, Nonfiction, Humor, Family', 'History, Biography, Nonfiction, Biography & Autobiography, Games, Computer games', 'Fiction, Fantasy, Young Adult, Adventure, Magic, American fiction, Magical Realism, Fantasy romance', 'History, General, social science, African Americans, Law', 'Fiction, Classics, War, Friendship, Drama, American fiction, Literary Fiction, Christian Fiction, Belief and doubt', 'Fiction, Fantasy, Classics, Science fiction, English fiction', 'Classics, Nonfiction, Philosophy, Psychology, Art', 'Fantasy, Young Adult, Fiction, Adventure, LGBTQ, Juvenile Fiction, Romance, Young Adult Fiction, Magic, Urban Fantasy', 'Fiction, LGBTQ, Alcoholism', 'Fiction, Classics, History, Literature, Historical Fiction', 'Fiction, Fantasy, Adventure, Classics, Mystery, General, Juvenile Nonfiction, Thriller, Suspense, Detective and mystery stories', 'Fiction, Young Adult, Classics, Mystery, Literature, Travel, Murder, Literary Collections, Spanish, murder mystery', 'Fiction, Fantasy, Young Adult, Classics, General, Literature, Blessing and cursing', 'War', 'History, Young Adult, Nonfiction, Comics, Science, General, Comics & Graphic Novels, Psychology, Biology, Chronology', 'Fiction, Young Adult, Classics, War, General, Juvenile Nonfiction, Literature, Friendship, Women, Family', 'Biography, History, Nonfiction, Biography & Autobiography, Humor', 'Fiction, Fantasy, Young Adult, Adventure, Science fiction, Thriller, Suspense, Magic', 'Fiction, Fantasy, Young Adult, Adventure, Classics, History, Comics, Juvenile Fiction, General, Philosophy', 'Fiction, Classics, Science fiction, Fantasy, Young Adult, Dystopian, History, Juvenile Fiction, Literary Collections, Adventure stories', 'Fiction, Classics, Nonfiction, LGBTQ, Biography, Women, Music, Memoir, Artists', 'Fiction, Fantasy, General, Literary Collections, Detective and mystery stories, Horror, English fiction, American fiction, Horror, Fear', 'Fantasy, Fiction, Young Adult, Adventure, Classics, Juvenile Fiction, General, Magic, Literature, Friendship', 'Fiction, Fantasy, Adventure, Science fiction, War, Dystopian, Space', 'Fiction, Fantasy, Adventure, Classics, Science fiction, Dystopian, General, Thriller, Suspense, Literary Collections', 'Fantasy, Fiction, Young Adult, Adventure, Family, Magic, Middle Grade, Siblings, low fantasy', 'Fantasy, Fiction, Science fiction, Dystopian, Horror', 'Young Adult, Fiction, Classics, Contemporary', 'Fiction, Fantasy, Young Adult, Adventure, Classics, Science fiction, History, Friendship, Boys, Carnivals', 'Fiction, Fantasy, Young Adult, Adventure, Science fiction, Young Adult Fiction, Family & Relationships, Fantasy fiction', 'Classics, Historical Fiction, Romance, Literary Fiction', 'Fiction, Fantasy, Young Adult, Science fiction, Child abuse', 'Fiction, Fantasy, Science fiction, Juvenile Nonfiction, Aliens, Thriller, Horror,  American, American fiction', 'Fiction, Fantasy, Young Adult, Adventure, Science fiction, War, Magic, Alchemy', 'Fiction, Fantasy, Young Adult, Adventure, LGBTQ, Young Adult Fiction', 'Fiction, Fantasy, Classics, Young Adult, Adventure, History, War, General, Literature, Poetry', 'Fiction, Fantasy, Young Adult, Adventure, Science fiction, Fantasty fiction', 'Fiction, Fantasy, Adventure, Classics, History, Biography, Religion, General, Juvenile Nonfiction, Poetry', 'Fiction, Fantasy, Young Adult, Adventure, Science fiction, Dystopian, General, Magic,  American, Fantasy fiction', 'Fantasy, Science fiction', 'Fiction, Classics, Young Adult, Romance, General, Literature, England, Children of clergy', 'Fiction, Classics, Young Adult, Comics, Juvenile Fiction, Romance, Biography, Comics & Graphic Novels, Literature, Education', 'Fiction, Fantasy, Young Adult, Adventure, Science fiction, Humor, Urban Fantasy', 'Fiction, Fantasy, Young Adult, Adventure, General, Suspense, Literary Collections, Sports', 'Fiction, Classics, Young Adult, Adventure, Mystery, History, Comics, General, Literature, Suspense', 'Fiction, Fantasy, Adventure, Science fiction, War, Space, Space Opera,  Greek, gods', 'Historical Fiction, Fantasy, War, General, United States, Grief', 'Fantasy, Young Adult, Adventure, Fiction, LGBTQ, History, Romance, Young Adult Fiction, Historical Fiction', 'Fiction, Classics, Young Adult, Romance, Literature, Family, Contemporary', 'Fiction, Mystery, Thriller, Literature, Suspense, Family', 'Fiction, Fantasy, Adventure, Science fiction, Dystopian, Thriller, Suspense', 'Nonfiction, Science', 'Young Adult, History, Nonfiction, Juvenile Nonfiction, Health & Fitness, Evolution (Biology), Food habits', 'Fantasy, Adventure, Science fiction, LGBTQ', 'Biography, Biography & Autobiography, Women', 'Fiction, Fantasy, Young Adult, Adventure, Classics, History, Juvenile Fiction, Mystery, General, Literature', 'Fiction, Fantasy, Classics, Dystopian, Science fiction, History, Romance, General, Comics & Graphic Novels, Women', 'Classics, Nonfiction', 'Fiction, Fantasy, Science fiction, Adventure, Classics, LGBTQ, Space, Aliens, Life on other planets, Local author', 'Fantasy, Fiction, Classics, Young Adult, Adventure, Science fiction, History, War, Juvenile Fiction, General', 'Fiction, Classics, Short stories, Women, Contemporary', 'Fiction, Classics, History, War, Family, Performing Arts, Country life', 'Fiction, Fantasy, Young Adult, Adventure, Science fiction, War, Dystopian, Space, Government,  Resistance to', 'Nonfiction, Humor, Business, Finance', 'Fiction, Young Adult, LGBTQ, Juvenile Fiction, Young Adult Fiction, Friendship, Contemporary, Extortion', 'Fantasy, Fiction, Young Adult, Adventure, Science fiction, Dystopian, General, Suspense, Literary Collections, Horror', 'Fiction, Fantasy, Young Adult, Adventure, Science fiction, Dystopian, General, Literary Collections, Fantasy fiction, Adventure stories', 'Fantasy, Fiction, Young Adult, Adventure, Juvenile Fiction, General, Middle Grade, low fantasy', 'Fiction, Adventure, Mystery, Thriller, Literature', 'Fiction, Young Adult, Classics, History, Romance, General, Women', 'Fiction, Young Adult, Classics, Juvenile Fiction, Juvenile Nonfiction, General, Young Adult Fiction, Acquaintance rape, Emotional problems', 'Fiction, Fantasy, Young Adult, Adventure, Science fiction, Dystopian, General, Fantasy fiction, Adventure stories, Good and evil', 'Fiction, Classics, Young Adult, Comics, General, Literature, Friendship, Education, Historical Fiction, Drama', 'Fiction, Fantasy, Young Adult, Adventure, Classics, History, Poetry, Short stories, Children, literary criticism', 'Fantasy, Fiction, Adventure, Young Adult, Science fiction, Mystery, Magic, Literary Collections, Fantasy fiction, Epic Fantasy', 'Fiction, Young Adult, Fantasy, Science fiction, Adventure, Romance, Dystopian, Juvenile Fiction, Young Adult Fiction', 'Fantasy, Young Adult, Adventure, Young Adult Fiction', 'Fiction, Fantasy, Young Adult, Adventure, Classics, Science fiction, General, Aliens, Suspense, American fiction', 'Fiction, Young Adult, Romance, Spanish, Contemporary Romance, Adult Fiction', 'Fantasy, Adventure, Fiction, Classics, Young Adult, Science fiction, History, Comics, Biography, General', 'Fiction, Young Adult, Adventure, History, Literature', 'Fiction, Fantasy, General, Thriller, Suspense, Literary Collections, Custody of children, Widows', 'Fiction, Classics, History, Romance, General, Literature, Women, Literary Collections', 'Fiction, Fantasy, Young Adult, Adventure, Classics, Science fiction, History, Comics, Juvenile Fiction, Spanish', 'Fiction, Adventure, Mystery, Thriller', 'Fantasy, Adventure, Fiction, Young Adult, Historical Fiction, Historical Fantasy, Imaginary places', 'Fantasy, Fiction, Adventure, Classics, Young Adult, Science fiction, War, Juvenile Fiction, Young Adult Fiction, Literary Collections', 'Biography, Family, Women', 'Fiction, Classics, Young Adult, Romance, History, Comics, Juvenile Fiction, Religion, General, Literature', 'Young Adult, Fiction, Romance, General, Young Adult Fiction, Realistic Fiction, Deportation', 'Fiction, Young Adult, Romance, General, Contemporary Romance, Boston (Mass.)', 'Fiction, Fantasy, Adventure, Science fiction, General, Thriller, Suspense, Literary Collections, Adventure stories, American fiction', 'Fiction, Young Adult, Adventure, Classics, Family, Folklore', 'Fiction, Classics, Science fiction, Dystopian, Fantasy, War, History, Comics, Juvenile Fiction, Romance', 'Fiction, Fantasy, Adventure, Science fiction, Space, Life on other planets', 'Fiction, Fantasy, Young Adult, Adventure, Science fiction, Romance, Thriller, Magic, Alchemy', 'Fiction, Domestic fiction', 'Young Adult, Fiction, Fantasy, Adventure, Science fiction, Juvenile Fiction, Dystopian, Space, Aliens, Young Adult Fiction', 'Fiction, Fantasy, Classics, History, General, Literature, Poetry, literary criticism, Mythology, Fables', 'Fiction, Fantasy, Young Adult, Adventure, LGBTQ, Romance, Books and reading, Compact discs', 'Fiction, Young Adult, Classics, Memory', 'Classics, Space', 'Fiction, Classics, Mystery, Literature, Suspense', 'Nonfiction, Business, Psychology', 'Fiction, Classics, History, War, Juvenile Fiction, Nonfiction, Literature, Historical Fiction, English fiction', 'Classics, Science fiction', 'Fiction, Fantasy, Adventure, Young Adult, Science fiction, Women, Magic, Urban Fantasy', 'Fiction, Fantasy, Adventure, Classics, Science fiction, Mystery, General, Thriller, Suspense, Adventure stories', 'Fantasy, Young Adult, Classics, Science fiction', 'Fiction, Fantasy, Young Adult, Adventure, Science fiction, High Fantasy', 'Fiction, Classics, Fantasy, Mystery, Comics, Nonfiction, General, Murder, Graphic novels, Literary Collections', 'Fiction, Classics, Adventure, History, General, Literature, Realistic Fiction, American literature', 'History, General, Biography & Autobiography, Science, Health & Fitness, Medical, Cancer, Antineoplastic agents', 'Nonfiction, Business', 'Fiction, Fantasy, Classics, Science fiction, Juvenile Fiction, General,  American, English fiction, Horror, Spanish fiction', 'Adventure, Classics, Fantasy, Science fiction', 'Fiction, Fantasy, Adventure, Young Adult, Science fiction, Magic, Literary Collections, High Fantasy, Attempted assassination', 'Fiction, Classics, Young Adult, Philosophy, Realistic Fiction, Coming of Age, teen, Caulfield,  Holden (Fictitious character)', 'Fiction, Fantasy, Adventure, Science fiction, Space, Aliens, Life on other planets, Space Opera, Interplanetary voyages', 'Fiction, Suspense, Books and reading', 'Fiction, Classics, Young Adult, Romance, History, General, Literature, Drama, Plays, Realistic Fiction', 'Fiction, Fantasy, Science fiction, General, Aliens, Suspense, literary criticism, Literary Collections, American fiction, Horror', 'Fiction, Fantasy, Young Adult, Adventure, Science fiction, War, Dystopian, Magic, Demonology', 'Fiction, Fantasy, Science fiction, Thriller, Horror', 'Fiction, Young Adult, Romance, LGBTQ, Cooking, Realistic Fiction, Queer, New adult, LGBTQ Literature, Gay', 'Nonfiction, Biography, General, Memoir', 'Fantasy, Young Adult, Fiction, Adventure, LGBTQ, Romance, Young Adult Fiction', 'Fiction, Classics, Fantasy, Young Adult, Adventure, History, Comics, Romance, Biography, General', 'Fiction, Classics, Friendship, Family, Spanish, Literary Fiction, Artists', 'Fantasy, Fiction, Science fiction, Adventure, Classics, Dystopian, Aliens, Literature, Carnivorous plants', 'Fiction, Classics, History, Romance, General, Immigrants, General fiction', 'Fiction, Young Adult, Adventure, History, War, Juvenile Fiction, Juvenile Nonfiction, Young Adult Fiction, Refugees', 'Fiction, Classics, History, War, Politics, Historical Fiction, Nigeria, Civil war, Indonesian language', 'Fantasy, Fiction, Young Adult, Adventure, Classics, Juvenile Fiction, General, Friendship, Family, Magic', 'Fiction, Young Adult, Family, Contemporary, Adoption', 'Fiction, Adventure, Classics, Science fiction, Suspense, Thriller, Horror', 'Fiction, Fantasy, Young Adult, Adventure, Science fiction, Dystopian', 'Fiction, Fantasy, Classics, Science fiction, Mystery, General, Children, Literary Collections,  American, English fiction', 'Fiction, Young Adult, Adventure, Classics, Mystery, General, Literature, Children,  English', 'Fiction, Young Adult, Mystery, Young Adult Fiction, Thriller, Cold cases (Criminal investigation)', 'Fiction, Young Adult, Boys', 'Rationalism', 'Fantasy, Fiction, Young Adult, Adventure, Classics, Science fiction, LGBTQ, General, Horror, English fiction', 'Adventure, Fiction, Fantasy, Classics, Young Adult, History, Comics, Juvenile Fiction, Nonfiction, Thriller', 'Fiction, Young Adult, Classics, Adventure, Mystery, General, Juvenile Nonfiction, Young Adult Fiction, Psychology, Literature', 'Fiction, Classics, Young Adult, War, Literature, Women, Historical Fiction, China', 'Fantasy, Adventure, Fiction, Classics, Young Adult, Science fiction, War, History, Comics, Juvenile Fiction', 'Fiction, Fantasy, Science fiction, Suspense, Police', 'Fiction, Classics, Women, Literary Collections', 'Fiction, Fantasy, Classics, History, War, Historical Fiction, Germany', 'Fiction, Fantasy, Science fiction, Suspense, Family, African Americans, Clergy', 'Biography, General, African Americans', 'Fiction, Fantasy, Adventure, Classics, Science fiction, General, Science, Interplanetary voyages', 'Fantasy, Fiction, Young Adult, Adventure, Science fiction, Comics, War, Grimdark, Antiheroes, Barbarians', 'Fiction, Fantasy, Science fiction, Mystery, Murder, English fiction, Horror, American literature', 'Fiction, Classics, Fantasy, Young Adult, History, Comics, Juvenile Nonfiction, Literature, Drama, Graphic novels', 'History, Science, General', 'Fiction, Fantasy, Adventure, Science fiction, Thriller, Education,  American, Time Travel', 'Fiction, Fantasy, Young Adult, Adventure, Classics, General, Young Adult Fiction, Historical Fiction, Magic, Fantasy fiction', 'Fiction, Fantasy, Adventure, Science fiction, History, Family', 'Young Adult, Fiction, Classics, Juvenile Fiction, Religion, Philosophy, Spanish', 'Fiction, Fantasy, Adventure, Science fiction, General, Thriller, Suspense, literary criticism, Artificial Intelligence, Artificial life', 'Fiction, Classics, Politics', 'Fiction, Fantasy, Young Adult, Science fiction, Dystopian, Space, Aliens, Celebrities', 'Fiction, Classics, General, African Americans', 'Fiction, Classics, Young Adult, History, Comics, Juvenile Fiction, Romance, General, Philosophy, Literature', 'Nonfiction, Biography, Biography & Autobiography, Travel, Memoir, Marathon running', 'Fiction, Classics, Young Adult, Adventure, Mystery, Murder, General, Crime, Crime Fiction, Forensic Science', 'Fiction, Fantasy, Young Adult, Adventure, Children, Folklore, Fairy tales, picture book', 'Fiction, Fantasy, Classics, Science fiction, Horror, Literary Collections,  American, American fiction, Horror', 'Fiction, Classics, LGBTQ, General, Art, Great Britain, Gay men', 'Fiction, War, History, Historical Fiction, Politics', 'Adaptability (Psychology)', 'Fiction, Fantasy, Young Adult, Adventure', 'Fantasy, Fiction, Young Adult, Adventure, Science fiction, Comics, Comics & Graphic Novels, Friendship, Magic, College graduates', 'Fiction, Classics, General, Literature, Drama, Plays, English drama, American drama, American Dream, Domestic drama', 'History, War, Biography, Nonfiction, Biography & Autobiography, General, Politics', 'Fiction, Young Adult, Fantasy, Adventure, Juvenile Fiction, Juvenile Nonfiction, Young Adult Fiction, Psychology, Spanish, Middle Grade', 'Fiction, Fantasy, Science fiction, Adventure, Space, Aliens', 'Fiction, Science fiction, Romance', 'Fiction, Young Adult, Mystery, Suspense', 'Fiction, Fantasy, Classics, Crime investigation', 'Fiction, Fantasy, Science fiction, Dystopian, Aliens, Suspense, American fiction, Cities and towns', 'Fiction, Fantasy, Satire', 'Science fiction, Fiction, Fantasy, Young Adult, Adventure, Classics, General, Space, Aliens, Humor', 'Fiction, Fantasy, Adventure, General, Young Adult Fiction, Historical Fiction, Horror, Historical Fantasy, Gothic, Vampires', 'Fantasy, Science fiction, Dystopian', 'Classics, History, Nonfiction, Science, Space, Philosophy, Humor, Travel', 'Fiction, Fantasy, Young Adult, Adventure, History, LGBTQ, Juvenile Fiction, Young Adult Fiction', 'Adventure, Classics, Biography, Nonfiction, Mountaineering expeditions', 'Fiction, Classics, History, Murder', 'Fiction, Classics, Mystery, Thriller, Literature, Murder, Crime', 'Fiction, Fantasy, Young Adult, Classics, Science fiction, Juvenile Fiction, Mystery, General, Thriller, Suspense', 'Fiction, Humor, American', 'Fiction, Fantasy, Young Adult, Adventure, Classics, Science fiction, Folklore, Mythology, Retellings, gods', 'Fantasy, Fiction, Adventure, Young Adult, Science fiction, Magic, Fantasy fiction, High Fantasy, Fantasy.', 'Fiction, Fantasy, Classics, History, General, Literature, Magic, literary criticism, Technology & Engineering, English fiction', 'Fiction, Fantasy, Classics, Science fiction, General, Suspense, Spanish,  American, American fiction, Horror', 'Fiction, Fantasy, Classics, Adventure, LGBTQ', 'Fiction, Fantasy, Adventure, Science fiction, History, Romance', 'Fiction, Fantasy, Classics, Science fiction, General, Suspense, Horror, Animals, Horror, Death', 'Fantasy, Fiction, Young Adult, Adventure, Comics, Science fiction, LGBTQ, Juvenile Fiction, Young Adult Fiction, Graphic novels', 'Fiction, Fantasy, Young Adult, Mystery, Murder', 'Nonfiction, General, Business & Economics, True crime, Finance, Crime, Crime investigations, Fraud', 'Fiction, Fantasy, Young Adult, Classics, Science fiction,  American, Boys, City and town life', 'Fiction, Adventure, Mystery, Thriller, Suspense, Assassins', 'Fiction, Fantasy, Young Adult, Adventure, Science fiction, Dystopian, Suspense, Magic, Demonology', 'Young Adult, Fiction, Young Adult Fiction', 'Fiction, Classics, Young Adult, Romance, History, Comics, Juvenile Fiction, General, Young Adult Fiction, Literature', 'Nonfiction, Business & Economics, Economics, Personal Development, tech development, Innovation', 'General, social science', 'Nonfiction, Biography, Biography & Autobiography, Family', 'Fiction, Fantasy, Adventure, Classics, Science fiction, History, General, Thriller, Suspense, Adventure stories', 'Classics, Fiction, Young Adult, Adventure, History, Juvenile Fiction, Romance, Mystery, General, Juvenile Nonfiction', 'Fiction, Young Adult, Adventure, Classics, History, Juvenile Fiction, Biography, Literature, Friendship, Family', 'Fantasy, Fiction, Young Adult, Adventure, Science fiction, War, Magic, Fantasy fiction, High Fantasy', 'Fantasy, Fiction, Young Adult, Adventure, Classics, Science fiction, Juvenile Fiction, Friendship, Magic, Children', 'Fiction, Fantasy, Science fiction, Adventure, War, History, Thriller, Literature, Historical Fiction, Data encryption (Computer science)', 'Fiction, Fantasy, Young Adult, Classics, Juvenile Fiction, Humor, Poetry, Children, Spanish, Christmas', 'Fiction, Science fiction, Adventure, Fantasy, Classics, Dystopian, Space, Philosophy, Dune (Imaginary place)', 'Fiction, Fantasy, Classics, Science fiction, Dystopian, Literature, End of the world, Chemical warfare', 'Fiction, Fantasy, Young Adult, Adventure, Science fiction, Space, Aliens', 'Fantasy, Fiction, Young Adult, Adventure, Classics, Science fiction, Dystopian, Space, Magic, American fiction', 'Fantasy, Fiction, Adventure, Classics, Science fiction', 'Fantasy, Young Adult, Adventure, Classics, Science fiction, Comics, LGBTQ, Comics & Graphic Novels, Literature, Graphic novels', 'Young Adult, Comics, Classics, War, Comics & Graphic Novels, Graphic novels, Memoir, Children of Holocaust survivors', 'Fantasy, Adventure, Science fiction, Classics, Comics, pulp fiction, Sword and Sorcery', 'Fantasy, Fiction, Classics, Young Adult, Adventure, Science fiction, Magic, Fantasy fiction, Adventure stories, High Fantasy', 'Fiction, Fantasy, Young Adult, Adventure, Classics, Science fiction, Comics,  American', 'Fiction, Science fiction, Fantasy, Classics, Adventure, Comics, Dystopian, Space, cyberpunk', 'Nonfiction, Computer Science, Programming, Computer software', 'Science fiction, Fiction, Fantasy, Adventure, Classics, Dystopian, Space, Dune (Imaginary place), Drugs, science fiction fantasy', \"Nonfiction, Business & Economics, Consumers' preferences\", 'Fiction, Fantasy, Adventure, Science fiction, Comics, War, Comics & Graphic Novels, Magic', 'Fiction, Fantasy, Young Adult, Classics, Juvenile Fiction, Poetry, Children', 'War, Nonfiction, Dystopian, social science, Korea (North)', 'Fiction, Fantasy, Adventure, Classics, Science fiction, Comics, War, Dystopian, Space, Aliens', 'Fiction, Science fiction, Fantasy, Adventure, Classics, Young Adult, Dystopian, Space, Philosophy, Dune (Imaginary place)', 'Fiction, Fantasy, Young Adult, Adventure, Science fiction, LGBTQ', \"Fantasy, Young Adult, Fiction, Classics, Adventure, Science fiction, Young Adult Fiction, Magic, Children, Children's stories\", 'Fiction, Fantasy, Adventure, Classics, Science fiction, History, Romance', 'Adventure, Dystopian, Fantasy, Science fiction, Young Adult', 'Classics, History, Philosophy, Stoicism', 'Fantasy, Adventure, Fiction, Young Adult, Classics, Science fiction, Suspense, Literary Collections, Discworld (Imaginary place)', 'Nonfiction, Biography, Biography & Autobiography, Psychology', 'Science, Nature', 'Classics, War, Nonfiction', 'Nonfiction, Philosophy, Psychology, Self help, Productivity, Inspirational', 'Fiction, Fantasy, Adventure, Classics, Science fiction, Comics, Space, Aliens, Life on other planets, Ringworld (Imaginary place)', 'Fiction, Fantasy, Young Adult, Adventure, Science fiction, Dystopian, Thriller, zombies', 'Fiction, Fantasy, Young Adult, Adventure, Science fiction, War, Dystopian, Space, dystopian, Government', 'Fiction, Fantasy, Young Adult, Adventure, Science fiction, Dystopian, Young Adult Fiction, warfare', 'Fiction, Science fiction, Fantasy, Adventure, Classics, War, Space, Aliens', 'Fiction, Science fiction, Fantasy, Young Adult, Adventure, Dystopian, Celebrities', 'Adventure, Aliens, Classics, Fantasy, Science fiction, Space, War', 'Fantasy, Adventure, Science fiction, Mystery, Space, Space Opera', 'Fiction, Fantasy, Science fiction, Young Adult, Adventure, Comics, Dystopian, War, Space, Betrayal', 'Fiction, Fantasy, Young Adult, Adventure, Science fiction, Dystopian, Young Adult Fiction', 'Fantasy, Fiction, Young Adult, Adventure, Science fiction, Mystery, Urban Fantasy, Chicago (Ill.)', 'Fantasy, Fiction, Science fiction, Short stories, Death', 'Nonfiction, Literary Collections, Memoir, Essays, Essay', 'Fiction, Young Adult, Romance, General, Humor, Women', 'Fiction, Fantasy, Science fiction, Adventure, Space, Aliens, Life on other planets', 'Biography & Autobiography, Gilmore Girls (Television program)', 'Fantasy, Young Adult, Fiction, Adventure, Science fiction, Magic', 'Fiction, Fantasy, Young Adult, Adventure, Science fiction, War, Dystopian, Space, Aliens, Young Adult Fiction', 'Fiction, Classics, History, Psychology, Literature, Historical Fiction,  English, Artists, Manuscripts', 'Classics, Nonfiction, Philosophy', 'Fantasy, Fiction, Adventure, Young Adult, Science fiction, Magic', 'Fantasy, Fiction, Adventure, Science fiction, War, Good and evil', 'Fiction, Science fiction, Fantasy, Adventure, Dystopian, Mystery, Space, Aliens, dystopian, alien', 'Fiction, Fantasy, Young Adult, LGBTQ, Romance, Friendship, Historical Fiction, Magical Realism, Blessing and cursing, New adult', 'Young Adult, Fiction, Fantasy, Science fiction, Adventure, Dystopian, Juvenile Fiction, Space, Young Adult Fiction', 'Science fiction, Fiction, Adventure, Fantasy, LGBTQ, Space, Suspense, Space Opera', 'Fiction, Fantasy, Young Adult, Adventure, Science fiction, LGBTQ, Romance, Dystopian, Young Adult Fiction', 'Science fiction, Fiction, Fantasy, Young Adult, LGBTQ, Dystopian, Space, Aliens', 'Business & Economics, social science, Male domination', 'Fiction, Fantasy, Young Adult, Adventure, Science fiction, War, Dystopian, Space, Aliens', 'Fiction, Fantasy, Science fiction, Adventure, Dystopian, Space, Aliens, dystopian', 'Science fiction, Fiction, Fantasy, Adventure, LGBTQ, Space', 'Adventure, Fiction, Fantasy, Science fiction, Young Adult, Dystopian, Thriller, Puzzles', 'Fiction, Fantasy, Young Adult, Adventure, Science fiction, Dystopian, Civilization,  Subterranean', 'Biography & Autobiography, Politics, Presidents', 'Science fiction, Fiction, Fantasy, Adventure, Space, Dystopian, Aliens, Mystery, adult, Amnesia', 'Fantasy, Adventure, Science fiction, Comics, War, LGBTQ, Dystopian, Space, Aliens,  etc', 'Fiction, Fantasy, Adventure, Science fiction, Dystopian', 'Fiction, Fantasy, Young Adult, General, Literature', 'Nonfiction, tech development', 'Business & Economics, Finance,  Personal', 'Nonfiction, Philosophy, Business & Economics, Self-Help', 'Fiction, Fantasy, Young Adult, Adventure, Comics, Science fiction, War, LGBTQ, Dystopian, Space', 'Fantasy, Adventure, Science fiction, Comics, War, LGBTQ, Dystopian, Space, Aliens, Comics & Graphic Novels', 'History, Biography, Business, Sports', 'Geography, History, Nonfiction, War', 'Science fiction, Fiction, Adventure, Fantasy, Dystopian, War, Space, Aliens, Mystery, Suspense', 'Fiction, Fantasy, Young Adult, Adventure, Classics, Science fiction, Humorous fiction', 'Nonfiction, General, Philosophy', 'Fantasy, Fiction, Young Adult, Adventure, Science fiction, Forgers', 'Fantasy, Science fiction, Young Adult, Adventure, Comics, LGBTQ, Dystopian, Aliens, Comics & Graphic Novels, Graphic novels', 'Fantasy, Young Adult, Horror, Supernatural Fiction', 'Fiction, Fantasy, Young Adult, Adventure, Science fiction, Juvenile Fiction, Romance, Dystopian, Young Adult Fiction, Family', 'Fantasy, Adventure, Classics, War, Nonfiction, Religion, greek mythology', 'Fantasy, Fiction, Adventure, Science fiction, War, Magic', 'Fantasy, Fiction, Science fiction, LGBTQ, Politics, Magic, Urban Fantasy', 'Art, Data, Data Visualization, Mathematics, Nonfiction, tech development', 'Fiction, Fantasy, Adventure, Science fiction, War, Ability', 'Biography & Autobiography, High technology industries', 'Mathematics', 'Nonfiction, Science, Health', 'Fiction, Fantasy, Young Adult, Adventure, Science fiction, War, Dystopian, Biography, Space, Government', 'Fiction, Thriller, Suspense, Women, Murder, Australian fiction', 'Fiction, Fantasy, Adventure, Classics, Science fiction, Romance, Dystopian, Mystery, General, Japan', 'Comics, Nonfiction, Science, Humor', 'Young Adult, Fantasy, Science fiction, Adventure, Space, Dystopian, Aliens', 'Fiction, Biography, Nonfiction, Biography & Autobiography, Philosophy, Memoir', 'political science', 'Fantasy, Young Adult, Adventure, Science fiction, War, Dystopian, Space', 'Fiction, Fantasy, Adventure, Science fiction, LGBTQ, Dystopian, Women', 'Fiction, Fantasy, Science fiction, Young Adult, Adventure, Dystopian', 'Fantasy, Fiction, Young Adult, Science fiction, Adventure, LGBTQ, Space, Aliens, Novella', 'Fantasy, Fiction, Young Adult, Science fiction, LGBTQ', 'Fiction, Fantasy, Young Adult, Adventure, Science fiction, Dystopian, Mystery, Murder, Urban Fantasy', 'Fiction, Fantasy, Science fiction, LGBTQ, Dystopian, Murder', 'Fiction, Fantasy, Young Adult, Science fiction, Dystopian, Young Adult Fiction, dystopian', 'Fiction, Fantasy, Young Adult, Adventure, Science fiction, Dystopian, Magic, Good and evil', 'Fantasy, Fiction, Young Adult, Mystery, Thriller, Magic, Urban Fantasy, Paranormal, Adult Fiction, Dark Academia', 'Biography, Nonfiction, Biography & Autobiography, Psychotherapists', 'Fiction, Young Adult, Adventure, Fantasy, Science fiction, War, Comics, Dystopian, Space, Aliens', 'Fiction, Fantasy, Classics, Young Adult, Adventure', 'Nonfiction, Business & Economics, Psychology, Self-Help, Self help, Assertiveness (Psychology)', 'Fiction, History, Female friendship', 'Nonfiction, Philosophy, Psychology, Self-Help, Conduct of life', 'Memory, Mental discipline', 'Nonfiction, Psychology, Self-Help', 'Fantasy, Classics, History, informative, Gods and goddesses', 'Fiction, Science fiction, Adventure, Fantasy, Young Adult, Classics, Juvenile Fiction, Space, Aliens, Humor', 'Business, Computer Science, Entrepreneurship, Nonfiction', 'Fiction, Classics, Philosophy, Business & Economics, Self-Help, Electronic books, Success, Business communication', 'Fantasy, Young Adult, Adventure, Science fiction, Young Adult Fiction, low fantasy, Belacqua,  Lyra (Fictitious character)', 'Fantasy, Fiction, Science fiction, Young Adult, Adventure, LGBTQ, Dystopian, General, Earthquake zones', 'Fiction, Fantasy, Science fiction, Young Adult, Classics, General, Juvenile Nonfiction, Spanish, Fantasy fiction, English fiction', 'Fiction, Fantasy, Science fiction, War, Dystopian, General, Space, Aliens', 'Fiction, Fantasy, Adventure, Science fiction, Short stories, Horror', 'Fantasy, Fiction, Adventure, Science fiction, Short stories', 'Fantasy, Fiction, Adventure, Science fiction', 'Fiction, Fantasy, Science fiction, LGBTQ, War, Space, Imaginary wars and battles', 'Fantasy, Fiction, Science fiction, Young Adult, Adventure, LGBTQ, Dystopian, General, End of the world', 'Fiction, Fantasy, Young Adult, Science fiction, LGBTQ, Ability', 'Fiction, Fantasy, Young Adult, Adventure, Science fiction, War, Dystopian, Space', 'Fiction, Fantasy, Young Adult, Adventure, Science fiction, Comics, War, LGBTQ, Dystopian', 'Fiction, Fantasy, Young Adult, Adventure, Science fiction, LGBTQ, Dystopian, General, Philosophy', 'Fantasy, Adventure, Fiction, Young Adult, Science fiction', 'Fiction, Fantasy, Adventure, Science fiction, Dystopian, Space, Aliens, Earth (Planet)', 'Fiction, Fantasy, Classics, Science fiction, Dystopian, relationships', 'Fiction, Young Adult, Science fiction, Fantasy, Adventure, Aliens, Dystopian, Space, Young Adult Fiction', 'Fantasy, Science fiction, Dystopian, Short stories', 'Fantasy, Science fiction, LGBTQ, Dystopian, Psychological thriller', 'Fantasy, Science fiction, Dystopian, Space, psychological horror', 'Fiction, Science fiction, Dystopian', 'Fiction, Fantasy, Adventure, Science fiction, Dystopian, Murder', 'Fiction, Fantasy, Young Adult, Adventure, Science fiction, Dystopian, dystopian', 'Fiction, Fantasy, Young Adult, Adventure, Science fiction, Suspense, Friendship, Magic, Fantasy fiction', 'Fantasy, Young Adult, Adventure, Science fiction, War, Space, Aliens', 'Science fiction, Fiction, Fantasy, Adventure, Space, Dystopian, LGBTQ, Mystery, Humor, Aliens', 'Fiction, Fantasy, Science fiction, Adventure, War, Space, Dystopian, Aliens', 'Fiction, Adventure, General, Women, Abusive men', 'Fiction, Fantasy, Adventure, Science fiction, War, Dystopian, Space, Aliens', 'Fantasy, Young Adult, Adventure, Science fiction, History, Dungeons and Dragons (Game)', 'Fiction, Fantasy, Science fiction, Dystopian, Short stories', 'Fiction, Fantasy, Adventure, Science fiction, Dystopian, Space, Aliens', 'Fiction, Fantasy, Science fiction, Young Adult, Adventure, Magic, Urban Fantasy, Contemporary, Magical Realism, Self help', 'Nonfiction, Business & Economics, Business, Mathematics, Technology, Games', 'Nonfiction, Self-Help, Business & Economics, Business, Design, Personal Development', 'Fantasy, Fiction, Young Adult, Adventure, LGBTQ, General, Magic, Assassins, High Fantasy', 'Fiction, Fantasy, Classics, Science fiction, LGBTQ, Dystopian, City and town life', 'History, Biography, LGBTQ, Biography & Autobiography, Science, Memoir', 'Fiction, Fantasy, Young Adult, Adventure, Science fiction, Juvenile Fiction, Dystopian, Mystery, Young Adult Fiction, Magic', 'Psychology, Women', 'Classics, Nonfiction, Biography', 'Fiction, LGBTQ, Nonfiction, Biography, General, Humor', 'Fiction, LGBTQ, War, Biography & Autobiography', 'Philosophy, Psychology', 'Self-Help, Conduct of life', 'Fiction, Fantasy, Young Adult, LGBTQ', 'Biography, Nonfiction, Biography & Autobiography, Family & Relationships, Memoir', 'Fiction, Fantasy, Adventure, Science fiction, Immortality', 'Dystopian, Fantasy, Science fiction', 'Biography, Nonfiction, Biography & Autobiography, Psychology, Self-Help, Self help, Mental health', 'Classics, Nonfiction, Science', 'LGBTQ, Biography, Nonfiction, Biography & Autobiography, General,  American, Memoir, Amherst (Mass.)', 'Fantasy, Young Adult, LGBTQ, Young Adult Fiction, Blessing and cursing', 'Fiction, Mystery, Romance, Historical Fiction, Murder, Realistic Fiction, Coming of Age', 'Fiction, Romance, Chick Lit', 'Nonfiction, Biography & Autobiography, Humor, Self-Help', 'Fiction, Fantasy, Young Adult, Science fiction, Dystopian, War', 'Fantasy, Young Adult, Fiction, Romance, Adventure, Young Adult Fiction, Magic, Romantasy, Fantasy romance, New adult', 'Fiction, Fantasy, Science fiction, War, Dystopian, Short stories', 'Fiction, Fantasy, Young Adult, Adventure, Dystopian, General, Young Adult Fiction, Magic', 'Fiction, Fantasy, Classics, War, Women, Goddesses', 'Nonfiction, Biography & Autobiography, Philosophy, Psychology, Self-Help, Anxiety disorders', 'Fiction, War', 'Fiction, Fantasy, Young Adult, Adventure, Science fiction, Antiquities', 'Fantasy, Young Adult, Fiction, Mystery, Young Adult Fiction, Murder', 'Fiction, Fantasy, Mystery, Thriller, Horror, Historical Fiction, Gothic, Gothic Horror, Cousins', 'Fiction, Fantasy, Young Adult, Science fiction, Dystopian', 'Fiction, Fantasy, Adventure', 'Fantasy, Feminism, Historical Fiction', 'Young Adult, Fiction, Fantasy, Adventure, Science fiction, LGBTQ, Magic, Urban Fantasy, Magical Realism', 'Fiction, Women, Contemporary, Literary Fiction, Asia', 'Fantasy, Fiction, Young Adult, Adventure, Science fiction, dragons', 'Fiction, Juvenile Nonfiction, Drama', 'Fiction, Fantasy, Young Adult, Adventure, Science fiction, History, Comics, Juvenile Fiction, Comics & Graphic Novels, Young Adult Fiction', 'Nonfiction, Memoir', 'Fantasy, Fiction, Young Adult, Adventure, Classics, Science fiction, Juvenile Fiction, General, Philosophy, Magic', 'Fiction, Mystery, Thriller, Suspense, Murder', 'Fantasy, Fiction, Young Adult, Adventure, Classics, Science fiction, Juvenile Fiction, General, Friendship, Education', 'Fantasy, Fiction, Young Adult, Adventure, History, Mythology, Death (Personification)', 'Fiction, Fantasy, Mystery, Thriller, Horror', 'Fiction, Fantasy, Young Adult, Young Adult Fiction', 'Young Adult, Fiction, Fantasy, Adventure, Mystery, Young Adult Fiction', 'Fiction, Fantasy, Adventure, Science fiction, LGBTQ', 'Fiction, LGBTQ, Humor', 'Fiction, Young Adult, Romance, General, Politics, Friendship, Women, African Americans, Contemporary, Contemporary Romance', 'Fiction, Fantasy, Science fiction, Adventure, History, Historians', 'Fantasy, Young Adult, Adventure, Science fiction, Classics', 'Women, True crime', 'Fiction, Fantasy, Classics, Romance, General', 'Fiction, Fantasy, Classics, LGBTQ, Romance, Japan', 'Fantasy, Young Adult, Fiction, Adventure, LGBTQ, Juvenile Fiction, Romance, Young Adult Fiction, Magic, Angels', 'Fantasy, Young Adult, Fiction, Adventure, Science fiction, History, Comics, Juvenile Fiction, Comics & Graphic Novels, Demonology', 'Fantasy, Young Adult, Adventure, LGBTQ, Juvenile Fiction, Young Adult Fiction, Angels', 'Fantasy, Adventure, Classics, War', 'Fiction, Fantasy, Classics', 'Fiction, Young Adult, LGBTQ, Young Adult Fiction, Dating (Social customs)', 'Fiction, Fantasy, Young Adult, Adventure, Dystopian, Young Adult Fiction', 'Fantasy, Young Adult, Fiction, Adventure, Romance, LGBTQ, Young Adult Fiction, Family, Magic', 'Fantasy, Young Adult, Adventure, LGBTQ, Juvenile Fiction, Young Adult Fiction', 'Fiction, Fantasy, Young Adult, Science fiction', 'Fiction, Fantasy, Young Adult, Juvenile Fiction, Young Adult Fiction, Family, Breast', 'Fantasy, Fiction, Young Adult, Adventure, Science fiction, LGBTQ', 'Fiction, Classics, Fantasy, Young Adult, Adventure, Science fiction, History, Comics, Juvenile Fiction, Romance', 'Young Adult, Fiction, Fantasy, Juvenile Fiction, Young Adult Fiction, High school students', 'Fantasy, Young Adult, LGBTQ, Dystopian', 'Fiction, Fantasy, Young Adult, Adventure, Science fiction, LGBTQ, Space', 'Fiction, Fantasy, Young Adult, Adventure, Science fiction, LGBTQ, Dystopian, Young Adult Fiction, Friendship, Amnesia', 'Fiction, Fantasy, Young Adult, Adventure, Science fiction, LGBTQ, Dystopian, Space, Aliens, Young Adult Fiction', 'Fiction, Fantasy, Adventure, Science fiction, Comics, Dystopian, Comics & Graphic Novels, Literature, Suspense, Women', 'Classics, Adventure, Fiction, Fantasy, Poetry, Literature, Epic Poetry', 'LGBTQ, Comics', 'Fiction, Fantasy, Classics, Biography & Autobiography, Poetry, Education, Drama, Devil', 'Fantasy, Young Adult, Adventure, LGBTQ, Romance, Young Adult Fiction, Historical Fiction, Demonology', 'Fiction, Fantasy, Science fiction, LGBTQ, Magic, Downloadable e-Books', 'Fantasy, Young Adult, Adventure, Romance, Young Adult Fiction, Contests', 'Fantasy, Young Adult, Adventure, LGBTQ, Young Adult Fiction', 'Fiction, Fantasy, Young Adult, Adventure, Science fiction, Romance, Dystopian, Young Adult Fiction, Good and evil', 'Fantasy, Young Adult, Adventure, Young Adult Fiction, Magic', 'Fantasy, Fiction, Young Adult, Adventure, Romance, Young Adult Fiction', 'Classics, Horror, psychological horror, Young Adult', 'Fiction, Fantasy, Young Adult, Adventure, Science fiction, Dystopian, Young Adult Fiction, Ability', 'Fiction, Fantasy, Young Adult, Adventure, Science fiction, War, Juvenile Fiction, Romance, Dystopian', 'Fiction, Young Adult, Fantasy, Science fiction, Adventure, War, LGBTQ, Juvenile Fiction, Romance, Dystopian', 'Mystery, adult', 'Fiction, Romance, Contemporary', 'Fiction, Fantasy, Horror, Horror', 'Fiction, Fantasy, Young Adult, Juvenile Fiction, Young Adult Fiction', 'Fiction, Young Adult, Romance, Contemporary Romance, Romantic Comedy', 'Fiction, Fantasy, Young Adult, Science fiction, LGBTQ, Emperors', 'Fiction, Romance, relationships, Dark Romance', 'Fantasy, Fiction, Young Adult, Young Adult Fiction, New adult', 'Fantasy, Young Adult, Adventure, Dystopian, Young Adult Fiction, Australian fiction', 'Fantasy, Fiction, Young Adult, Juvenile Fiction, Romance, Young Adult Fiction', 'Fiction, Fantasy, Young Adult, Adventure, Romance', 'Fantasy, Adventure, Fiction, Young Adult, Juvenile Fiction, Young Adult Fiction', 'Young Adult, Juvenile Fiction, Romance, Young Adult Fiction, High school', 'Fantasy, Fiction, Romance, Dark Romance, erotica, Romantasy, Retellings, Fairy Tale Retelling, Retelling', 'Fiction, Fantasy, Young Adult, Adventure, Romance, Dystopian, Young Adult Fiction, Assassins', 'Fantasy, Fiction, Young Adult, Adventure, Romance, War, Juvenile Fiction, General, Young Adult Fiction, Magic', 'Fantasy, Fiction, Young Adult, Adventure, Juvenile Fiction, Young Adult Fiction', 'Fiction, Young Adult, Young Adult Fiction, Mystery, Thriller', 'Young Adult, Fiction, Fantasy, Adventure, Science fiction, Dystopian, LGBTQ, Young Adult Fiction, Apprentices', 'Young Adult, Fiction, Romance, Contemporary Romance', 'Fiction, Fantasy, Young Adult, Adventure, Science fiction, Dystopian, Young Adult Fiction, Murder, Death', 'Fantasy, Fiction, Young Adult, Adventure, LGBTQ, Young Adult Fiction, Young adult fantasy', 'Fiction, LGBTQ, Romance', 'Fantasy, Young Adult, Dystopian, Young Adult Fiction', 'Fantasy, Fiction, Adventure, Science fiction, Dark Fantasy', 'Fiction, Fantasy, Young Adult, Science fiction, LGBTQ, Politics, Magic, Epic Fantasy, Imaginary wars and battles', 'Young Adult, Fiction, Fantasy, Science fiction, Dystopian, Young Adult Fiction', 'Fantasy, Young Adult, Fiction, Adventure, Romance, Young Adult Fiction', 'Fiction, Romance, Contemporary Romance, adult, Romantic Comedy, Books About Books', 'Fiction, Fantasy, Young Adult, Adventure, Juvenile Fiction, Romance', 'Fiction, Fantasy, Young Adult, Adventure, War, Magic', 'Fantasy, Young Adult, Adventure, Fiction, Romance, War, Juvenile Fiction, Young Adult Fiction, Magic, Politics', 'Fantasy, Young Adult, Adventure, Fiction, War, Romance, Young Adult Fiction, Magic, Suspense, Politics', 'Fantasy, Young Adult, LGBTQ, Young Adult Fiction', 'Fantasy, Young Adult, Fiction, Adventure, Science fiction, LGBTQ, Romance, Young Adult Fiction, Thriller, Women', 'Fantasy, Fiction, Young Adult, Adventure, Science fiction, LGBTQ, Mythology', 'Fantasy, Young Adult, Adventure, LGBTQ', 'Fantasy, Fiction, Young Adult, Adventure, Science fiction, War, General, Friendship, Magic', 'Fantasy, Fiction, Young Adult, Adventure, Romance, Fantasy romance, adult, New adult', 'Fiction, LGBTQ, Romance, Queer', 'Young Adult, Fiction, Fantasy, Adventure, Young Adult Fiction, literary criticism, Romantasy, Young adult fantasy', 'Fantasy, Young Adult, Science fiction, LGBTQ', 'Fantasy, Fiction, Young Adult, Adventure, Science fiction, War, Epic Fantasy, Grimdark', 'Fiction, Fantasy, Young Adult, LGBTQ, General, Friendship', 'Mystery, Thriller, Suspense', 'Young Adult, Fantasy, Science fiction, Dystopian, Young Adult Fiction', 'Fiction, Fantasy, Young Adult, Adventure, Science fiction, Romance, LGBTQ, Dystopian, Mystery, Friendship', 'Fantasy, Young Adult, Adventure, Dystopian, Young Adult Fiction, Corruption', 'Fiction, Fantasy, Young Adult, LGBTQ, Magic', 'Fantasy, Young Adult, Fiction, Romance, New adult', 'Young Adult, Fiction, Fantasy, Adventure, Mystery, Juvenile Nonfiction, Young Adult Fiction, Contemporary, Young Adult Fiction / Mysteries & Detective Stories', 'Fantasy, Fiction, Adventure, LGBTQ, Dystopian, Australian fiction', 'Fiction, Fantasy, Young Adult, Adventure, Classics, Juvenile Fiction, Humor, Middle Grade, Siblings, Humorous stories', 'Fiction, Fantasy, Classics, Science fiction, Dystopian, Short stories, Horror,  American, Fantasy fiction', 'Fiction, Young Adult, Classics, History, LGBTQ, War, General, Friendship, Boys', 'Fiction, Fantasy, Science fiction, Suspense', 'Young Adult, Comics, Comics & Graphic Novels, Humor', 'Fantasy, Young Adult, Adventure, Comics, LGBTQ, Comics & Graphic Novels, Young Adult Fiction, Graphic novels, Bands (Music)', 'Fantasy, Fiction, Young Adult, Adventure, Classics, Juvenile Fiction, Mystery, General, Magic, Humor', 'Fiction, Fantasy, Young Adult, Adventure, Comics, LGBTQ, Comics & Graphic Novels, Young Adult Fiction', 'Fantasy, Fiction, Classics, Adventure, Young Adult, Science fiction, Comics, Juvenile Fiction, General, Juvenile Nonfiction', 'Fiction, Fantasy, Young Adult, Science fiction, LGBTQ, Magic', 'Fiction, Young Adult, Romance, Contemporary Romance, College students', 'Fiction, Fantasy, Young Adult, Science fiction, Juvenile Fiction, Aliens, Young Adult Fiction', 'Fantasy, Classics, Science fiction, short story', 'Family & Relationships, Contemporary, Literary Fiction, Mental health', 'Fiction, History, Comics, Literature', 'War, Philosophy', 'Fiction, Mystery, Thriller, Suspense, Detective and mystery stories, Crime, Medical examiners (Law)', 'Fiction, Young Adult, Classics, LGBTQ', 'Fiction, Classics, Mystery, Ambition', 'Fiction, Classics, Romance, Nonfiction, Mystery, Biography & Autobiography, General, Thriller, social science, Murder', 'Fiction, Classics, Historical Fiction', 'Fantasy, Classics, Poetry, Short stories', 'Fiction, Classics, Science fiction, General, Poetry, Politics', 'Classics, History, LGBTQ, Nonfiction, Mystery, General, Travel, Murder, True crime, Celebrities', 'Fiction, Classics, Philosophy, Literature', 'Fiction, Young Adult, Adventure, History, Mystery, Murder, Detective and mystery stories', 'Fiction, Adventure, Mystery, General', 'Fiction, Young Adult, Fantasy, Adventure, Classics, Juvenile Fiction, Mystery, General, Humor, Spanish', 'Fiction, Classics, Juvenile Fiction, Romance, Biography, General, Literature, Literary Collections, Artists, City and town life', 'Fiction, Fantasy, Young Adult, Adventure, Classics, Science fiction, Thriller, Suspense, Literary Collections, Dinosaurs', 'Fiction, Fantasy, Classics, Psychology, Women', 'Fiction, Fantasy, Young Adult, Adventure, Science fiction, War, Dystopian, Magic', 'Science fiction, Dystopian', 'Biography, Biography & Autobiography, social science, Undertakers and undertaking', 'Fiction, Mystery, Romance, General, Suspense, Murder, Detective and mystery stories, Manors', 'Philosophy', 'Fiction, Fantasy, Horror', 'Fiction, Business', 'Productivity', 'Fiction, Classics, History, Murder, Canada', 'Fiction, Mystery, Thriller', 'Fiction, Women, Short stories, General fiction,  Korean', 'Fiction, Mystery, Juvenile Nonfiction, Suspense, Thriller, Family, Families', 'Fiction, Fantasy, Science fiction, Mystery, Police', 'Fiction, Classics, Young Adult, Adventure, Mystery, History, Literature, Suspense, Murder, Detective and mystery stories', 'Classics, literary criticism, reference', 'Fiction, Abuse of administrative power', 'Fantasy, Romance', 'Fiction, Fantasy, Science fiction, LGBTQ, Dystopian, Magic, Prisoners', 'Dystopian, Fantasy, LGBTQ, Science fiction', 'Fiction, Fantasy, Classics, Science fiction, Dystopian, Fantasy fiction', 'Fiction, Fantasy, Science fiction, Mystery', 'Fiction, Classics, LGBTQ, Romance, Women, Short stories, Drama, Japan', 'Fantasy, Adventure, Fiction, Young Adult, LGBTQ, War, Fantasy fiction, Erotic stories, Historical Fantasy', 'Adventure, LGBTQ', 'Fiction, Fantasy, Young Adult, Adventure, Classics, Juvenile Fiction, Humor, Middle Grade, Adoption', 'Fiction, Fantasy, Young Adult, Adventure, Science fiction, Humor, Magic, Aventure and aventuriers', 'Fiction, Fantasy, Young Adult, Adventure, Classics, Juvenile Fiction, Humor, Middle Grade, Siblings, Baudelaire', 'Fiction, Fantasy, Young Adult, Adventure, Classics, Juvenile Fiction, Mystery, Humor, Siblings, Baudelaire', 'Fantasy, Fiction, Classics, Odysseus (Greek mythology)', 'Science fiction, Fiction, Fantasy, Adventure, War, Dystopian, Space, Aliens, Interplanetary voyages', 'Science fiction, Fiction, Fantasy, Young Adult, Adventure, War, Dystopian, Space, Aliens,  Jim (Fictitious character)', 'Fantasy, Fiction, Young Adult, Adventure, Comics, Juvenile Fiction, Mystery, General, Young Adult Fiction, Thriller', 'Fantasy, Young Adult, Adventure, Science fiction, LGBTQ', 'Fiction, Fantasy, Young Adult, Science fiction, LGBTQ, Dystopian, Space', 'Fiction, Fantasy, Young Adult, Adventure, Comics, LGBTQ, Comics & Graphic Novels, Camps', 'Fantasy, Young Adult, Science fiction, Comics, LGBTQ, Comics & Graphic Novels, Graphic novels', 'Fiction, Science fiction, Fantasy, Adventure, War, Space, Aliens, Conspiracies', 'Fiction, Fantasy, Science fiction, Adventure, War, Dystopian, Space, Aliens, Electronic books, Imaginary places', 'Adventure, Fantasy, Science fiction, Young Adult', 'Fiction, Fantasy, Young Adult, Comics, LGBTQ, Romance, Young Adult Fiction, Magic', 'Fiction, Fantasy, Young Adult, Adventure, Comics, Juvenile Fiction, Magic, Spanish, Adventure stories, Siblings', \"Fantasy, Fiction, Young Adult, Adventure, LGBTQ, Juvenile Fiction, Young Adult Fiction, Spanish, Children's stories, Middle Grade\", 'Fiction, Fantasy, Science fiction, Space, Aliens, Space Opera', 'Fiction, Science fiction, Fantasy, Adventure, Space, Aliens, Life on other planets,  Jim (Fictitious character)', 'Fantasy, Adventure, Science fiction, Dystopian, Space', 'Fiction, Fantasy, Science fiction, Adventure, War, Dystopian, Space, Aliens', 'Fiction, Fantasy, Adventure, Science fiction, Space, Aliens', 'Fantasy, Fiction, Young Adult, Adventure, LGBTQ, Juvenile Fiction, Adventure stories, Middle Grade', 'Fiction, Young Adult, Classics, Realistic Fiction', 'Fiction, Classics, Travel, British', 'Young Adult, Classics, War', 'Fiction, Fantasy, Classics, Romance', 'Fiction, Classics, General, Short stories', 'Fiction, Fantasy, History', 'Fiction, Fantasy, Science fiction, Dystopian, Literature', 'Adventure, Memoir, Nonfiction', 'Fiction, Comedias cinematograficas', 'Fiction, Romance, Family', 'History, Nonfiction, True crime, Books About Books', 'Fiction, LGBTQ', 'History, Nonfiction, Comics & Graphic Novels, African Americans, Racism', 'Fiction, Fantasy, Adventure, Science fiction, Dystopian, General, Imaginary wars and battles', 'Fiction, Classics, Young Adult, History, Romance, Juvenile Nonfiction, Literature, Humor, Drama, England', 'Fiction, History, LGBTQ', 'Fantasy, Fiction, Young Adult, Adventure, Classics, Comics, War, Juvenile Fiction, Magic, Fantasy fiction', 'Fiction, Suspense, Intelligence service', 'Fiction, Young Adult, LGBTQ, Romance, Friendship,  English, Dublin (Ireland), Television plays', 'War, Memoir, Self help, autobiography', 'Nonfiction, Business & Economics, Psychology, Business, Finance', 'Fantasy, Fiction, Adventure, Young Adult, War, LGBTQ, Historical Fiction, Supernatural', 'Fantasy, Classics, Poetry, Death', 'Fiction, Fantasy, Young Adult, LGBTQ, Juvenile Fiction, Young Adult Fiction', 'Fiction, Fantasy, Young Adult, Romance', 'Fiction, Fantasy, Young Adult, Adventure, War', 'Fantasy, Fiction, Young Adult, Adventure, Romance, Fantasy romance', 'Fiction, Fantasy, Science fiction, Young Adult, Adventure, Dystopian, LGBTQ', 'Fiction, Fantasy, dystopian', 'Fiction, Young Adult, Romance, Travel, Contemporary Romance', 'Dark Romance, Fiction, Romance', 'Fiction, Classics, Fantasy, Young Adult, Science fiction, General, Literature, Family, Foreign Language Study', 'Classics, Finance, Economics, Investing', 'Nonfiction, Self help, Writing', 'Big data', 'Fiction, Drama, Contemporary', 'Fiction, Thriller, Suspense, Literary Fiction, Contemporary Fiction', 'Business & Economics', 'Classics, History, Investments', 'General, Philosophy', 'Nonfiction, General, Business & Economics, Business', 'Nonfiction, Women, Health & Fitness, Sex instruction for women', 'Nonfiction, Philosophy, Self help', 'Fiction, Fantasy, Young Adult, Adventure, Science fiction, Romance, Dystopian, Young Adult Fiction, Siblings, Elias (Fictitious character)', 'Fiction, Fantasy, Young Adult, Adventure, Classics, Science fiction, War, Literature, Magic', 'Fiction, Fantasy, Young Adult, Adventure, War, Dystopian, Young Adult Fiction, Friendship, Magic', 'Fiction, Classics, Psychology, Literature, Fathers and sons', 'Fantasy, Classics, Mystery, literary criticism', 'History, Nonfiction, Science, Biography & Autobiography, Space, Philosophy', 'Self-Help, Reclame', 'Science, Women', 'Fiction, LGBTQ, Historical Fiction, Literary Fiction', 'Fiction, Adventure, LGBTQ', 'Fiction, Science fiction, Fantasy, Adventure, Space, Humor, Fathers and sons', 'Comics', 'Fiction, Fantasy, Historical Fiction, African Americans, Magical Realism', 'Fiction, War, Historical Fiction, Family, Asia', 'Young Adult, Adventure', 'Adventure, History, Travel', 'Classics, Poetry, Travel', 'Historical Fiction, Adventure, Classics, History, War', 'Fiction, Fantasy, Classics, LGBTQ, War, Romance', 'Science fiction, Science, Humor', 'Science', 'Fiction, Fantasy, Science fiction, LGBTQ, Juvenile Nonfiction', 'History, social science, Eugenics', 'Fantasy, Fiction, Adventure, Science fiction, LGBTQ, Mythology', 'Fiction, War, Communists', 'Young Adult, War, Young Adult Fiction', 'Fiction, Classics, African Americans', 'Fantasy, Science fiction, LGBTQ, Literary Fiction, adult, Magical Realism', 'Fiction, Native Americans', 'Biography, Adventure, Memoir, Nonfiction, Travel', 'Fiction, Fantasy, Young Adult, Adventure, Science fiction, War, Dystopian', 'Science, Nonfiction, Space, social science', 'Fiction, Fantasy, History, Historical Fiction,  American', 'Fiction, Classics, LGBTQ, Romance, Murder', 'Fiction, Fantasy, Charms', 'Fiction, Fantasy, Literature, Friendship', 'Fiction, Identity (Psychology).', 'Fantasy, Fiction, Adventure, Science fiction, Mystery, Murder, Magic, Urban Fantasy', 'Fiction, Classics, History, Nonfiction, War, Philosophy, Politics, General, Psychology, Literature', 'Fiction, Police, Detective and mystery stories', 'Fiction, Young Adult Fiction, Thriller, Suspense, Women, Murder', 'Fantasy, Young Adult, Comics, LGBTQ, Juvenile Fiction, Young Adult Fiction', 'Fiction, Romance, LGBTQ, Friendship', 'Fiction, Fantasy, Science fiction, Horror', 'Young Adult, Murder', 'Suspense, Family', 'Fiction, Mystery, Thriller, Suspense, psychological thriller', 'Fantasy, Fiction, Young Adult, LGBTQ, Romance', 'Adventure, Science, Nonfiction', 'Fiction, Fantasy, Thriller, Murder', 'Fiction, Romance, Realistic Fiction', 'Fiction, Fantasy, Adventure, Science fiction, War, Dystopian', 'Fiction, Thriller, Psychological thriller', 'Fiction, Contemporary, Literary', 'Fiction, Fantasy, Mystery, Thriller, Suspense', 'Fiction, Young Adult, Romance, New adult', 'Fiction, LGBTQ, Thriller', 'Fantasy, Young Adult, Fiction, Adventure, Romance, Young Adult Fiction, Fantasy romance, Young adult fantasy, Fairy Tale Retelling', 'Fiction, History, General, Women, Womanhood', 'Fiction, Fantasy, Science fiction, LGBTQ, Dystopian', 'Fiction, Young Adult, Romance, Juvenile Fiction, Contemporary Romance, Bully Romance, High school', 'Fiction, Young Adult, Romance, Mystery, Thriller, Murder, Family, Contemporary, American fiction, Contemporary Romance', 'Fiction, LGBTQ, Romance, Families, Brotherhoods', 'Business, Nonfiction, Sports', 'Adventure, Classics, Adventure stories, Bourne,  Jason (Fictitious character)', 'Science, Space, Nonfiction', 'Biography & Autobiography, General, Women', 'Fiction, Romance, Friendship, British', 'Classics, LGBTQ, literary criticism', 'Classics, Philosophy, social science, Women, Feminism, Women', 'Classics, LGBTQ, Nonfiction, social science, Literary Collections, Essays, Speeches', 'Literary Collections', 'Fiction, Fantasy, Science fiction, War, Romance, Dystopian, General, Literature, Choice (Psychology)', 'Fiction, Adventure, Fantasy, Classics, Science fiction, War, Dystopian, Space, Aliens', 'Classics, Biography, Religion, Biography & Autobiography, General, Family, African Americans, Mothers', 'Nonfiction, Parenting, Pedagogy, Philosophy', 'Fiction, Amnesiacs', 'Young Adult, Classics, Biography, Biography & Autobiography, Mental illness', 'Fiction, Adoption', 'Biography, Biography & Autobiography, Philosophy, Psychology, political science, African Americans, Anti-racism', 'Science, Nonfiction', 'Fiction, Classics, History, Romance, Philosophy, Friendship, Literary Fiction, Czech fiction', 'Fantasy, Fiction, Young Adult, Adventure, Science fiction, War, Fantasy fiction, Conspiracies, Antiheroes', 'Fiction, Fantasy, Adventure, Grimdark', 'Suspense', 'Fiction, Fantasy, Young Adult, Adventure, Science fiction, Magic, Fantasy fiction, Adventure stories', 'Fiction, Fantasy, American fiction', 'Fiction, History, War, Romance, Religion, Holocaust,  Jewish (1939-1945)', 'Fiction, Fantasy, LGBTQ, Aging', 'Fiction, Fantasy, Young Adult, Adventure, Science fiction, LGBTQ, Dystopian', 'Adventure, Fantasy, LGBTQ, Science fiction, Young Adult', 'BDSM, erotica', 'Fiction, Young Adult, Classics', 'Fiction, Fantasy, LGBTQ, Magical Realism', 'Fantasy, Science fiction, Dystopian, Space', 'Fantasy, Fiction, Young Adult, Adventure, Science fiction, Xianxia, Arts', 'Fantasy, Fiction, Young Adult, Adventure, Science fiction, Xianxia', 'Fiction, Fantasy, Science fiction, War, LGBTQ, Mystery, Murder, Magic', 'Fantasy, Young Adult, Fiction, LGBTQ, Romance, Young Adult Fiction, Family, Magic', 'Fiction, Thriller, Horror, Native Americans, slasher', 'Fiction, Horror, Crime Fiction', 'Young Adult, LGBTQ, African Americans', 'Young Adult, LGBTQ, Romance, Contemporary Romance', 'Fiction, Fantasy, Young Adult, Adventure, Romance, Young Adult Fiction, Magic, Urban Fantasy', 'Fiction, Fantasy, Young Adult, Adventure, LGBTQ, Juvenile Fiction, Romance, Young Adult Fiction, Blessing and cursing', 'Fiction, Fantasy, Young Adult, LGBTQ, Magic, Contemporary', 'Fiction, Fantasy, Romance, Paranormal romance', 'Fantasy, Science fiction, Horror, adult', 'Chick Lit', 'History, Nonfiction, Business', 'Fiction, Fantasy, Young Adult, LGBTQ, Juvenile Fiction, Young Adult Fiction, Thriller', 'Fantasy, Fiction, Young Adult, Adventure, Classics, Science fiction, Discworld (Imaginary place)', 'Fiction, Fantasy, Science fiction, Young Adult, Adventure, Classics, Comics, Dystopian, Science, Horror', 'Fiction, Fantasy, Young Adult, Adventure, Science fiction, Juvenile Fiction, Romance, Dystopian, Young Adult Fiction', \"Fantasy, Fiction, Young Adult, Adventure, Comics, Juvenile Fiction, Friendship, Children, Children's stories, Animals\", 'Fiction, Fantasy, Young Adult, Adventure, War, Dystopian, Young Adult Fiction, Magic, Ability', 'Fiction, Young Adult, Fantasy, Science fiction, Adventure, War, Space, Aliens, Dystopian, Young Adult Fiction', 'Fantasy, Fiction, Young Adult, Adventure, Classics, Science fiction, Humor, Urban Fantasy', 'Science fiction, Fiction, Fantasy, Young Adult, Adventure, War, Aliens, Dystopian, Space, Young Adult Fiction', 'Fiction, Young Adult, Adventure, Fantasy, Science fiction, War, Space, Aliens, Dystopian, Young Adult Fiction', 'Fiction, Science fiction, Fantasy, Adventure, War, Space, Aliens, Extraterrestrial beings, Conspiracies, Imaginary wars and battles', 'Fantasy, Fiction, Young Adult, Adventure, Science fiction, War, Fantasy fiction, Grimdark', 'LGBTQ, Memoir', 'Fiction, History, Nonfiction, Murder, True crime', 'Fiction, Fantasy, History, LGBTQ, Biography & Autobiography', 'Young Adult, War', 'Fiction, LGBTQ, Romance, Families, Electronic books', 'Fiction, Adventure, Historical Fiction', 'Fiction, Fantasy, Young Adult, Classics, General, Psychology, Literature, Accident victims', 'Fiction, Romance, Romantic Comedy, Deception', 'Fiction, Young Adult, LGBTQ', 'Fiction, Science fiction, Mystery, Thriller, Literary Fiction, adult', 'Fantasy, Fiction, History, Historical Fiction, Alaska', 'Fiction, LGBTQ, African American gay men', 'Fiction, LGBTQ, Nigeria, Literary Fiction', 'Fiction, Mystery, Thriller, Murder, Realistic Fiction', 'Fantasy, War, Buddhist nuns', 'Fiction, Romance, Thriller', 'Fiction, Fantasy, Horror, Native Americans, Horror', 'Fiction, Americans', 'History, Nonfiction, Travel, India', 'Fiction, Contemporary', 'Fiction, Fantasy, Young Adult, Science fiction, LGBTQ, Mystery, Aliens, Celebrities, Fame', 'Fiction, Young Adult, LGBTQ, General, Sweden', 'Fiction, LGBTQ, Literary Fiction', 'Fiction, Romance, African Americans, Contemporary, Chick Lit, Black Love', 'Romance, Realistic Fiction', 'Fiction, Fantasy, Adventure, LGBTQ, Dystopian', 'Fiction, Thriller, Contemporary, Literary Fiction', 'Fiction, Mystery, Humor, Crime', 'Fiction, Adventure, LGBTQ, War, Mystery, Women, Actresses', 'Biography & Autobiography', 'Young Adult, Fiction, Fantasy, Mystery, Suspense, Murder, Family, Native Americans, Caregivers', 'Adventure, Science fiction, Dystopian', 'Fiction, Fantasy, Young Adult, Adventure, Magic', 'Fiction, Fantasy, Young Adult, Adventure, Classics, Science fiction, General, Space,  American, American literature', 'Fiction, Fantasy, Science fiction, Dystopian, Thriller', 'Science fiction, Fiction, Fantasy, Adventure, LGBTQ, Mystery, Space', 'Fiction, Fantasy, Science fiction, Adventure, LGBTQ, General, Space, Aliens, Space Opera', 'Fiction, Fantasy, Science fiction, War, Dystopian', 'Fiction, Classics, Romance, Psychology, Women, Short stories, Canada', 'Fiction, Fantasy, Classics, Science fiction, Dystopian, Short stories,  English, Humorous stories', 'Fiction, Fantasy, Classics, General, Poetry', 'Classics, Nonfiction, Space', 'Fiction, Classics, Comics & Graphic Novels, Historical Fiction, Japan', 'Fiction, Fantasy, General, Short stories', 'Classics, Nature, Animal rights', 'Classics, Biography & Autobiography, Poetry', 'Fiction, Fantasy, Comics, Classics, Science fiction, Dystopian, Comics & Graphic Novels, Graphic novels', 'Fiction, Fantasy, Young Adult, Adventure, Classics, Science fiction, Comics, Dystopian, Humor, Graphic novels', 'Fiction, Fantasy, Adventure, Classics, Dystopian, General, Literature, Adventure stories', 'Classics, History, Nonfiction, social science, Women, African Americans', 'Fiction, Fantasy, Comics, Classics, Science fiction, General, Comics & Graphic Novels, DC Comics', 'Fiction, Alcoholism', 'Fiction, Young Adult, LGBTQ, Thriller', 'Biography, Family', 'Fiction, Science fiction, Fantasy, Adventure, Dystopian, General, Aliens, Suspense, Discoveries in geography', 'Fantasy, Young Adult, Adventure, Science fiction, Horror, Teenagers', 'History, LGBTQ, Romance, Women, social science', 'Nonfiction, Space, Science', 'Fiction, Fantasy, Families', 'Fantasy, Young Adult, Adventure, Dystopian', 'Fiction, Fantasy, Horror, Magical Realism, Literary Fiction, Satire', 'Fiction, Fantasy, Young Adult, Classics, Science fiction, Dystopian, General, Suspense, Short stories, Literary Collections', 'Fiction, Mystery, Suspense, Women', 'Fiction, Fantasy, Science fiction, LGBTQ, Horror, Psychological thriller, psychological horror', 'Fiction, Fantasy, Young Adult, Adventure, Science fiction, LGBTQ, Dystopian, Philosophy, Young Adult Fiction, dystopian', 'Fiction, Fantasy, Young Adult, Comics, Science fiction, Horror', 'History, War, Biography, Biography & Autobiography', 'Fiction, Fantasy, Comics, Comics & Graphic Novels, Manga, Horror', 'Fiction, Fantasy, Young Adult, Comics, Juvenile Fiction, Philosophy, Young Adult Fiction, Murder', 'Fiction, Fantasy, Science fiction, Nonfiction, Magical Realism, Literary Fiction', 'Fiction, Young Adult, Romance, Nonfiction, Poetry', 'Fiction, Classics, History, Biography, Nonfiction, Biography & Autobiography, General, Literature, social science, African Americans', 'Fiction, Women, Contemporary, Literary, Tokyo (Japan)', 'Young Adult, Comics, War, LGBTQ, Nonfiction, Graphic novels, Memoir', 'History, Nonfiction, Politics, Religion & Spirituality', 'Fiction, Fantasy, Science fiction, Dystopian, Horror, Psychological thriller, Cannibalism', 'Fantasy, Young Adult, Friendship, Conduct of life, Adolescent psychology', 'Young Adult, LGBTQ, Young Adult Fiction, Horror', 'Fiction, African Americans', 'War, Biography, Biography & Autobiography, Travel, Family, Fathers and sons', 'Fiction, Classics, Mystery, Thriller, Murder', 'Fiction, Fantasy, Adventure, Science fiction, LGBTQ, Dystopian, Space', 'Fiction, LGBTQ, Suspense, Friendship, Horror', 'Fiction, Fantasy, Horror, Early memories', 'Young Adult, Fiction, Romance, LGBTQ, Comics, Juvenile Fiction, Comics & Graphic Novels, Young Adult Fiction, Graphic novels, Friendship', 'Adventure, Biography, Nonfiction, Biography & Autobiography, Memoir, autobiography, Seas, Surfers', 'Fiction, Fantasy, Classics, Young Adult, History, LGBTQ, Romance, General, Philosophy, Retellings', 'LGBTQ, War, Romance, Poetry', 'Fantasy, Fiction, Young Adult, LGBTQ, Romance, Magic, adult', 'Fantasy, Fiction, Historical Fiction, Horror, Supernatural Fiction, Dark Fantasy', 'Fiction, Fantasy, Young Adult, Adventure, Science fiction, Comics, Juvenile Fiction, Aliens, Comics & Graphic Novels', 'Aliens, Dystopian, Fantasy, LGBTQ, Science fiction, Space', 'Fiction, Fantasy, Science fiction, Adventure, Magic, African Americans, Historical Fiction, Horror, Supernatural', 'Fantasy, Fathers and sons', 'Fiction, Fantasy, Science fiction, Dystopian, Suspense', 'History, Women', 'Fiction, LGBTQ, Electronic books', 'Fiction, Historical Fiction', 'Fiction, Thriller, Suspense, Crime', 'Fiction, War, Thriller, Suspense', 'Fiction, Mystery, Suspense', 'Fiction, Thriller, Highlands (Scotland)', 'Young Adult, Comics, LGBTQ, Biography, Nonfiction, Comics & Graphic Novels, Literature, Graphic novels, Memoir, Queer', 'Fiction, Mystery, Humor, Murder, Crime, murder mystery, Clubs', 'Fiction, Thriller, Suspense, Detective and mystery stories', 'Fiction, Suspense, Detective and mystery stories, Women lawyers', 'Fiction, Suspense, Divorced people', 'Fiction, Juvenile Fiction', 'Young Adult, Fiction, Fantasy, Adventure, Young Adult Fiction, Boys, Fairies, Young adult fantasy', 'Fiction, Fantasy, Adventure, Science fiction, War, Accidents', 'Fantasy, Adventure, Fiction, Science fiction, War', 'Fiction, Fantasy, Young Adult, Adventure, Science fiction, War, Dystopian, Fantasy fiction', 'Fantasy, Fiction, Adventure, Science fiction, War, Betrayal', 'Fiction, Fantasy, Domestic fiction, Mexico, Jalisco (Mexico)', 'Fiction, Fantasy, Young Adult, Adventure, Dystopian, Magic', 'Fiction, Fantasy, Young Adult, Adventure, Science fiction, Juvenile Fiction, Dystopian, Space, Young Adult Fiction', 'Fantasy, Fiction, Young Adult, Adventure, Comics, War, Fairy tales', 'Fantasy, Young Adult, Adventure, Fiction, Science fiction, Young Adult Fiction,  Human, Abnormalities', 'Fantasy, Young Adult, Fiction, Adventure, Science fiction, Comics, Juvenile Fiction, Mystery, Young Adult Fiction, Graphic novels', 'Fiction, Fantasy, Young Adult, Thriller, Horror, Amnesia, Horror fiction', 'Fiction, Fantasy, Classics, Science fiction, LGBTQ', \"Fantasy, Fiction, Young Adult, Adventure, LGBTQ, Juvenile Fiction, Romance, General, Children, Children's stories\", 'Young Adult, Fiction, Fantasy, Science fiction, Adventure, Dystopian, Juvenile Fiction, Young Adult Fiction, Fugitives from justice', 'Fiction, Fantasy, Science fiction, Dystopian, Mystery, Murder, Detective and mystery stories, Cities and towns', \"Fantasy, Fiction, Young Adult, Adventure, LGBTQ, Juvenile Fiction, General, Children's stories, Spanish, Middle Grade\", 'Fiction, Juvenile Fiction, Mystery, Suspense, Kidnapping', 'Fiction, Fantasy, Young Adult, Adventure, Juvenile Fiction, Best friends', 'Fantasy, Science fiction, Fiction, Adventure, Space, Aliens', 'Classics, Dystopian, Fantasy, Science fiction', 'Fantasy, Adventure, Science fiction, Dystopian, Families', 'Nonfiction, Memoir, Self help', 'Fantasy, Fiction, Young Adult, Adventure, LGBTQ', 'Fantasy, Fiction, Science fiction, Young Adult, LGBTQ', 'Nonfiction, Self-Help, Self help, House & Home, Mental health', 'Fantasy, Young Adult, Adventure, War, LGBTQ, Young Adult Fiction, Demonology', 'History, Biography, Nonfiction, Religion, Biography & Autobiography, Business & Economics, Business, Family, True crime, Crime investigations', 'History, War', 'Fantasy, Adventure, Classics, Science fiction, Space', 'Fiction, Fantasy, Classics, Science fiction, Space, Aliens', 'Fiction, Classics, Fantasy, Young Adult, Comics, Mystery, General, Thriller, Short stories, Literature', 'Fantasy, Young Adult, Adventure, LGBTQ, Young Adult Fiction, Friendship, Magic, Epic Fantasy', 'Fiction, Fantasy, Adventure, Science fiction, LGBTQ, Space', 'Fantasy, Fiction, Young Adult, Adventure, Science fiction, Mystery, Police, Detective and mystery stories, Urban Fantasy', 'Fiction, Fantasy, Young Adult, relationships', 'Fantasy, Adventure, Fiction, Young Adult, Friendship,  American, Adventure stories', 'Psychology', 'Fantasy, Adventure, Fiction, Science fiction, LGBTQ', 'Fantasy, Science fiction, War, LGBTQ, Space, Aliens', 'Fiction, Young Adult, Fantasy, LGBTQ, Mystery, Juvenile Fiction, Young Adult Fiction', 'Fiction, Fantasy, Adventure, Science fiction, War, LGBTQ, Dystopian, Space, Aliens', 'Science fiction, Fiction, Fantasy, Adventure, LGBTQ, Space, Aliens', 'Fiction, Fantasy, LGBTQ', 'Fiction, Fantasy, Young Adult, Adventure, Science fiction, Thriller, Horror, Friends', 'Fiction, Classics, Romance, Literature, Psychology, American fiction', 'Fiction, Suspense, Murder', 'Fiction, Fantasy, Adventure, Science fiction, LGBTQ, Dystopian', 'Fiction, Young Adult, Romance, Friendship, Dating (Social customs)', 'Abused, Thriller, women', 'Fiction, Thriller, Suspense, Camps', 'Romance', 'Fiction, Fantasy, Science fiction, LGBTQ, Romance, Dystopian, Thriller, Suspense', 'Fiction, relationships', 'Biography, General, Family, social science', 'Women', 'Classics, LGBTQ', 'Fiction, Biography', 'Fiction, Fantasy, Young Adult, Adventure, Science fiction, Dystopian, Magic', 'War, Biography & Autobiography', 'Fantasy, Young Adult, Science fiction, LGBTQ, Dystopian', 'Fiction, Fantasy, Adventure, Science fiction, LGBTQ, Murder, Magic', 'Fantasy, Adventure, Fiction, War, Magic', 'Fantasy, Young Adult, Fiction, Adventure, Young Adult Fiction, Magic, Folklore, Fairy tales, Fantasy fiction', 'Young Adult, Fiction, Fantasy, Adventure, Science fiction, Magic', 'Fantasy, Adventure, Classics, Science fiction, Dystopian', 'Fantasy, Fiction, Science fiction, LGBTQ, War, Dystopian, Politics', 'Fantasy, Fiction, Young Adult, Adventure', 'Fiction, Fantasy, Adventure, Science fiction, Imaginary wars and battles', 'Classics, Nonfiction, social science', 'History, Nonfiction, Science, social science', 'Nonfiction, Technology & Engineering', 'Fiction, Fantasy, Classics, Science fiction, Dystopian, Psychology, Blind', 'Fiction, Fantasy, Adventure, Classics, Science fiction, Dystopian, Aliens', 'Fantasy, Young Adult, Classics, Science fiction, War, Dystopian, Space, Aliens, Forests and forestry', 'Fiction, Fantasy, Classics, Science fiction, LGBTQ, Dystopian, dystopian', 'General, Nonfiction, Psychology, Sports', 'Fiction, Fantasy, Science fiction, Dystopian, Horror, Native Americans, Literary Fiction, adult', 'Fiction, History, Human behavior, Humanities', 'Fiction, Fantasy, Adventure, Science fiction, Dystopian, Education', 'War, Nonfiction, political science, Computers', 'Nonfiction, Biology, Emotions, Behavior, Neuroscience', 'Fiction, Fantasy, Science fiction, Dystopian, Climatic changes', 'Fiction, Science fiction, Dystopian, Space', 'Fiction, Classics, General, Fugitives from justice', 'Fiction, Fantasy, Young Adult, Adventure, Science fiction, Juvenile Fiction, Dystopian, Young Adult Fiction, literary criticism, Spanish', 'Fiction, Fantasy, Young Adult, Adventure, War, Dystopian, Young Adult Fiction', 'Fantasy, Fiction, Young Adult, Adventure, Juvenile Fiction, Friendship, Family, Magic, Middle Grade', 'Young Adult, Comics, LGBTQ, Romance, Young Adult Fiction, Graphic novels', 'Young Adult, Fiction, LGBTQ, Juvenile Fiction, Young Adult Fiction, Contemporary, Asexuality', 'Fiction, Young Adult, LGBTQ, Romance, Historical Fiction', 'Young Adult, Comics, LGBTQ, Romance, Young Adult Fiction, Graphic novels, Contemporary', 'Fiction, Young Adult, LGBTQ, Young Adult Fiction, Friendship, Family, Illness', 'Fantasy, Fiction, Young Adult, Adventure, War, Juvenile Fiction, Dystopian, Young Adult Fiction', 'Fiction, Young Adult, War, Young Adult Fiction', 'Fiction, Classics, Biography, General, Poetry', 'Fiction, Fantasy, Adventure, Mystery, Comics, LGBTQ, Suspense, Thriller, Education, Murder', 'History, Nonfiction, Biography', 'Fiction, Young Adult, Fantasy, LGBTQ, Mystery, Young Adult Fiction, Suspense, Dark Academia', 'Nonfiction, Psychology, Language Arts & Disciplines, Sociology, informative, Linguistics', 'Young Adult, Fiction, Fantasy, Adventure, Science fiction, Comics, Dystopian, Juvenile Fiction, Science, Young Adult Fiction', 'Fiction, Fantasy, Classics, LGBTQ, Horror', 'Fiction, Fantasy, Science fiction, LGBTQ, Romance, General, Women, Short stories,  American, Feminist fiction', 'Science fiction, Fiction, Fantasy, Adventure, LGBTQ, Dystopian, Solarpunk, lgbtqia+', 'Fiction, Science fiction, War, Creative ability in science', 'Fiction, Horror, Epistolary', 'Fantasy, Fiction, Young Adult, Adventure, High Fantasy', 'Science fiction, Fantasy, Fiction, Adventure, War, Space, Aliens', 'Fantasy, Fiction, Young Adult, Adventure, Short stories, Assassins, High Fantasy', 'Fantasy, Fiction, Adventure, Comics, War, Murder, Magic, High Fantasy, Adult Fiction, Assasins', 'Fantasy, Fiction, Adventure, War, High Fantasy, Imaginary wars and battles', 'Fiction, Fantasy, Literary Fiction, Magical Realism', 'Fantasy, Fiction, Young Adult, Adventure, Science fiction, War, Fantasy fiction', 'Fiction, Young Adult, Classics, Psychology', 'Fantasy, Fiction, Young Adult, Adventure, Classics, Science fiction, Comics, Juvenile Fiction, Animals', 'Fantasy, Fiction, Young Adult, War, Historical Fiction, High Fantasy, Grimdark', 'Fiction, Fantasy, Classics, History, War, Mythology, Retelling', 'Fantasy, Fiction, Adventure, Science fiction, War, LGBTQ, Epic Fantasy', 'Fiction, Fantasy, Adventure, War, Magic, Fantasy fiction', 'Fantasy, Fiction, Young Adult, Adventure, Science fiction, War, Betrayal', 'History, Philosophy, Anthropology', 'Fantasy, Young Adult, Adventure, Science fiction, LGBTQ, Fantasy fiction', 'Fantasy, Young Adult, Adventure, Magic', 'Fantasy, Fiction, Adventure, Science fiction, Romance, Attempted assassination', 'Fantasy, Adventure, Classics, Science fiction', 'Fiction, Fantasy, Classics, Women, Historical Fiction, Mythology', 'Fantasy, Fiction, Science fiction, Young Adult, War, Asia', 'Fiction, Fantasy, Classics, Science fiction, Dystopian, Biography, Literature', 'Fiction, Fantasy, Science fiction, Classics, Dystopian, Romance, Genetic engineering', 'cosy mystery, vigilante', 'Fiction, Fantasy, Science fiction, Young Adult, Adventure, War, Space, Aliens, Space Opera', 'Fantasy, Fiction, Young Adult, Adventure, English fiction, Fantastic fiction', 'Fantasy, Fiction, Science fiction, LGBTQ, Politics, Urban Fantasy', 'Young Adult, Fiction, LGBTQ, Young Adult Fiction, Thriller, Suspense fiction', 'Fantasy, Fiction, Adventure, Science fiction, Urban Fantasy', 'Fantasy, Fiction, Adventure, Science fiction, Romance, War, Historical Fiction, Fantasy fiction, Historical Fantasy', 'Fiction, Fantasy, Adventure, Young Adult, Science fiction, General, Discworld (Imaginary place)', 'Fiction, Fantasy, Adventure, Young Adult, Science fiction, Discworld (Imaginary place)', \"Fantasy, Adventure, Fiction, Young Adult, Science fiction, War, LGBTQ, Children's stories, Discworld (Imaginary place)\", 'Fantasy, Adventure, Fiction, Young Adult, Science fiction, Thriller, Discworld (Imaginary place)', 'Fiction, Fantasy, Young Adult, Adventure, Science fiction, Mystery, Humor, Police', 'Fiction, Fantasy, Young Adult, Adventure, Science fiction, Humor, Discworld (Imaginary place)', 'Fantasy, Fiction, Young Adult, Adventure, Magic, Fantasy fiction', 'Fantasy, Fiction, Adventure, Science fiction, War, General, Epic Fantasy', 'Fiction, Fantasy, Adventure, Young Adult, Science fiction, General', 'Fantasy, Fiction, Adventure, Young Adult, Classics, Science fiction, Mystery, Discworld (Imaginary place)', 'Fiction, Fantasy, Science fiction, Adventure, War, Space, Aliens, Military', 'Fantasy, Fiction, Young Adult, Adventure, Science fiction, General, Humor, High Fantasy, Criminal investigation, Discworld (Imaginary place)', 'Fantasy, Young Adult, Adventure, Fiction, Science fiction, Young Adult Fiction, Humor, Magic, Apprentices', 'Fantasy, Young Adult, Adventure, Science fiction, Xianxia', 'Young Adult, Adventure, Fiction, Fantasy, Science fiction, War, Comics, Dystopian, Space, Aliens', 'Fiction, Fantasy, Adventure, Classics, Science fiction, Urban Fantasy, Political corruption', 'Fantasy, Fiction, Young Adult, Adventure, Science fiction, Xianxia, Clans', 'Fantasy, Fiction, Adventure, Science fiction, Young Adult, Aliens, Dystopian, Humor, litrpg', 'Fantasy, Fiction, Science fiction, Adventure, Classics, Dystopian, Aliens, Humor, Suspense, Magic', 'Fantasy, Fiction, Adventure, Science fiction, litrpg, Progression Fantasy', 'Fantasy, Adventure, Science fiction, Dystopian, Aliens', 'Fantasy, Adventure, Science fiction, Dystopian, Aliens, litrpg', 'Fantasy, Fiction, Young Adult, Adventure, Science fiction, War, LGBTQ, Dystopian, Assassins', 'Fantasy, Fiction, Young Adult, Adventure, Science fiction, War, Magic', 'Nonfiction, Business, Self help, Leadership', 'Contemporary, Literary Fiction', 'Fiction, Young Adult, Mystery', 'Fiction, Mystery, Police, Abused women', 'Fiction, Romance, Friendship, Historical Fiction, Music', 'Classics, War, History, Biography', 'Fantasy, Fiction, Classics', 'Fantasy, Adventure, Fiction, LGBTQ, Short stories', 'Fantasy, Young Adult, Adventure, Science fiction, LGBTQ, Dystopian, Absentee fathers', 'Fantasy, Literary Fiction, Magical Realism', 'Fiction, Fantasy, Young Adult, Adventure, LGBTQ, Juvenile Fiction, Magic, Blue (Fictitious character : Stiefvater)', 'Fiction, Fantasy, Young Adult, Adventure, LGBTQ, Juvenile Fiction, Romance, Magic, Clairvoyance', 'Fiction, Fantasy, Adventure, Science fiction, Assassins', 'Fantasy, Fiction, Literary Fiction, Internet', 'Fiction, Adventure, Classics, War,  George (Fictitious character), Smiley', 'Fiction, Fantasy, Classics, History, literary criticism, Autobiographical fiction', 'Fiction, Fantasy, Young Adult, Adventure, Magic, Historical Fiction', 'Fiction, War, Historical Fiction', 'Young Adult, Psychology', 'Fiction, Fantasy, Young Adult, Adventure, Science fiction, Juvenile Fiction, Dystopian, Space, Young Adult Fiction, Cyborgs', 'Fantasy, Young Adult, Fiction, Adventure, Science fiction, Dystopian, Space, Young Adult Fiction, Retellings, Young adult fantasy', 'Fiction, Fantasy, Young Adult, Dystopian', 'Fantasy, Fiction, LGBTQ, Romance, Historical Fiction', 'Fantasy, Science fiction, Fiction, Young Adult, LGBTQ, Romance, General, Space, Aliens', 'Fiction, Fantasy, Dystopian', 'Fiction, Fantasy, Young Adult, Comics, LGBTQ, Romance', 'Fiction, Fantasy, Young Adult, Adventure, Science fiction, Juvenile Fiction, Young Adult Fiction, Adventure and adventurers', 'Science fiction, Dystopian, Post Apocalyptic, Robots', 'Fantasy, Young Adult, Adventure, Dystopian, Young Adult Fiction, Imaginary places', 'Young Adult, Young Adult Fiction', 'Fiction, Fantasy, Young Adult, Adventure, LGBTQ, Romance, Dystopian, Young Adult Fiction', 'Young Adult, Comics, Biography, Juvenile Nonfiction, Young Adult Nonfiction', 'Fiction, Fantasy, Young Adult, Adventure, Science fiction, adult', 'Fantasy, Young Adult, Comics, LGBTQ, Comics & Graphic Novels, Manga, Slice of life, Queer Manga', 'Fantasy, Fiction, LGBTQ', 'Fiction, Young Adult, Adventure, Fantasy, Comics, Comics & Graphic Novels, Family, Manga, Urban Fantasy, low fantasy', 'Fiction, Fantasy, Young Adult, Science fiction, Young Adult Fiction, Magic', 'Nonfiction, Romance, Biography & Autobiography, Humor, Friendship, Adulthood', 'Fantasy, Young Adult, Young Adult Fiction, Horror, Magic Realism', 'Fiction, Fantasy, Young Adult, Science fiction, LGBTQ, Aliens', 'Fantasy, Young Adult, Comics, Romance, Literature, Humor', 'Fiction, Young Adult, Classics, Juvenile Fiction, Philosophy, Middle Grade, Japan, Coming of Age', 'Fantasy, Graphic novels, Children', 'Fiction, Fantasy, Adventure, Demonology', 'Horror, Literary Fiction, adult, Horror fiction, literary horror', 'Fantasy, Adventure, Fiction, Young Adult, Classics, Juvenile Fiction, Slice of life', 'Fantasy, Fiction, Science fiction, Adventure, Space, Aliens', 'Young Adult, Fantasy, LGBTQ, Horror, Contemporary, Paranormal', 'Fiction, Fantasy, Young Adult, Young Adult Fiction, Electronic books', 'Fiction, Romance, Realistic Fiction, ChickLit', 'LGBTQ, Poetry', 'Fiction, Fantasy, Mystery, Historical Fiction, Historians', 'Fantasy, Young Adult, Fiction, Adventure, Romance, Young Adult Fiction, Short stories, Magic', 'Fiction, Fantasy, Classics, Short stories, Women, Historical Fiction, Mythology, Retellings, Novella', 'Fantasy, Fiction, Young Adult, Adventure, Science fiction, LGBTQ, Dystopian', 'Fiction, Science fiction, Fantasy, Dystopian, Space, Literary Fiction', 'Fiction, Fantasy, Mississippi', 'Young Adult, Fiction, LGBTQ, Romance, Young Adult Fiction, Lesbians', 'Fiction, Fantasy, Young Adult, Science fiction, LGBTQ, Dystopian, Horror', 'Young Adult, Fiction, LGBTQ, Juvenile Fiction, Young Adult Fiction, Contemporary Romance', 'Fantasy, Young Adult, Juvenile Fiction, Young Adult Fiction', 'Fiction, Fantasy, Magic, Horror, adult', 'Fiction, Fantasy, LGBTQ, Chicago (Ill.)', 'Fiction, Fantasy, LGBTQ, Magic', 'Fiction, Fantasy, Young Adult, LGBTQ, Romance, Magic', 'Fantasy, Young Adult, Adventure, Science fiction, LGBTQ, Dystopian, Young Adult Fiction', 'Fiction, LGBTQ, Contemporary Romance, romcom', 'Fiction, Electronic books', 'Fantasy, Fiction, Young Adult, Science fiction, Young Adult Fiction, Horror, Middle Grade, Boarding school, Gothic Horror', 'Nonfiction, Biography & Autobiography, Self-Help, Self help, Mental health', 'Fiction, Fantasy, Young Adult, Adventure, Juvenile Fiction, Young Adult Fiction, Fantasy fiction', 'Fiction, Young Adult, LGBTQ, Lesbians', 'Fantasy, Young Adult, Fiction, Mystery, Friendship, Suspense, Japanese literature, Anxiety in adolescence', 'Fiction, LGBTQ, Romance, Contemporary Romance', 'Fantasy, Young Adult, Fiction, Adventure, Young Adult Fiction', 'Fantasy, Fiction, Science fiction, Adventure, LGBTQ, Literary Fiction', 'Fantasy, Fiction, Young Adult, Adventure, Science fiction, Fairy tales, Mythology, Abused wives', 'Fantasy, Young Adult, Adventure, Science fiction, LGBTQ, Dystopian, Space, Young Adult Fiction', 'Fiction, Fantasy, Science fiction, Contemporary, Magical Realism, Time Travel', 'Fiction, Science fiction, Fantasy, Dystopian, Short stories, Anthology', 'Fiction, Fantasy, Science fiction, LGBTQ', 'Fiction, Fantasy, Classics, LGBTQ', 'Fantasy, Young Adult, Fiction, Adventure, Juvenile Fiction, Magic, African Americans', 'Fantasy, Young Adult, Adventure, Science fiction, Juvenile Fiction, Young Adult Fiction', 'Fiction, Fantasy, Adventure, Science fiction, Mystery, Urban Fantasy, Dresden', 'Fantasy, Fiction, Young Adult, Adventure, Science fiction, War, Steampunk, Air warfare', 'Fiction, Fantasy, Adventure, Magic', 'Fantasy, Science fiction, Adventure, Classics, Dystopian', 'Fiction, Classics, History, Religion, Australia', 'Fiction, Fantasy, Young Adult, Adventure, Science fiction, War, Murder, Betrayal', 'Fantasy, Young Adult, Fiction, Adventure, War, Young Adult Fiction, Fairy tales, Romantasy, Fantasy romance, Young adult fantasy', 'Paranormal Romance, Romance', 'Fantasy, Fiction, Adventure, Science fiction, LGBTQ, Romance, Housekeepers', 'Fiction, Fantasy, Adventure, War, Fantasy fiction,  English', 'Fantasy, Fiction, Young Adult, Adventure, Young Adult Fiction, Magic, Romantasy, Fantasy romance, Blessing and cursing, Young adult fantasy', 'Fantasy, Fiction, Adventure, Science fiction, War, Dystopian, Space, Aliens', 'Fantasy, Young Adult, Fiction, Adventure, Science fiction, LGBTQ, Friendship, Magic, Fantasy fiction, New adult', 'Fiction, Fantasy, Young Adult, Adventure, Science fiction, War, Dystopian, relationships', 'Science fiction, Fiction, Fantasy, Adventure, LGBTQ, Dystopian, Friendship, Solarpunk', 'Fiction, Fantasy, Science fiction, War', 'Fiction, Russian Literature', 'Fiction, Fantasy, Science fiction, Adventure, Space, Aliens, Short stories', 'Fantasy, Fiction, Adventure, Romance, Mystery, Magic, Paranormal Romance', 'Fiction, Fantasy, Steampunk', 'Fantasy, Fiction, Adventure, Science fiction, War, Assassins', 'Fantasy, Fiction, Young Adult, Science fiction, LGBTQ, Mystery', 'Fiction, Fantasy, Adventure, Science fiction, War, Grimdark', 'Fiction, Fantasy, Adventure, Science fiction, War, Grimdark, Battles', 'Fiction, Fantasy, Young Adult, Adventure, Young Adult Fiction, Magic', 'Fantasy, Young Adult, Adventure, Fiction, Young Adult Fiction, Suspense, Magic, Young adult fantasy', 'Fantasy, Fiction, Adventure, High Fantasy', 'Fantasy, Young Adult, Adventure, Science fiction, Young Adult Fiction', 'Fiction, Young Adult, Juvenile Fiction, Mystery, Young Adult Fiction, Thriller, Murder', 'Science fiction, Fiction, Fantasy, Adventure, LGBTQ, Space, Dystopian, Aliens, Artificial Intelligence', 'Fantasy, Science fiction, Fiction, Young Adult, LGBTQ, Dystopian, Space, Horror', 'Fiction, Mystery, Thriller, Apartment houses', 'Fantasy, Fiction, Mystery, Electronic books', 'Fantasy, Fiction', 'Fantasy, Fiction, Young Adult, Adventure, Romance, Mythology, Retellings', 'Nonfiction, Psychology, Self help', 'Classics, Nonfiction, Biography & Autobiography, Science, Psychology, Medical, Mental health, Mental illness, Neurology', 'Business & Economics, Business, Self help, Productivity, Industrial productivity, Self-management (Psychology)', 'Science fiction, Fiction, Fantasy, Adventure, War, Space, Aliens', 'Fantasy, Fiction, Adventure, Classics, Science fiction, General, High Fantasy, Discworld (Imaginary place)', 'Fantasy, Science fiction, LGBTQ, Lesbians', 'Young Adult, Fiction, Fantasy, Dystopian, Adventure, Science fiction, War, Juvenile Fiction, Young Adult Fiction, Children', 'Fiction, Adventure, Science fiction, Fantasy, LGBTQ', 'Historical Fiction, Young Adult, LGBTQ, Contemporary, Best friends', 'Fantasy, Fiction, Young Adult', 'Fiction, Fantasy, Adventure, Classics, Religion,  Greek, gods, greek mythology', 'Fiction, History, LGBTQ, Romance, Biography, Artists', 'Young Adult, LGBTQ, Young Adult Fiction', 'Fiction, Classics, History, Philosophy, Literary Collections, French literature', 'Fantasy, Young Adult, Adventure, LGBTQ, Romance, Young Adult Fiction, Historical Fiction, Middle Grade, Romantasy, Romantic Comedy', 'Fiction, Fantasy, Young Adult, LGBTQ, War', 'Fiction, Science fiction, Young Adult, Fantasy, Dystopian, War, LGBTQ, Aliens, Space', 'Fantasy, Fiction, Young Adult, LGBTQ', 'Fiction, Fantasy, Science fiction, LGBTQ, Horror, Urban Fantasy', 'Fantasy, Fiction, Science fiction, LGBTQ, Romance, Queer', 'Fiction, Fantasy, Young Adult, Science fiction, LGBTQ, Romance, Dystopian', 'Fantasy, Fiction, LGBTQ, Romance', 'Fiction, Fantasy, Young Adult, Science fiction, LGBTQ', 'Fiction, Fantasy, LGBTQ, Women, Historical Fiction, Magical Realism', 'Fantasy, Fiction, Young Adult, Adventure, LGBTQ, Novella', 'Fantasy, Fiction, Adventure, LGBTQ, Romance, Romantasy', 'Fantasy, Fiction, Young Adult, Adventure, Science fiction, High Fantasy, Romantasy, Angels, New adult, New adult fantasy', 'Fantasy, Science fiction, Young Adult, LGBTQ, Dystopian, Young Adult Fiction, science fantasy', 'Fantasy, Fiction, Adventure, Science fiction, LGBTQ, Bodyguards', 'Fantasy, Young Adult, Fiction, LGBTQ, Romance, Young Adult Fiction, Magic, Ability', 'Fiction, Romance, Humor', 'Fantasy, Fiction, Science fiction, Adventure, LGBTQ', 'Nonfiction, Activism', 'Fiction, Fantasy, Young Adult, Adventure, Contemporary, Magical Realism', 'Young Adult, Fiction, Mystery, Young Adult Fiction, Thriller, Suspense, Murder', 'Fantasy, Fiction, Adventure, War, Fantasy fiction, High Fantasy', 'Fantasy, Young Adult, Adventure, Science fiction, Dystopian, War, Comics, Manga', 'Nonfiction, Biography, Biography & Autobiography, Memoir, autobiography', 'Fiction, Fantasy, Classics, Science fiction, Aliens', 'Young Adult, Fiction, Fantasy, LGBTQ, Mystery', 'Fiction, Young Adult, LGBTQ, Romance, Comics, Juvenile Fiction, Young Adult Fiction, Friendship, Graphic novels, Realistic Fiction', 'Young Adult, LGBTQ, Romance, Juvenile Nonfiction, Young Adult Fiction', 'Fiction, Romance, Sports Romance', 'Fantasy, Fiction, Adventure, Science fiction, War, High Fantasy, Epic Fantasy, Blessing and cursing, Grimdark', 'Fiction, Fantasy, Young Adult, Adventure, Science fiction, LGBTQ, Dystopian, Aliens', 'Fiction, Fantasy, LGBTQ, Dystopian, Thriller, Horror', 'Aliens, Horror', 'Fantasy, Young Adult, Fiction, Adventure, Romance, Young Adult Fiction, Magic, Fairy tales', 'Fantasy, Fiction, Young Adult, Romance', 'Fantasy, Young Adult, Fiction, Adventure, Young Adult Fiction, Retellings', 'Fiction, Fantasy, Classics, Young Adult, Nonfiction, History, War, Biography, Religion, Biography & Autobiography', 'Fiction, Fantasy, Science fiction, Adventure, Space, Dystopian, Aliens, Space Opera', 'Fiction, Fantasy, Young Adult, Adventure, Science fiction, Thriller', 'Nonfiction, Personal Development', 'Fiction, Classics, Young Adult, History, Juvenile Fiction, Mystery, General, Literature, Murder, literary criticism', 'Fiction, Fantasy, Classics, Science fiction, War, Romance, Politics, Japan, Classical fiction', 'Fiction, Fantasy, Romantasy, Paranormal, Dark Academia', 'Fantasy, Young Adult, Comics, Romance, Comics & Graphic Novels, Literature', 'Romantasy, Enemies to lovers', 'Fiction, Fantasy, Classics, Historical Fiction, Mythology', 'Psychology, Self-Help', 'Journal, Memoir, Nonfiction', 'Fiction, Fantasy, Science fiction, Adventure, War, LGBTQ, Dystopian, Space, Aliens, Cloning', 'Fiction, Fantasy, Historical Fiction', 'Fiction, LGBTQ, Siblings', 'Fiction, Mystery, Magical Realism', 'Fiction, Fantasy, Young Adult, Juvenile Fiction, Romance, Mystery, Young Adult Fiction, Gothic', 'Fiction, Romance, relationships', 'Romance, Thriller', 'Fiction, Romance, Arranged marriage, Mafia Romance, Mafia', 'Fiction, Young Adult, Romance, Brothers, adult, Spicy', 'Dark Romance, BDSM, Erotica', 'Fiction, Romance, Erotic stories, Smutty, Dark Romance', 'Fiction, Romance, Contemporary Romance, Erotic stories', 'Fiction, Young Adult, Romance, Thriller, adult, Dark Romance, Spicy', 'Fiction, Historical Fiction, Historical Romance', 'Science fiction, Fiction, Fantasy, LGBTQ, Dystopian, Horror', 'Fiction, Fantasy, Science fiction, LGBTQ, Horror, LGBTQ Literature', 'Fiction, Fantasy, Mystery, Thriller, Horror, adult', 'Fiction, Fantasy, Science fiction, Thriller', 'Fiction, History, Literature', 'Fiction, Adventure, Young Adult, Classics, History, Juvenile Fiction, General, Friendship, Historical Fiction, literary criticism', 'Fantasy, Fiction, Adventure, Science fiction, LGBTQ', 'Fiction, Mystery, Thriller, Suspense, adult', 'Fiction, Fantasy, Science fiction, Adventure, Space, Horror', 'Fantasy, Fiction, Young Adult, Adventure, LGBTQ, Romance, Mystery, Coffee shops', 'Fiction, Fantasy, Young Adult, Adventure, War, Juvenile Fiction, Dystopian, Young Adult Fiction, Angels', 'Fantasy, Fiction, Adventure, War, LGBTQ, Bards and bardism', 'Fiction, Family', 'Fantasy, Fiction, Horror', 'Fantasy, Epic Fantasy, dragons', 'Fiction, Young Adult, Romance, Contemporary, Contemporary Romance', 'Memoir', 'Fiction, Poetry, Crime Fiction', 'Fiction, Adventure, Fantasy, Young Adult, Classics, Science fiction, Magic, Fantasy fiction, Middle Earth (Imaginary place), Dwarfs', 'Fantasy, Fiction, Young Adult, Adventure, Classics, Science fiction, Middle Grade, low fantasy', 'Classics, Philosophy, Psychology, Self-Help', 'Fantasy, Fiction, Young Adult, Adventure, Science fiction, War, Politics, Magic, Fantasy fiction, Brothers', 'Fiction, Fantasy, Young Adult, Classics, History, LGBTQ, Comics, Romance, Thriller, Comics & Graphic Novels', 'Fantasy, Fiction, Adventure, War, Fantasy fiction, Epic Fantasy', 'Fiction, Young Adult, War, Adventure, Classics, History, General, Historical Fiction, Friendship, Literary Fiction', 'Fiction, Suspense, Contemporary', 'Fiction, Contemporary, Friendship, Literary Fiction', 'Fiction, Fantasy, Science fiction, Dystopian, Asian Americans', 'Fiction, Young Adult, Romance, Friendship', 'Fiction, Classics, Science fiction, Young Adult, Fantasy, Science, General, Psychology, Literature, Family & Relationships', 'Fiction, Romance, Contemporary, Families', 'Dystopian, Canada, Post Apocalyptic, Novella', 'Science fiction, Fiction, Fantasy, Adventure, Dystopian', 'Fiction, Fantasy, Young Adult, Adventure, Science fiction, Comics, Dystopian, Comics & Graphic Novels, Graphic novels, Caste', 'Mystery, Horror, Paranormal, Gothic, Mexico', 'Fiction, Fantasy, Science fiction, Nonfiction, General, Magical Realism, Time Travel', 'Fiction, LGBTQ, Romance, Contemporary, Literary Fiction', 'Fiction, Adventure, Classics, Literature', 'Fiction, Fantasy, Mystery, Magical Realism, Human-animal relationships, Contemporary Fiction', 'Fiction, Fantasy, Classics, Science fiction, Dystopian, Civilization,  Ancient', 'Philosophy, Ethics', 'Philosophy, Philosophers', 'Fiction, Mystery, Humor, Realistic Fiction, Australian fiction, adult', 'Fantasy, Young Adult, Adventure, LGBTQ, Comics, Comics & Graphic Novels, Literature, Magic', 'Fantasy, Young Adult, Adventure, LGBTQ, Comics, Comics & Graphic Novels', 'Fiction, Fantasy, Science fiction, LGBTQ, Horror, Gothic Horror, Historical Fantasy', 'Fiction, Fantasy, Adventure, War, Historical Fiction, Horror', 'Fiction, Fantasy, Young Adult, Adventure, Classics, Juvenile Fiction, Romance, Friendship, Magic, German fiction', 'Philosophy, Language Arts & Disciplines, Language and languages', 'Fiction, Adventure, Classics, War', 'Fantasy, Fiction, Young Adult, Adventure, Romance, Dystopian, Juvenile Fiction, Young Adult Fiction', 'Fantasy, Fiction, Romance, Romantasy', 'Fiction, Fantasy, Romance, Romantasy', 'Fiction, Young Adult, Romance, Romantic Comedy', 'Fiction, Fantasy, Classics, Science fiction, Young Adult, History, Comics, Juvenile Fiction, Romance, General', 'Fiction, Adventure, Fantasy, Classics, Young Adult, Comics, Juvenile Fiction, Mystery, General, Philosophy', 'Fiction, Classics, History, Biography, Nonfiction, General, Politics, Philosophy, Business & Economics, political science', 'Nonfiction, Mental health', 'Fiction, Fantasy, Adventure, Young Adult, Science fiction, War, dragons', 'Fiction, Fantasy, Science fiction, Romance fiction', 'Fiction, Romance, History, Science, Women, Drama', 'Fiction, Fantasy, Science fiction, Space, Aliens', 'Fantasy, Fiction, Horror, Literary Fiction', 'Nonfiction, Business & Economics, Self help', 'Nonfiction, Science, Nature', 'Fantasy, Fiction, Young Adult, Adventure, LGBTQ, Juvenile Fiction, Young Adult Fiction, Middle Grade', 'Fiction, Fantasy, Romance, Dark Romance, Retellings, Characters and characteristics in literature', 'Fiction, Young Adult, Romance, Friendship, Drama, Contemporary Romance', 'Family, Nonfiction', 'Body,  Mind & Spirit', 'Fantasy, Fiction, Young Adult, Romance, LGBTQ, Magic, Urban Fantasy, Contemporary, Fantasy romance', 'Fiction, Tennis stories', 'Classics, Nonfiction, History, War, Philosophy, Biography, Psychology, Biography & Autobiography, General, Memoir', 'Fiction, Fantasy, Romance, Contemporary, adult, Magical Realism, Paranormal Romance', 'Contemporary, Chick Lit', 'Fiction, Fantasy, Science fiction, Young Adult, Adventure, War, Space, Aliens', 'Sports Romance, Enemies to lovers', 'Fantasy, Fiction, Science fiction, History, Historical Fiction, Magic, Literary Fiction, Historical Fantasy, Dark Academia', 'Fiction, Fantasy, Supernatural, medieval', 'Fiction, Fantasy, Classics, Science fiction, Dystopian, Literary Fiction', 'Fiction, Fantasy, Young Adult, Science fiction, LGBTQ, Young Adult Fiction', 'Fiction, Fantasy, Science fiction, Adventure, LGBTQ, Romance, Mystery, Space, Space Opera', 'Fiction, Fantasy, Horror, slasher', 'Fiction, Fantasy, Young Adult, Adventure, Classics, Science fiction, Magic, Fantasy fiction, English fiction', 'Romance, Contemporary Romance, adult', 'Fantasy, Fiction, Young Adult, Paranormal, Romantasy, Vampires', 'Fantasy, Fiction, Young Adult, Science fiction, LGBTQ, Urban Fantasy, Dark Academia, Magical School', 'Fiction, Fantasy, Mystery, Thriller, Couples', 'Fiction, Young Adult, Romance, Contemporary Romance, New adult', 'Fiction, Young Adult, LGBTQ, Literary Fiction', 'Fiction, Women, African Americans, Historical Fiction', 'Fantasy, Young Adult, Fiction, Adventure, Young Adult Fiction, Fantasy fiction, Retellings', 'Fantasy, Young Adult, Fiction, Romance, Mystery, Young Adult Fiction, Thriller, Fantasy fiction, Gothic, Fantasy romance', 'Fiction, Romance, STEM', 'Fiction, adult romances, romcoms', 'Fiction, Young Adult, Young Adult Fiction, Thriller', 'Fantasy, Fiction, Romance', 'Fiction, Adventure, Romance, Contemporary, Contemporary Romance', 'Romance, Contemporary, Contemporary Romance, adult, Retellings', 'Fiction, LGBTQ, Romance, Contemporary, erotica', 'Fiction, African Americans, Horror', 'Fiction, Romance, Contemporary, Contemporary Romance, adult, ChickLit', 'Fantasy, Fiction, Young Adult, Adventure, Science fiction', 'Fiction, Mystery, Thriller, Suspense, Friendship, Crime, Contemporary, College students', 'Fiction, Romance, Contemporary, Contemporary Romance', 'Fiction, Young Adult, LGBTQ, Romance, Young Adult Fiction, Chess', 'Fantasy, Fiction, LGBTQ, Romance, Romantasy, Retellings, Romantic Suspense', 'Fiction, Young Adult, Classics, History, Romance, Young Adult Fiction, Family', 'Fiction, Fantasy, Young Adult, Adventure, Science fiction, Ability', 'Fiction, Young Adult, Romance, Juvenile Fiction, Contemporary Romance, adult', 'Fantasy, Fiction, Young Adult, Adventure, Romance', 'Cults, Dark Romance, Contemporary', 'Fantasy, Fiction, Romance, Dark Romance, Retellings, New adult', 'Fiction, Romance, Dark Romance', 'Romance, Dark Romance, adult, Erotica, Stalker', 'Fiction, Romance, Contemporary Romance, Enemies to lovers', 'Fiction, Fantasy, Young Adult, Romance, Juvenile Fiction, Contemporary Romance, adult, Enemies to lovers', 'Fiction, Fantasy, Science fiction, War, Aliens', 'Fiction, Fantasy, Science fiction, LGBTQ, Dystopian, Friendship, Contemporary', 'Fiction, Adventure, Thriller, adult', 'Fantasy, Young Adult, Science fiction, Dystopian, Young Adult Fiction', 'Fiction, Adventure, Mystery, Thriller, Suspense, Horror', 'Science fiction, Fiction, Fantasy, LGBTQ, Dystopian, Mystery, Space, Noir, Detective and mystery fiction', 'Fantasy, Science fiction, Dystopian, LGBTQ', 'Fiction, Fantasy, Young Adult, Mystery, Detective and mystery stories', 'Fiction, Mystery, Humor', 'Fiction, Adventure, LGBTQ, Mystery, Thriller, adult', 'Fiction, Thriller, Mystery, Psychology, Suspense, Children', 'Fiction, Young Adult, Biography & Autobiography, Psychology', 'Fiction, Horror, Weird fiction', 'Fiction, Fantasy, Adventure, Science fiction, LGBTQ, Dystopian, Literature', 'Fiction, History, Historical Fiction, Florence (Italy), Renaissance', 'Fiction, Science fiction, Fantasy, Adventure, Mystery, LGBTQ, Space, Aliens', 'Fiction, Fantasy, Horror, adult, Romantasy', 'Fiction, Classics, Adventure, Biography, Literature, Travel, Cooking, Historical Fiction, Retellings', 'Fiction, Fantasy, Science fiction, Mystery, Thriller, Suspense', 'Fiction, Mystery, Psychological thriller', 'Fiction, Fantasy, Thriller, Horror, Family secrets', 'Mystery, Horror, Vampires', 'Fantasy, Adventure, LGBTQ', 'Fiction, Fantasy, Mystery, Horror', 'Fiction, Fantasy, LGBTQ, Gothic Horror', 'Fiction, Young Adult, Fantasy, History, War, Romance, Young Adult Fiction, Historical Fiction', 'Fiction, Young Adult, LGBTQ, African Americans, Police', 'Fantasy, Fiction, Young Adult, Romance, Mystery, Gothic, adult', 'Fantasy, Young Adult, Adventure, Mystery, Young Adult Fiction, Thriller, Historical Fiction', 'Horror, adult', 'Fiction, Fantasy, Mystery, Thriller, Horror, Supernatural Fiction', 'Fiction, Mystery, Thriller, Suspense, Survival', 'Fantasy, Fiction, Romance, LGBTQ, Mystery, Suspense', 'social science, Race', 'Fiction, Fantasy, War', 'Fiction, Adventure, Thriller, Artificial Intelligence, Hackers, Blomkvist', 'Science fiction, Comics, Science, Nonfiction, Space, Humor, social science', 'Fiction, Romance, Contemporary, Contemporary Romance, Realistic Fiction', 'Fantasy, Young Adult, Science fiction, LGBTQ, Dystopian, Young Adult Fiction', 'Fantasy, Fiction, Young Adult, Adventure, Juvenile Fiction, Juvenile Nonfiction, Children', 'Fantasy, Young Adult, Adventure, Juvenile Fiction, Young Adult Fiction', 'Fiction, Fantasy, Romance, Dark Romance, Retellings', 'Fiction, Young Adult, Romance, Contemporary Romance, Adult Fiction', 'Romance, Dark', 'Fantasy, Young Adult, LGBTQ, Novella', 'Young Adult, Fantasy, LGBTQ, Romance, Young Adult Fiction', 'Fantasy, Young Adult, Fiction, Adventure, Juvenile Fiction, Romance, Young Adult Fiction, Magic, Urban Fantasy', 'Fantasy, Young Adult, Adventure, Dystopian, Young Adult Fiction', 'Fantasy, Young Adult, LGBTQ, Young Adult Fiction, Horror, Vietnam', 'Fiction, Fantasy, Science fiction, LGBTQ, Romance', 'Fantasy, Adventure, Fiction, Young Adult, War, Mystery, Murder, Magic, Children, Middle Grade', 'Fiction, Fantasy, Science fiction, Dystopian, Androids', 'Fiction, Romance, Smutty', 'Comics, House & Home, Self help, Home economics, House cleaning', 'Fantasy, Young Adult, Fiction, Adventure', 'Fiction, Young Adult, Romance, Contemporary Romance', 'Fiction, Fantasy,  Folk Tales,  Legends & Mythology', 'Fantasy, Fiction, Adventure, LGBTQ', 'Fiction, Fantasy, LGBTQ, Romance', 'Fantasy, Fiction, Young Adult, Adventure, LGBTQ, Romance', 'Fiction, Young Adult, LGBTQ, Mystery, Young Adult Fiction', 'Young Adult, Comics, Romance, LGBTQ, Juvenile Fiction, Young Adult Fiction, Graphic novels, Realistic Fiction, Boys', 'Fantasy, Fiction, Young Adult, Magic, Urban Fantasy, Dark Academia', 'Fiction, Young Adult, Romance, Sports Romance, Figure skaters', 'Young Adult, Biography & Autobiography', 'Comics, Nonfiction, Biography & Autobiography, Comics & Graphic Novels, Graphic novels, Memoir', 'Fiction, Fantasy, Science fiction, Dystopian, City and town life', 'Fiction, Horror', 'Fantasy, Fiction, Young Adult, Science fiction, LGBTQ, Romantasy', 'Nonfiction, Philosophy, Self-Help, Art', 'Fantasy, Fiction, Science fiction, Dystopian, Magic, Dark Academia', 'Fantasy, Fiction, Magic', 'Fiction, Murder, Detective and mystery stories', 'Fiction, Fantasy, LGBTQ, War, Literary Fiction', 'Erotica, Dark Romance, BDSM', 'Short stories, Contemporary, Literary Fiction, Magical Realism', 'Fiction, Family & Relationships, Contemporary, Families, Literary Fiction, British, Coming of Age, Mental health, Ghana', 'Fiction, Mystery, Murder, Women, Gossip', 'Dark Romance, Kidnapping, Bully Romance, Erotica', 'History, War, Nonfiction, Business & Economics, Business, political science, China, Technology', 'Fiction, Fantasy, Dark Romance', 'Fantasy, Science fiction, Romance, Space, Aliens', 'Fiction, Adventure, Classics, Mystery, Thriller, Suspense, Brainwashing', 'Young Adult, Fiction, Romance, Contemporary, Young Adult Romance', 'Fiction, LGBTQ, Mystery, Thriller', 'Fantasy, Adventure, Fiction, Young Adult, Comics, Comics & Graphic Novels, Literature, Manga', 'Psychology, Health & Fitness', 'Fiction, Mystery, Thriller, Blizzards', 'Fiction, Adventure, Murder, Fathers and daughters', 'Fantasy, Fiction, Adventure, Romance, Fantasy fiction, adult, Fantasy romance', 'Ghosts & Hauntings, History, Spiritualism', 'Nonfiction, Biography & Autobiography, Memoir', 'LGBTQ, Biography & Autobiography, Philosophy, Women, social science, Spanish, African Americans in mass media', 'Nonfiction, Memoir, Immigrants', 'Fiction, Young Adult, Young Adult Fiction, Young Adult Romance', 'Fiction, Romance, Contemporary, Contemporary Romance, adult, Sports Romance, Cowboy Romance', 'Fiction, Fantasy, Romance, Contemporary Romance, erotica', 'Fiction, Fantasy, relationships', 'Fiction, Fantasy, Adventure, Science fiction, Space, Space colonies', 'Erotica, Christmas, Contemporary', 'Fiction, Fantasy, Science fiction, LGBTQ, Dystopian, Aliens, Horror', 'Fiction, Mystery, Thriller, Horror, Whodunnit', 'Fantasy, Fiction, Romance, High Fantasy, New adult', 'Fiction, Fantasy, Adventure, Mythology, Retellings', 'Fiction, Fantasy, Science fiction, LGBTQ, Dystopian, Space', 'Fiction, Fantasy, Science fiction, Dystopian, LGBTQ, African Americans', 'Fantasy, Adventure, Fiction, Young Adult, Science fiction, LGBTQ', 'Science fiction, Fiction, Fantasy, Adventure, Space, Aliens', 'Fiction, Fantasy, Historical Fiction, Magical Realism, Gothic', 'Thriller, vigilante', 'Fantasy, Adventure, Science fiction, Comics, Dystopian, Comics & Graphic Novels', 'Fiction, Young Adult, Fantasy, Adventure, Young Adult Fiction', 'Fiction, Fantasy, Young Adult, Science fiction, LGBTQ, Urban Fantasy, Dark Academia', 'Romantasy, Magic', 'Fiction, Fantasy, Adventure, Romantasy', 'Fantasy, Science fiction, War', 'Fiction, Classics, History, Barges', 'Fiction, Romance, Science fiction', 'Fiction, Romance, Christmas', 'Fiction, Mystery, Thriller, Contemporary, Technology & Engineering, Satire, Literary, Asian Americans', 'Fiction, Romance, Spicy', 'Fiction, Fantasy, Young Adult, Young Adult Fiction, Thriller', 'Fiction, Young Adult, Romance, Contemporary', 'Fiction, Fantasy, Young Adult, Adventure, Comics, Juvenile Fiction, Magic, Spanish, Adventure stories', 'Fantasy, Young Adult, Adventure, Juvenile Fiction, Young Adult Fiction, Mythology, Magical Realism', 'Fantasy, Fiction, Young Adult, LGBTQ, Romance, Gay men', 'Fantasy, Adventure, Fiction, Young Adult, Science fiction, Dystopian, Dark Academia, science fantasy', 'Young Adult, Romance, Comics, LGBTQ, Juvenile Fiction, Young Adult Fiction, Graphic novels, Contemporary, Contemporary Romance, Realistic Fiction', 'Fiction, Classics, Science, General, Nature, Animal behavior', 'Fiction, Romance, Contemporary, Contemporary Romance, adult, Divorced people', 'Fantasy, Fiction, Adventure, Young Adult, Science fiction', 'Fiction, Contemporary, Literary Fiction, Magical Realism, adult', 'Fantasy, Fiction, LGBTQ, Horror, Magical Realism, Canada, indigenous', 'Fiction, Fantasy, LGBTQ, Horror, Magical Realism', 'Fiction, Fantasy, Thriller, Horror, Magical Realism, Supernatural', 'Fiction, LGBTQ, Space', 'Fantasy, Fiction, Young Adult, Romance, Contemporary Romance, Vampires', 'Fiction, LGBTQ, War, Historical Fiction, World War I', 'Fiction, Romance, Contemporary, Contemporary Romance, Romantic Comedy, romcom, romcoms', 'Fantasy, Adventure, Dystopian', 'Young Adult, Fiction, Fantasy, Juvenile Fiction, Young Adult Fiction', 'Fiction, Fantasy, Science fiction, Adventure, Aliens, Thriller', 'LGBTQ, Romance, Historical Fiction, M M Romance', 'Fantasy, Fiction, Young Adult, Gothic novels', 'Fantasy, Fiction, Young Adult, Adventure, LGBTQ, Betrayal', 'Fantasy, Fiction, Young Adult, Science fiction, War, Romance, Magic, Alliances', 'Historical Fiction, Literary Fiction, Caribbean', 'Fiction, Fantasy, Science fiction, Young Adult, Adventure, War, Dystopian, Space', 'Fiction, LGBTQ, Humor, Contemporary, comedy, Canada, Chick Lit, Toronto', 'Fantasy, Fiction, Adventure, LGBTQ, Young Adult, Romance, adult', 'Thriller, Historical Fiction, Horror', 'Fiction, Fantasy, Science fiction, Young Adult, Adventure, Humor', 'Fantasy, Fiction, Adventure, Science fiction, LGBTQ, Dystopian, Literary Fiction', 'Science fiction, Horror, Paranormal', 'Fiction, Fantasy, Thriller, Suspense, Horror, Crime', 'Nonfiction, social science, Economics', 'Fiction, Classics, History, Women, British', 'Nonfiction, Biography & Autobiography, Memoir, Celebrities', 'Fiction, Mystery, comedy', 'Fiction, Science fiction, Fantasy, Adventure, LGBTQ, Space, Aliens, Space Opera', 'Fiction, Classics, Young Adult, Adventure, Mystery, Comics, Crime', 'Fiction, Fantasy, Science fiction, Space, Space Opera', 'Nonfiction, Humor, Mathematics, Errors', 'Fiction, Crime, Suspense fiction', 'Fiction, Fantasy, Romance, adult, Magical Realism, Time Travel', 'Fiction, Thriller, relationships', 'Fiction, LGBTQ, Contemporary, Literary Fiction, adult, Weird fiction', 'Young Adult, Fantasy, LGBTQ, Romance, Young Adult Fiction, Historical Fiction, Queer', 'Fantasy, Horror, Urban Fantasy, Paranormal', 'Dark Romance, Contemporary, Abuse', 'Fiction, Fantasy, Industrial relations', 'Fiction, Science fiction, Fantasy, Dystopian, Space, X-ology', 'Fiction, Contemporary, Literary Fiction, Japanese literature, Books About Books', 'Fiction, Historical Fiction, India', 'Fiction, Romance, Contemporary Romance, Contemporary', 'Fiction, Fantasy, LGBTQ, Mystery, Horror, Family secrets, Supernatural, Western', 'Fantasy, Fiction, Epic Fantasy', 'Fiction, Fantasy, Young Adult, LGBTQ, Science fiction, Horror, Queer, Supernatural Fiction, sapphic, LGBTQ Literature', 'Fiction, Fantasy, Science fiction, Adventure, LGBTQ, Space, Space Opera', 'Fiction, Thriller, Drama', 'Fiction, Romance, Romantic Comedy, romcom, Women', 'Fiction, Mystery, Cults', 'Fantasy, Young Adult, Science fiction, Adventure, Comics, Comics & Graphic Novels, Magic, Conspiracies', 'Sports Romance, Flight attendants', 'Fantasy, Fiction, LGBTQ, Romantasy', 'Fiction, Ballerinas', 'Romance, Thriller, Dark Romance', 'Fantasy, Fiction, Young Adult, Romance, Romantasy, Fantasy romance, Smutty', 'Fantasy, Fiction, War, Romance, Horror', 'Fiction, Young Adult, Romance, Poetry, Friendship, Realistic Fiction, Abandoned children', 'Science fiction, Fiction, Fantasy, Aliens, Humor', 'Fantasy, Fiction, LGBTQ, Urban Fantasy', 'Fiction, Romance, Thriller, Romantic Suspense', 'Fiction, Fantasy, Young Adult, Romance, Dark Romance, Romantic Suspense, Bully Romance', 'Fiction, LGBTQ, Romance, Sports Romance, sapphic', 'Fantasy, Fiction, Young Adult, Adventure, Science fiction, High Fantasy, Books and reading', 'Fantasy, Fiction, LGBTQ, Horror, adult, Novella, fantas', 'Fantasy, Young Adult, Fiction, Romance, War, Juvenile Fiction, Young Adult Fiction', 'Biography & Autobiography, Nonfiction, LGBTQ, Memoir', 'Fantasy, Science fiction, Romance, Contemporary Romance, Magical Realism, Time Travel', 'Fantasy, Romance, Contemporary Romance', 'Fiction, Juvenile Fiction, Romance, Dark Romance', 'Fiction, Contemporary Romance', 'Sports Romance, Contemporary', 'Young Adult, Romance, Young Adult Fiction', 'Fiction, Young Adult, LGBTQ, Detective and mystery stories', 'furry, LGBTQ, Science fiction', 'Young Adult, Fantasy, Science fiction, Juvenile Fiction, Romance, Young Adult Fiction, Historical Fiction', 'Fantasy, Young Adult, Adventure, Science fiction, Dystopian, dystopian', 'Fiction, Fantasy, Young Adult, Adventure, Comics, Juvenile Fiction, Comics & Graphic Novels, Manga, Graphic novels, Adventure and adventurers', 'Young Adult, Young Adult Fiction, Young Adult Romance, Abused teenagers', 'Fantasy, Young Adult, Adventure, Romance, Dystopian, Young Adult Fiction', 'Fiction, LGBTQ, General fiction', 'Fiction, Mystery, Thriller, Women, Suspense fiction', 'History, Adventure, Nonfiction, War, True crime', 'Fantasy, Fiction, Young Adult, Adventure, Romance, Humor, Magic, New adult fantasy, Humorous fantasy', 'History, Nonfiction, Science', 'Fiction, Fantasy, Young Adult, Romance, Vampires', 'Fiction, LGBTQ, Dystopian', 'LGBTQ, Nonfiction, Biography & Autobiography, Memoir', 'Fantasy, Fiction, Adventure, Romance, False personation', 'Fiction, Mystery, Historical Fiction, Historical Mystery', 'Fantasy, Fiction, Young Adult, Adventure, Romance, War, Juvenile Fiction, Dystopian, Magic, Romantasy', 'Fantasy, Science fiction, Space', 'Fiction, Fantasy, Young Adult, Adventure, Science fiction, Space', 'Fiction, Fantasy, Adventure, Science fiction, War, Dystopian, Space, Aliens, Artificial Intelligence', 'Fiction, Science fiction, LGBTQ, Dystopian, Horror, Literary Fiction', 'Fiction, LGBTQ, Romance, Romantic Comedy, romcom, sapphic', 'Fantasy, Young Adult, Comics, Comics & Graphic Novels, Literature, Manga', 'Fiction, Mystery, Clubs, Detective and mystery fiction', 'Mystery, Thriller, Domestic drama', 'Young Adult, Fantasy, LGBTQ, Juvenile Fiction, Young Adult Fiction, Horror', 'Fantasy, Young Adult, Fiction, Young Adult Fiction, Young adult fantasy, Young Adult Romance', 'Fiction, Fantasy, Young Adult, Adventure, Romance, Mystery, Young Adult Fiction, Suspense, Historical Fiction, Magical Realism', 'Fantasy, Fiction, Young Adult, Romance, Mystery, Fantasy romance, fae', 'Young Adult, Fantasy, LGBTQ, Young Adult Fiction, Horror', 'Fiction, Fantasy, Young Adult, History, LGBTQ, Young Adult Fiction, Horror', 'Nonfiction, Health & Fitness, Medical', 'Young Adult, Classics, Memoir', 'Fiction, Fantasy, LGBTQ, Suspense, Magic, Horror, Gothic Horror', 'Fiction, Fantasy, Adventure, War, LGBTQ, Historical Fiction', 'Fantasy, Fiction, Young Adult, War, Romance, Young Adult Fiction, Historical Romance', 'Fantasy, Fiction, Young Adult, Science fiction', 'Fantasy, Fiction, Young Adult, Adventure, War, Romance, LGBTQ, Dystopian, Magic, Suspense', 'Fiction, Fantasy, Science fiction, Young Adult, Adventure, LGBTQ, Juvenile Fiction, Space, Romance, Aliens', 'Fantasy, Science fiction, Fiction, Young Adult, Classics, Comics, Dystopian, General, Comics & Graphic Novels, Women', 'Nonfiction, literary criticism, Ethics, Arts', 'Space, Literary Fiction, Scotland', 'Fiction, Romance, Mafia, Mafia Romance', 'Materials science', 'Fiction, Classics, Fantasy, General, Mathematics, Literature, Historical Fiction, Spanish, Family & Relationships, Foreign Language Study', 'Fantasy, Fiction, Young Adult, Romance, LGBTQ, Magic, adult', 'Fantasy, Fiction, Young Adult, Adventure, Science fiction, Fantasy romance', 'Fantasy, Fiction, Romance, High Fantasy', 'Fantasy, Fiction, Young Adult, Adventure, Science fiction, Mystery, Historical Fiction, Magical Realism, adult, Historical Fantasy', 'Fantasy, Science fiction, LGBTQ, Dystopian', 'Fiction, Fantasy, Adventure, Science fiction, War, LGBTQ', 'Fantasy, Comics, Comics & Graphic Novels, Literature', 'Nonfiction, Business & Economics, Health & Fitness, Food, Health', 'Fiction, Mystery, Thriller, Drama, adult', 'Fiction, Fantasy, Science fiction, Adventure, Dystopian, Space', 'Biography, Nonfiction, Biography & Autobiography, Heist', 'Fiction, Fantasy, Science fiction, Dystopian, LGBTQ, Aliens', 'Fantasy, Fiction, Science fiction, Adventure, Mystery, LGBTQ, Thriller, Detectives', 'Science fiction, Fiction, Fantasy, Mystery, Dystopian', 'Fiction, Science fiction, Fantasy, Young Adult, Adventure, Humor', 'Fiction, Mystery, Thriller, Family & Relationships, Contemporary, Disability', 'Fantasy, murder mystery', 'History, Nonfiction, Technology', 'Fiction, Fantasy, Science fiction, Space', 'Fiction, Fantasy, Young Adult, Classics, Romance, relationships, Magical Realism, College students, Japanese fiction, Dark', 'Fiction, Classics, Short stories, Autobiographical fiction,  Latin American', 'Fiction, Fantasy, Science fiction, Comics & Graphic Novels', 'Fiction, Fantasy, Romance, Romantic Comedy, Time Travel, romcom, multiverse', 'Fiction, Fantasy, Science fiction, LGBTQ, Dystopian, Literary Fiction', 'Fiction, Fantasy, Mystery, Historical Fiction, Horror, Gothic Horror', 'Fiction, Fantasy, LGBTQ, Horror, Retellings, Queer, Dark Academia, Gothic novels, sapphic', 'Fantasy, Young Adult, Classics, LGBTQ, Young Adult Fiction', 'Nonfiction, Politics', 'Adventure, History, Nonfiction, Biography, social science, Education, Sports & Recreation, Sports', 'Fantasy, Historical Fiction', 'Fiction, Mystery, Thriller, Suspense, Crime', 'Fiction, Fantasy, Young Adult, Romance, Supernatural Fiction', 'Mafia, Dark Romance, Abuse', 'Fiction, Historical Romance, Romance', 'Fiction, political science, Information society', 'Fiction, Science fiction, War, Dystopian, Dictatorship', 'Fiction, Short stories,  American', 'Fiction, Romance, Dark Romance, Smutty, Sports Romance, Hockey Romance', 'Fantasy, Romance, Contemporary Romance, Omegaverse', 'Romance, Mafia Romance', 'Nonfiction, Psychology, Introversion', 'Fiction, Fantasy, Young Adult, LGBTQ, Horror, Magical Realism, adult, Coming of Age', 'Economics, Nonfiction, Technology', 'Fiction, Fantasy, Science fiction, LGBTQ, Dystopian, Thriller', 'Adventure, Fiction, Fantasy, Science fiction, LGBTQ, Mystery, Space', 'Mystery', 'Fiction, Fantasy, LGBTQ, Romance, Horror', 'Fantasy, Young Adult, Adventure, War, LGBTQ, Young Adult Fiction', 'Fiction, Fantasy, Magical Realism', 'Fiction, Romance, Contemporary Romance, Sports Romance', 'Fiction, Fantasy, Adventure, Science fiction, Comics, War, LGBTQ, Dystopian, Space, Aliens', 'Nonfiction, Biography, Business & Economics, Technology', 'Thriller, Psychological thriller', 'Fiction, Young Adult, Adventure', 'Fiction, Mystery, Crime', 'Fantasy, Fiction, Historical Fiction, Historical Fantasy', 'Fiction, Fantasy, Adventure, Romance', 'Biography & Autobiography, Humor, Memoir', 'Fiction, Native American Literature', 'Nonfiction, Biography & Autobiography, social science', 'Fiction, Romance, Contemporary Romance, Chick Lit', 'Fiction, Computers', 'Science fiction, Nonfiction, Space, Science', 'Fiction, Historical Fiction, Magical Realism, Western', 'Fiction, Fantasy, Family, Magic, Historical Fiction, Literary Fiction, Magical Realism', 'Fiction, Fantasy, Adventure, Science fiction, Magical Realism', 'Fiction, War, Historical Fiction, Women', 'Fiction, Fantasy, Young Adult, Science fiction, Young Adult Fiction', 'Fantasy, Fiction, Adventure, China', 'Fiction, Fantasy, Young Adult, Adventure, Science fiction, Young Adult Fiction', 'Fantasy, Fiction, Young Adult, Adventure, Science fiction, LGBTQ, Fantasy fiction', 'Fiction, Romance, Young Adult, Contemporary, Contemporary Romance, Chick Lit', 'Fantasy, Young Adult, Adventure, Juvenile Fiction, Juvenile Nonfiction, Mythology', 'Nonfiction, Business, Self-Help, Productivity', 'Biography, Biography & Autobiography, Space, Business', 'Fiction, Fantasy, Contemporary Romance, adult', 'Fantasy, Fiction, Adventure, Science fiction, Young Adult, science fiction fantasy', 'Fiction, Fantasy, Science fiction, Space Opera', 'Nonfiction, Business & Economics, Psychology, Self-Help', 'Fantasy, Adventure, War, Comics, Comics & Graphic Novels, Graphic novels', 'Fantasy, Fiction, Adventure, War, Comics, Comics & Graphic Novels, Graphic novels', 'Fiction, Fantasy, Young Adult, LGBTQ, Romance, Mystery, Thriller', 'Fantasy, Science fiction, Space, Aliens', 'Fiction, Fantasy, Short stories, Horror', 'Fantasy, Young Adult, Adventure, Comics, Science fiction, Aliens, Comics & Graphic Novels', 'Fantasy, Fiction, Science fiction, Dystopian, LGBTQ, Feminism', 'Fantasy, Young Adult, Science fiction, LGBTQ, Dystopian, Folklore, Urban Fantasy, Magical Realism, Magic Realism', 'History, War, Nonfiction, Civilization,  Viking', 'Fiction, Romance, Romantic Comedy, Women, romcom', 'Fiction, Fantasy, Science fiction, Space, Aliens, Space Horror', 'Nonfiction, History, Science', 'Fiction, Fantasy, Romance, Dark Romance', 'Fiction, Fantasy, Science fiction, Dystopian, Mystery', 'Fiction, Mystery, Thriller, Novella', 'Fantasy, Fiction, Young Adult, Science fiction, Fairy tales', 'Fantasy, Young Adult, Adventure, Science fiction, War, Dystopian, Young Adult Fiction', 'Young Adult, Romance, Young Adult Fiction, Contemporary, Contemporary Romance', 'Dark Romance, Thriller', 'Science fiction, War, History, Dystopian, Nonfiction, Contemporary', 'Fiction, Fantasy, Science fiction, Young Adult, Dystopian', 'Fiction, Fantasy, Romance, Contemporary Romance, Magical Realism', \"Fiction, Fantasy, Young Adult, Classics, Juvenile Fiction, Poetry, Juvenile Nonfiction, Humor, Spanish, Children's Literature\", 'Fiction, Romance, Family & Relationships, Disability', 'Fiction, Contemporary, Literary Fiction, Books and reading', 'Fantasy, Fiction, LGBTQ, War, Historical Fiction, Historical Fantasy', 'Artificial Intelligence, Nonfiction, Science, Technology', 'Young Adult, Fiction, Fantasy, Adventure, Science fiction, Juvenile Fiction, Mystery, Thriller, Young Adult Fiction, Crime', 'Fiction, Fantasy, Science fiction, Family, Magical Realism, Time Travel, Japanese literature, Relationships', 'Nonfiction, Psychology, Business, Family & Relationships', 'Fiction, Romance, Humor, Literature, Contemporary, comedy', 'Fiction, Fantasy, Science fiction, Adventure, LGBTQ, Dystopian, Space, Aliens, science fantasy', 'ideology, Nonfiction, Philosophy, political science, Politics, social science', 'Nonfiction, Biography & Autobiography, Psychology, informative', 'Fiction, Fantasy, Classics, War', 'General, Philosophy, Psychology, Body,  Mind & Spirit', 'Dystopian, Biography & Autobiography', 'Philosophy, social science, Entitlement attitudes', 'Fiction, Fantasy, Science fiction, Young Adult, Adventure, Dystopian, Space, comedy', 'Fantasy, Science fiction, LGBTQ', 'Fiction, Fantasy, Science fiction, Adventure, LGBTQ, Space', 'Fiction, Science fiction, LGBTQ, Horror', 'Fiction, Fantasy, LGBTQ, Horror, Gothic Horror, adult, Gothic, Supernatural', 'Young Adult, Fiction, Mystery, Juvenile Fiction, Young Adult Fiction, Thriller', 'Biography, Biography & Autobiography, Cooking, Memoir', 'Science fiction, Fiction, Fantasy, Adventure, Dystopian, Space, Short stories', 'Fantasy, Fiction, Science fiction, Adventure, Magical Realism, Time Travel', 'Fiction, Romance, Mystery, Thriller, True crime, adult, comedy', 'Fiction, Crime, Food, Japanese literature', 'Fantasy, Fiction, Science fiction, Literary Fiction, adult, Magical Realism, Chick Lit', 'Fiction, LGBTQ, War', 'Fiction, Fantasy, Science fiction, Fate and fatalism', 'Fiction, Historical Fiction, Native Americans, Native American Literature', 'Fiction, Science fiction, Dystopian, Literary Fiction, Climate and civilization', 'Fantasy, Fiction, Adventure, Science fiction, LGBTQ, Humor, adventurous', 'Fiction, Mystery, Thriller, adult', 'Fantasy, Fiction, Young Adult, Science fiction, LGBTQ, Fantasy fiction, Asian Literature', 'Fiction, Young Adult, Mystery, Historical Fiction, British, Historical Mystery, Young Sleuth', 'Fiction, Fantasy, Young Adult, Adventure, Science fiction, Comics, Comics & Graphic Novels, Manga', 'Fiction, Horror, adult', 'Memoir, Nonfiction', 'Fiction, Science fiction, LGBTQ, Dystopian', 'Fantasy, Fiction, Mystery', 'History, Music, Nonfiction, Religion', 'Fantasy, Young Adult, LGBTQ, Comics, Comics & Graphic Novels, Manga, Slice of life, Queer Manga', 'Fiction, Mystery, General, Suspense, Thriller, Detective and mystery stories,  American, Psychological thriller, Suspense fiction, Husbands', 'Fiction, Mystery, Historical Fiction, Thriller, Literary Fiction', 'Fiction, Romance, Asian Americans, Asian American women', 'Nonfiction, Business & Economics', 'LGBTQ, Business & Economics', 'History, War, Nonfiction, political science, Immigrants', 'Fiction, Young Adult, Classics, LGBTQ, Juvenile Fiction, General, social science, Contemporary, Realistic Fiction', 'Fiction, Fantasy, Young Adult, Adventure, Romance, Dystopian, Young Adult Fiction', 'Fantasy, Science fiction, Dystopian, Science fiction romance', 'Fiction, LGBTQ, Contemporary, Literary Fiction', 'Fantasy, litrpg, Progression Fantasy', 'Science, Business & Economics, Computers', 'Fiction, Horror, Supernatural', 'History, social science', 'Fiction, Fantasy, Romance, Dark Romance, Romantic Comedy', 'Nonfiction, Science, Economics', 'Romance, Contemporary, Contemporary Romance, Sports Romance, College Romance', 'Fiction, Mystery, Christmas', 'Fiction, LGBTQ, Horror, Psychological thriller, psychological horror', 'Fantasy, Fiction, adult, Dark Academia', 'Fiction, Fantasy, Science fiction, Mystery, Suspense, Horror, adult, Gothic', 'Fiction, Mystery, Epistolary, multimedia', 'Fiction, Relationships', 'Fantasy, Young Adult, Fiction, LGBTQ', 'Fantasy, Fiction, Young Adult, Juvenile Fiction, Romance, Dystopian, Juvenile Nonfiction, Young Adult Fiction, Fantasy fiction, Romantasy', 'Fantasy, Fiction, Young Adult, Adventure, Young Adult Fiction', 'Fantasy, Fiction, LGBTQ, Romance, Urban Fantasy, Holiday', 'Fiction, Fantasy, Christmas, Contemporary', 'Fiction, Fantasy, Adventure, Classics, Science fiction, Space, Education', 'Fiction, Fantasy, Adventure, War, Angels', 'Fantasy, Fiction, Young Adult, Adventure, Historical Fiction, adult, Fantasy romance, Historical Fantasy', 'Young Adult, Fiction, LGBTQ, Mystery, Thriller', 'Fantasy, Fiction, Science fiction', 'Young Adult, Comics, LGBTQ, Comics & Graphic Novels', 'Fantasy, Fiction, Urban Fantasy', 'Fiction, Mystery, Thriller, Suspense', 'Fiction, Thriller, Disasters', 'Fiction, Romance, Mystery, adult', 'Science fiction, science fantasy', 'Fantasy, Fiction, Romance, Dystopian', 'Fantasy, Young Adult, Adventure, Young Adult Fiction, Fairy tales', 'Fiction, Young Adult, Adventure, Science fiction, Space', 'Family & Relationships, Psychology', 'Fiction, Mystery, Short stories, Christmas, Novella, Retellings', 'Fiction, Fantasy, Young Adult, Adventure, Romance, Young Adult Fiction, Angels', 'Fantasy, Science fiction, Young Adult, Adventure, Space, Aliens', 'Law', 'Literature, Language Arts & Disciplines', \"Fantasy, Young Adult, Adventure, Juvenile Fiction, Children's stories\", 'Fiction, Fantasy, Epic Fantasy, Fantasy romance, Romantic fantasy', 'Nonfiction, Philosophy, Self-Help, Body,  Mind & Spirit', 'Business & Economics, Psychology', 'Nature', 'Fantasy, Fiction, Science fiction, Aliens', 'Fiction, Fantasy, Classics, History, General, Historical Fiction', 'War, social science', 'social science, Language Arts & Disciplines', 'Biography, Biography & Autobiography, autobiography', \"Fiction, Fantasy, Science fiction, Dystopian, General, Suspense, German language, Artists' books\", 'Comics, Romance, Comics & Graphic Novels, Manga']\n"
     ]
    }
   ],
   "source": [
    "if header_column in df.columns:\n",
    "    unique_values = df[header_column].unique().tolist()\n",
    "    print(f\"Unique values in '{header_column}':\")\n",
    "    print(unique_values)\n",
    "else:\n",
    "    print(f\"Column '{header_column}' not found in the CSV file.\")"
   ]
  },
  {
   "cell_type": "code",
   "execution_count": 69,
   "metadata": {},
   "outputs": [
    {
     "name": "stdout",
     "output_type": "stream",
     "text": [
      "Unique values saved to 'tropes.csv'.\n"
     ]
    }
   ],
   "source": [
    "if header_column in df.columns:\n",
    "    unique_values = df[header_column].unique()\n",
    "    unique_df = pd.DataFrame(unique_values, columns=[header_column])\n",
    "\n",
    "    output_file = 'tropes.csv'\n",
    "    unique_df.to_csv(output_file, index=False)\n",
    "    print(f\"Unique values saved to '{output_file}'.\")\n",
    "else:\n",
    "    print(f\"Column '{header_column}' not found in the CSV file.\")\n"
   ]
  },
  {
   "cell_type": "code",
   "execution_count": 70,
   "metadata": {},
   "outputs": [
    {
     "name": "stdout",
     "output_type": "stream",
     "text": [
      "Refined unique tropes saved to 'tropes_refined.csv'.\n"
     ]
    }
   ],
   "source": [
    "unique_tropes = set()\n",
    "with open('tropes.csv', 'r') as file:\n",
    "    reader = csv.DictReader(file)\n",
    "    for row in reader:\n",
    "        if row: \n",
    "            tropes = row['tags'].split(', ')\n",
    "            unique_tropes.update(tropes)\n",
    "with open('tropes_refined.csv', 'w') as outfile:\n",
    "    for trope in unique_tropes:\n",
    "        outfile.write(f\"{trope}\\n\")\n",
    "\n",
    "print(f\"Refined unique tropes saved to 'tropes_refined.csv'.\")"
   ]
  },
  {
   "cell_type": "code",
   "execution_count": 71,
   "metadata": {},
   "outputs": [
    {
     "name": "stdout",
     "output_type": "stream",
     "text": [
      "Unique genre tags have been successfully saved to 'unique_genre_tags.csv'.\n"
     ]
    }
   ],
   "source": [
    "df = pd.read_csv('cleaned_tags_data.csv')\n",
    "genre_tags = {}\n",
    "for index, row in df.iterrows():\n",
    "    genre = row['genre']\n",
    "    tags = str(row['tags']).split(', ')\n",
    "    if genre not in genre_tags:\n",
    "        genre_tags[genre] = set()\n",
    "\n",
    "    genre_tags[genre].update(tags)  \n",
    "\n",
    "unique_genre_tags = [{'genre': genre, 'tags': ', '.join(tags)} for genre, tags in genre_tags.items()]\n",
    "unique_genre_tags_df = pd.DataFrame(unique_genre_tags)\n",
    "\n",
    "unique_genre_tags_df.to_csv('genre_tags.csv', index=False)\n",
    "print(\"Unique genre tags have been successfully saved to 'unique_genre_tags.csv'.\")"
   ]
  },
  {
   "cell_type": "code",
   "execution_count": 72,
   "metadata": {},
   "outputs": [],
   "source": [
    "df = pd.read_csv('updated_data.csv')\n",
    "genre_tags = {}\n",
    "for index, row in df.iterrows():\n",
    "    genre = row['genre']\n",
    "    tags = str(row['tags']).split(', ')\n",
    "    if genre not in genre_tags:\n",
    "        genre_tags[genre] = set()\n",
    "\n",
    "    genre_tags[genre].update(tags)  \n",
    "\n",
    "unique_genre_tags = [{'genre': genre, 'tags': ', '.join(tags)} for genre, tags in genre_tags.items()]\n",
    "unique_genre_tags_df = pd.DataFrame(unique_genre_tags)\n",
    "\n",
    "unique_genre_tags_df.to_csv('updated_genre_tags.csv', index=False)\n"
   ]
  },
  {
   "cell_type": "code",
   "execution_count": 73,
   "metadata": {},
   "outputs": [
    {
     "name": "stdout",
     "output_type": "stream",
     "text": [
      "Tags removed successfully!\n"
     ]
    }
   ],
   "source": [
    "# Load JSON data\n",
    "with open('structured_output.json', 'r', encoding='utf-8') as file:\n",
    "    data = json.load(file)\n",
    "\n",
    "# Function to remove specified tags from books of a certain genre\n",
    "def remove_tags_by_genre(data, genre_to_filter, tags_to_remove):\n",
    "    for book in data.get('books', []):  # Use .get() to avoid KeyError\n",
    "        if book.get('genre') == genre_to_filter:  \n",
    "            if 'tags' in book and isinstance(book['tags'], list):  \n",
    "                book['tags'] = [tag for tag in book['tags'] if tag.get('tag') not in tags_to_remove]\n",
    "    return data\n",
    "\n",
    "# Define genres and tags to be removed\n",
    "genre_tag_removals = {\n",
    "    'Young Adult': ['Young Adult','Realistic Fiction','Australian fiction',' English','General','Blogs',\"English\",'Mathematics','nan',' 2001-','Boys','American','Food habits','Ability','Acculturation', 'Juvenile Fiction', 'Juvenile Nonfiction', 'Young Adult Nonfiction', 'Application software'],\n",
    "    'Fiction' : ['Downloadable e-Books','Realistic Fiction',' English','Australian fiction','Mathematics','Ability','Charms','Children of alchoholics','Xanth (Imaginary place)','Gulls','Daye',' N.Y.)','Call','Monster Romance','D','Tokyo (Japan)','Creation (Literary',' Jewish (1939-1945)','Hole','Epistolary',' Resistance to','A','Babel','Geishas','Metaphysics','Canada','Etiquette','Defense information','Florence (Italy)','Bookbinding','Africa',' Thomas (Fictitious character)',' Thomas','Butlers','Indian Territory','Acquaintance rape','Foreign Language Study','Elias (Fictitious character)','Children of clergy','Cocktail servers','Boston (Mass.)','X-ology','Alera (Imaginary place)','Books and reading',' 1961-1975','Adult children of aging parents','Dublin (Ireland)','Caulfield','Weird fiction','Compact discs','Mississippi','Middle Earth (Imaginary place)','Smiley','General', ' Holden (Fictitious character)','Children of the rich','Arthurian romances','Apartment concierges','etc.)','Jalisco (Mexico)','Algeria','Juvenile Nonfiction','Ghana','Technology & Engineering','Creative ability in science','Electronic mail messages',' Edward (Fictitious character)',' 2001-','Amerikaanse fiksie','Information society','Carnival owners','sapphic','Cattle drives','Butterflies','Models (Persons)','Characters and characteristics in literature','Burma','Bereavement','Madison (Wis.)','Steampunk','Indians of North America','Space Opera','Downloadable e-Books',' Klaus (Fictitious character)','Anansi (Legendary character)','Discworld (Imaginary place)','reference','Cloning','Aventure and aventuriers','Blue (Fictitious character : Stiefvater)',' Elizabeth (Fictitious character)','Bildungsromans','Cities and towns','Documentary films','Castle Rock (Me. : Imaginary place)','Choice (Psychology)','Highlands (Scotland)',' 1485?-1540',' 1900-1945 - Texts','Data encryption (Computer science)','  Contests','Aircraft accident victims','Computer technicians','Glasgow (Scotland)','Domestic drama',' etc.)',' etc','Discoveries in geography',' Personal','Juvenile Fiction','Comedias cinematograficas','Railroad construction workers','Local author','Television plays','Blomkvist','N.Y.)','Baudelaire','Ringworld (Imaginary place)','Chicago (Ill.)','General fiction','Cullen',' Earl of Essex','Alabama',' 1945-','Blessing and cursing','Apartment houses','Circumstellar matter','Alanna (Fictitious character)','Dating (Social customs)','Breast','Fugitives from justice','slasher','Nonfiction','English fiction','Accident victims',' 1939-1945',' October (Fictitious character)',' Jim (Fictitious character)','Barges','Electronic books','Toronto','Alternative histories (Fiction)',' George (Fictitious character)','Androids'],\n",
    "    'Horror' : ['Horror','Realistic Fiction','Horror fiction','Juvenile Fiction','English fiction','American','American Fiction','General'],\n",
    "    'History': ['Ireland','Chicago (Ill.)','Salt','General','Eugenics','Nan-ching shih (China)','Nanjing (Jiangsu Sheng','Imperial Trans-Antarctic Expedition'],\n",
    "    'Fantasy':['Juvenile Nonfiction','Realistic Fiction','Juvenile Fiction','Australian fiction','Polish language materials',' Chicago (Ill.)','Foreign Language Study','Discworld (Imaginary place)','False personation',' Electronic books','Dresden','Canada','Earthquake zones',' fantas','General','Internet','litrpg','Bards and bardism','Read 2023','etc','Diana (Fictitious character)','Grimdark','Characters and characteristics in literature',' Belacqua','American fiction','apologetics','Lyra (Fictitious character)','English fiction','Nonfiction','Xianxia','Books and reading',' Australian fiction',' low fantasy'],\n",
    "    'Mystery':['Juvenile Nonfiction','Realistic Fiction','Poirot','Mexico','English fiction',' English','Juvenile Fiction','General','Jane (Fictitious character)','Hercule (Fictitious character)','British','Australian fiction'],\n",
    "    'Nonfiction':['General',' reference','White people','Reclame'],\n",
    "    'Classics':['etc.)','Realistic Fiction','General','Denken','reference','Creation (Literary'],\n",
    "    'Science Fiction':['Juvenile Nonfiction',' Juvenile Fiction','General','Science fiction',' Jim (Fictitious character)','Juvenile Fiction',' strips'],\n",
    "    'Action & Adventure':['Bourne','Fiction','Jason (Fictitious character)','Arches National Park (Utah)','Juvenile Fiction','Realistic Fiction'],\n",
    "    'Comics':['Juvenile Fiction','House cleaning','Home economics'],\n",
    "    'Self-Help':['Fiction'],\n",
    "    'Science':['Juvenile Nonfiction','Juvenile Fiction','General','Science fiction'],\n",
    "    'Biography & Autobiography':['Gilmore Girls (Television program)'],\n",
    "    'LGBTQ':['Amherst (Mass.)','Realistic Fiction'],\n",
    "    'Romance':['Juvenile Fiction','Realistic Fiction']\n",
    "}\n",
    "# Apply filtering for each genre\n",
    "for genre, tags_to_remove in genre_tag_removals.items():\n",
    "    data = remove_tags_by_genre(data, genre, tags_to_remove)\n",
    "\n",
    "# Save updated JSON\n",
    "with open('books_data_updated.json', 'w', encoding='utf-8') as file:\n",
    "    json.dump(data, file, indent=4)\n",
    "\n",
    "print(\"Tags removed successfully!\")"
   ]
  },
  {
   "cell_type": "code",
   "execution_count": 74,
   "metadata": {},
   "outputs": [
    {
     "name": "stdout",
     "output_type": "stream",
     "text": [
      "Cleaned books data has been successfully saved to updated_data.csv.\n",
      "Unique genre tags have been saved to updated_genre_tags.csv.\n"
     ]
    }
   ],
   "source": [
    "csv_file_path = 'updated_data.csv'\n",
    "with open(csv_file_path, 'w', newline='', encoding='utf-8') as csvfile:\n",
    "    fieldnames = ['id', 'title', 'author', 'genre', 'rating', 'releaseDate', 'pages', 'description', 'tags']\n",
    "    writer = csv.DictWriter(csvfile, fieldnames=fieldnames)\n",
    "    \n",
    "    writer.writeheader()\n",
    "    \n",
    "    for book in data.get('books', []):\n",
    "        book_info = {\n",
    "            'id': book.get('id', ''),\n",
    "            'title': book.get('title', ''),\n",
    "            'author': book.get('author', ''),\n",
    "            'genre': book.get('genre', ''),\n",
    "            'rating': book.get('rating', ''),\n",
    "            'releaseDate': book.get('releaseDate', ''),\n",
    "            'pages': book.get('pages', ''),\n",
    "            'description': book.get('description', '')\n",
    "        }\n",
    "        \n",
    "        tags = ', '.join([tag['tag'] for tag in book.get('tags', []) if isinstance(tag, dict)])\n",
    "        book_info['tags'] = tags\n",
    "\n",
    "        writer.writerow(book_info)\n",
    "\n",
    "print(f\"Cleaned books data has been successfully saved to {csv_file_path}.\")\n",
    "\n",
    "# Load CSV for tag aggregation\n",
    "df = pd.read_csv(csv_file_path)\n",
    "\n",
    "# Aggregate unique tags for each genre\n",
    "genre_tags = {}\n",
    "for _, row in df.iterrows():\n",
    "    genre = row['genre']\n",
    "    tags = str(row['tags']).split(', ')\n",
    "    if genre not in genre_tags:\n",
    "        genre_tags[genre] = set()\n",
    "    genre_tags[genre].update(tags)\n",
    "\n",
    "# Convert to DataFrame and save to CSV\n",
    "unique_genre_tags_df = pd.DataFrame([\n",
    "    {'genre': genre, 'tags': ', '.join(tags)} for genre, tags in genre_tags.items()\n",
    "])\n",
    "\n",
    "unique_genre_tags_df.to_csv('updated_genre_tags.csv', index=False, encoding='utf-8')\n",
    "\n",
    "print(\"Unique genre tags have been saved to updated_genre_tags.csv.\")"
   ]
  }
 ],
 "metadata": {
  "kernelspec": {
   "display_name": "Python 3",
   "language": "python",
   "name": "python3"
  },
  "language_info": {
   "codemirror_mode": {
    "name": "ipython",
    "version": 3
   },
   "file_extension": ".py",
   "mimetype": "text/x-python",
   "name": "python",
   "nbconvert_exporter": "python",
   "pygments_lexer": "ipython3",
   "version": "3.13.1"
  }
 },
 "nbformat": 4,
 "nbformat_minor": 2
}

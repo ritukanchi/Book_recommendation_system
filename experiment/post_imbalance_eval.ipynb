{
 "cells": [
  {
   "cell_type": "code",
   "execution_count": 1,
   "id": "773cf84d",
   "metadata": {},
   "outputs": [
    {
     "name": "stderr",
     "output_type": "stream",
     "text": [
      "c:\\Users\\maheit\\dev\\book\\lib\\site-packages\\tqdm\\auto.py:21: TqdmWarning: IProgress not found. Please update jupyter and ipywidgets. See https://ipywidgets.readthedocs.io/en/stable/user_install.html\n",
      "  from .autonotebook import tqdm as notebook_tqdm\n"
     ]
    },
    {
     "name": "stdout",
     "output_type": "stream",
     "text": [
      "Processed 3359 books\n"
     ]
    }
   ],
   "source": [
    "import json\n",
    "from datasets import Dataset\n",
    "from transformers import AutoTokenizer\n",
    "\n",
    "# Load your dataset\n",
    "with open('hierarchical_books.json', 'r', encoding='utf-8') as f:\n",
    "    books_data = json.load(f)\n",
    "\n",
    "def prepare_dataset(books_data):\n",
    "    \"\"\"Convert your book data into the required format\"\"\"\n",
    "    processed_data = []\n",
    "    \n",
    "    for book in books_data:\n",
    "        # Create input text from available metadata\n",
    "        input_components = []\n",
    "        \n",
    "        # Add title and author\n",
    "        if book.get('title') and book.get('author'):\n",
    "            input_components.append(f\"Title: {book['title']} by {book['author']}\")\n",
    "        \n",
    "        # Add description (main content for classification)\n",
    "        if book.get('description'):\n",
    "            input_components.append(f\"Description: {book['description']}\")\n",
    "        \n",
    "        # Add additional metadata if available\n",
    "        if book.get('pages'):\n",
    "            input_components.append(f\"Pages: {book['pages']}\")\n",
    "        \n",
    "        if book.get('releaseDate'):\n",
    "            input_components.append(f\"Release Date: {book['releaseDate']}\")\n",
    "        \n",
    "        input_text = \" \".join(input_components)\n",
    "        \n",
    "        # Create target text from tags and genre_category\n",
    "        target_components = []\n",
    "        \n",
    "        # Add genre_category if available\n",
    "        if book.get('genre_category'):\n",
    "            target_components.append(book['genre_category'])\n",
    "        \n",
    "        # Add tags (split by comma and clean)\n",
    "        if book.get('tags'):\n",
    "            tags = [tag.strip() for tag in book['tags'].split(',') if tag.strip()]\n",
    "            target_components.extend(tags)\n",
    "        \n",
    "        # Remove duplicates while preserving order\n",
    "        seen = set()\n",
    "        unique_targets = []\n",
    "        for item in target_components:\n",
    "            if item not in seen:\n",
    "                seen.add(item)\n",
    "                unique_targets.append(item)\n",
    "        \n",
    "        target_text = \", \".join(unique_targets)\n",
    "        \n",
    "        processed_data.append({\n",
    "            \"input_text\": input_text,\n",
    "            \"target_text\": target_text,\n",
    "            \"book_id\": book.get('id'),\n",
    "            \"title\": book.get('title')\n",
    "        })\n",
    "    \n",
    "    return processed_data\n",
    "\n",
    "# Process your data\n",
    "processed_books = prepare_dataset(books_data)\n",
    "print(f\"Processed {len(processed_books)} books\")\n"
   ]
  },
  {
   "cell_type": "code",
   "execution_count": null,
   "id": "d8d59354",
   "metadata": {},
   "outputs": [
    {
     "name": "stderr",
     "output_type": "stream",
     "text": [
      "Map: 100%|██████████| 3359/3359 [00:00<00:00, 3921.72 examples/s]"
     ]
    },
    {
     "name": "stdout",
     "output_type": "stream",
     "text": [
      "Training samples: 2687\n",
      "Validation samples: 672\n"
     ]
    },
    {
     "name": "stderr",
     "output_type": "stream",
     "text": [
      "\n"
     ]
    }
   ],
   "source": [
    "tokenizer = AutoTokenizer.from_pretrained(\"KamilAin/bart-base-booksum\")\n",
    "\n",
    "def preprocess_function(examples):\n",
    "    # Tokenize inputs (book metadata + description)\n",
    "    model_inputs = tokenizer(\n",
    "        examples[\"input_text\"], \n",
    "        max_length=1024, \n",
    "        truncation=True, \n",
    "        padding=\"max_length\"\n",
    "    )\n",
    "    \n",
    "    # Tokenize targets (genres/tags)\n",
    "    labels = tokenizer(\n",
    "        examples[\"target_text\"], \n",
    "        max_length=50,  # Increased for multiple tags\n",
    "        truncation=True, \n",
    "        padding=\"max_length\"\n",
    "    )\n",
    "    \n",
    "    model_inputs[\"labels\"] = labels[\"input_ids\"]\n",
    "    return model_inputs\n",
    "\n",
    "# Convert to Dataset and tokenize\n",
    "dataset = Dataset.from_list(processed_books)\n",
    "tokenized_dataset = dataset.map(preprocess_function, batched=True)\n",
    "\n",
    "# Train/validation split\n",
    "train_test = tokenized_dataset.train_test_split(test_size=0.2, seed=42)\n",
    "train_dataset = train_test[\"train\"]\n",
    "eval_dataset = train_test[\"test\"]\n",
    "\n",
    "print(f\"Training samples: {len(train_dataset)}\")\n",
    "print(f\"Validation samples: {len(eval_dataset)}\")\n"
   ]
  },
  {
   "cell_type": "code",
   "execution_count": 5,
   "id": "51592423",
   "metadata": {},
   "outputs": [
    {
     "name": "stderr",
     "output_type": "stream",
     "text": [
      "C:\\Users\\maheit\\AppData\\Local\\Temp\\ipykernel_14624\\2547504805.py:64: FutureWarning: `tokenizer` is deprecated and will be removed in version 5.0.0 for `Seq2SeqTrainer.__init__`. Use `processing_class` instead.\n",
      "  trainer = Seq2SeqTrainer(\n"
     ]
    },
    {
     "name": "stdout",
     "output_type": "stream",
     "text": [
      "Starting training...\n"
     ]
    },
    {
     "data": {
      "text/html": [
       "\n",
       "    <div>\n",
       "      \n",
       "      <progress value='3360' max='3360' style='width:300px; height:20px; vertical-align: middle;'></progress>\n",
       "      [3360/3360 5:38:36, Epoch 5/5]\n",
       "    </div>\n",
       "    <table border=\"1\" class=\"dataframe\">\n",
       "  <thead>\n",
       " <tr style=\"text-align: left;\">\n",
       "      <th>Step</th>\n",
       "      <th>Training Loss</th>\n",
       "      <th>Validation Loss</th>\n",
       "      <th>Exact Match Accuracy</th>\n",
       "    </tr>\n",
       "  </thead>\n",
       "  <tbody>\n",
       "    <tr>\n",
       "      <td>500</td>\n",
       "      <td>0.231800</td>\n",
       "      <td>0.209598</td>\n",
       "      <td>0.020833</td>\n",
       "    </tr>\n",
       "    <tr>\n",
       "      <td>1000</td>\n",
       "      <td>0.175800</td>\n",
       "      <td>0.182013</td>\n",
       "      <td>0.019345</td>\n",
       "    </tr>\n",
       "    <tr>\n",
       "      <td>1500</td>\n",
       "      <td>0.157600</td>\n",
       "      <td>0.173401</td>\n",
       "      <td>0.026786</td>\n",
       "    </tr>\n",
       "    <tr>\n",
       "      <td>2000</td>\n",
       "      <td>0.148800</td>\n",
       "      <td>0.164523</td>\n",
       "      <td>0.028274</td>\n",
       "    </tr>\n",
       "    <tr>\n",
       "      <td>2500</td>\n",
       "      <td>0.125400</td>\n",
       "      <td>0.168612</td>\n",
       "      <td>0.032738</td>\n",
       "    </tr>\n",
       "    <tr>\n",
       "      <td>3000</td>\n",
       "      <td>0.102600</td>\n",
       "      <td>0.172526</td>\n",
       "      <td>0.038690</td>\n",
       "    </tr>\n",
       "  </tbody>\n",
       "</table><p>"
      ],
      "text/plain": [
       "<IPython.core.display.HTML object>"
      ]
     },
     "metadata": {},
     "output_type": "display_data"
    },
    {
     "name": "stderr",
     "output_type": "stream",
     "text": [
      "c:\\Users\\maheit\\dev\\book\\lib\\site-packages\\transformers\\modeling_utils.py:2810: UserWarning: Moving the following attributes in the config to the generation config: {'early_stopping': True, 'num_beams': 4, 'no_repeat_ngram_size': 3, 'forced_bos_token_id': 0}. You are seeing this warning because you've set generation parameters in the model config, as opposed to in the generation config.\n",
      "  warnings.warn(\n",
      "There were missing keys in the checkpoint model loaded: ['model.encoder.embed_tokens.weight', 'model.decoder.embed_tokens.weight', 'lm_head.weight'].\n"
     ]
    },
    {
     "name": "stdout",
     "output_type": "stream",
     "text": [
      "Evaluating model...\n"
     ]
    },
    {
     "data": {
      "text/html": [
       "\n",
       "    <div>\n",
       "      \n",
       "      <progress value='168' max='168' style='width:300px; height:20px; vertical-align: middle;'></progress>\n",
       "      [168/168 08:57]\n",
       "    </div>\n",
       "    "
      ],
      "text/plain": [
       "<IPython.core.display.HTML object>"
      ]
     },
     "metadata": {},
     "output_type": "display_data"
    },
    {
     "name": "stdout",
     "output_type": "stream",
     "text": [
      "Final evaluation results: {'eval_loss': 0.16452261805534363, 'eval_exact_match_accuracy': 0.028273809523809524, 'eval_runtime': 540.4854, 'eval_samples_per_second': 1.243, 'eval_steps_per_second': 0.311, 'epoch': 5.0}\n",
      "Model saved successfully!\n"
     ]
    }
   ],
   "source": [
    "from transformers import (\n",
    "    Seq2SeqTrainingArguments, \n",
    "    Seq2SeqTrainer, \n",
    "    AutoModelForSeq2SeqLM,\n",
    "    AutoTokenizer\n",
    ")\n",
    "import torch\n",
    "import numpy as np\n",
    "\n",
    "# Load model and tokenizer\n",
    "model = AutoModelForSeq2SeqLM.from_pretrained(\"KamilAin/bart-base-booksum\")\n",
    "tokenizer = AutoTokenizer.from_pretrained(\"KamilAin/bart-base-booksum\")\n",
    "\n",
    "# Training arguments\n",
    "training_args = Seq2SeqTrainingArguments(\n",
    "    output_dir=\"./book-genre-classifier\",\n",
    "    evaluation_strategy=\"steps\",\n",
    "    eval_steps=500,\n",
    "    logging_steps=100,\n",
    "    save_steps=1000,\n",
    "    learning_rate=3e-5,\n",
    "    per_device_train_batch_size=4,\n",
    "    per_device_eval_batch_size=4,\n",
    "    num_train_epochs=5,\n",
    "    weight_decay=0.01,\n",
    "    logging_dir=\"./logs\",\n",
    "    save_total_limit=3,\n",
    "    predict_with_generate=True,\n",
    "    load_best_model_at_end=True,\n",
    "    metric_for_best_model=\"eval_loss\",\n",
    "    greater_is_better=False,\n",
    "    warmup_steps=100,\n",
    "    fp16=torch.cuda.is_available(),\n",
    "    generation_max_length=50,\n",
    "    generation_num_beams=4,\n",
    ")\n",
    "\n",
    "def compute_metrics(eval_pred):\n",
    "    predictions, labels = eval_pred\n",
    "    \n",
    "    # Handle nested predictions\n",
    "    if isinstance(predictions, tuple):\n",
    "        predictions = predictions[0]\n",
    "    \n",
    "    # Replace -100 with pad token id\n",
    "    predictions = np.where(predictions != -100, predictions, tokenizer.pad_token_id)\n",
    "    labels = np.where(labels != -100, labels, tokenizer.pad_token_id)\n",
    "    \n",
    "    # Decode\n",
    "    decoded_preds = tokenizer.batch_decode(predictions, skip_special_tokens=True)\n",
    "    decoded_labels = tokenizer.batch_decode(labels, skip_special_tokens=True)\n",
    "    \n",
    "    # Clean\n",
    "    decoded_preds = [pred.strip() for pred in decoded_preds]\n",
    "    decoded_labels = [label.strip() for label in decoded_labels]\n",
    "    \n",
    "    # Metrics\n",
    "    exact_matches = sum(pred == label for pred, label in zip(decoded_preds, decoded_labels))\n",
    "    exact_match_accuracy = exact_matches / len(decoded_preds)\n",
    "    \n",
    "    return {\"exact_match_accuracy\": exact_match_accuracy}\n",
    "\n",
    "# Initialize trainer\n",
    "trainer = Seq2SeqTrainer(\n",
    "    model=model,\n",
    "    args=training_args,\n",
    "    train_dataset=train_dataset,\n",
    "    eval_dataset=eval_dataset,\n",
    "    tokenizer=tokenizer,\n",
    "    compute_metrics=compute_metrics,\n",
    ")\n",
    "\n",
    "# Start training\n",
    "print(\"Starting training...\")\n",
    "trainer.train()\n",
    "\n",
    "# Evaluate\n",
    "print(\"Evaluating model...\")\n",
    "eval_results = trainer.evaluate()\n",
    "print(f\"Final evaluation results: {eval_results}\")\n",
    "\n",
    "# Save model\n",
    "trainer.save_model(\"./finetuned-bart-book-classifier\")\n",
    "tokenizer.save_pretrained(\"./finetuned-bart-book-classifier\")\n",
    "print(\"Model saved successfully!\")\n"
   ]
  },
  {
   "cell_type": "code",
   "execution_count": null,
   "id": "6b7b2d6c",
   "metadata": {},
   "outputs": [],
   "source": [
    "def predict_book_genres(book_description, title=None, author=None, model_path=\"./finetuned-bart-book-classifier\"):\n",
    "    \"\"\"Predict genres for a new book\"\"\"\n",
    "    from transformers import AutoModelForSeq2SeqLM, AutoTokenizer\n",
    "    import torch\n",
    "    \n",
    "    # Load the fine-tuned model\n",
    "    model = AutoModelForSeq2SeqLM.from_pretrained(model_path)\n",
    "    tokenizer = AutoTokenizer.from_pretrained(model_path)\n",
    "    \n",
    "    # Prepare input text\n",
    "    input_components = []\n",
    "    if title and author:\n",
    "        input_components.append(f\"Title: {title} by {author}\")\n",
    "    input_components.append(f\"Description: {book_description}\")\n",
    "    \n",
    "    input_text = \" \".join(input_components)\n",
    "    \n",
    "    # Tokenize\n",
    "    inputs = tokenizer(\n",
    "        input_text, \n",
    "        return_tensors=\"pt\", \n",
    "        truncation=True, \n",
    "        max_length=1024\n",
    "    )\n",
    "    \n",
    "    # Generate\n",
    "    with torch.no_grad():\n",
    "        summary_ids = model.generate(\n",
    "            **inputs, \n",
    "            max_length=50, \n",
    "            num_beams=4,\n",
    "            early_stopping=True,\n",
    "            no_repeat_ngram_size=2\n",
    "        )\n",
    "    \n",
    "    predicted_genres = tokenizer.decode(summary_ids[0], skip_special_tokens=True)\n",
    "    return [genre.strip() for genre in predicted_genres.split(\",\") if genre.strip()]\n",
    "\n",
    "# Example usage after training\n",
    "# test_description = \"A young orphan discovers a magical world beyond her wildest dreams...\"\n",
    "# predicted_genres = predict_book_genres(test_description, title=\"Example Book\", author=\"Example Author\")\n",
    "# print(f\"Predicted genres: {predicted_genres}\")\n"
   ]
  }
 ],
 "metadata": {
  "kernelspec": {
   "display_name": "book",
   "language": "python",
   "name": "python3"
  },
  "language_info": {
   "codemirror_mode": {
    "name": "ipython",
    "version": 3
   },
   "file_extension": ".py",
   "mimetype": "text/x-python",
   "name": "python",
   "nbconvert_exporter": "python",
   "pygments_lexer": "ipython3",
   "version": "3.10.11"
  }
 },
 "nbformat": 4,
 "nbformat_minor": 5
}

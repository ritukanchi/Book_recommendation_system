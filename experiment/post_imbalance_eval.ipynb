{
 "cells": [
  {
   "cell_type": "code",
   "execution_count": 6,
   "id": "773cf84d",
   "metadata": {},
   "outputs": [
    {
     "name": "stdout",
     "output_type": "stream",
     "text": [
      "Processed 3359 books\n"
     ]
    }
   ],
   "source": [
    "import json\n",
    "from datasets import Dataset\n",
    "from transformers import AutoTokenizer\n",
    "\n",
    "# Load your dataset\n",
    "with open('hierarchical_books.json', 'r', encoding='utf-8') as f:\n",
    "    books_data = json.load(f)\n",
    "\n",
    "def prepare_dataset(books_data):\n",
    "    \"\"\"Convert your book data into the required format\"\"\"\n",
    "    processed_data = []\n",
    "    \n",
    "    for book in books_data:\n",
    "        # Create input text from available metadata\n",
    "        input_components = []\n",
    "        \n",
    "        # Add title and author\n",
    "        if book.get('title') and book.get('author'):\n",
    "            input_components.append(f\"Title: {book['title']} by {book['author']}\")\n",
    "        \n",
    "        # Add description (main content for classification)\n",
    "        if book.get('description'):\n",
    "            input_components.append(f\"Description: {book['description']}\")\n",
    "        \n",
    "        # Add additional metadata if available\n",
    "        if book.get('pages'):\n",
    "            input_components.append(f\"Pages: {book['pages']}\")\n",
    "        \n",
    "        if book.get('releaseDate'):\n",
    "            input_components.append(f\"Release Date: {book['releaseDate']}\")\n",
    "        \n",
    "        input_text = \" \".join(input_components)\n",
    "        \n",
    "        # Create target text from tags and genre_category\n",
    "        target_components = []\n",
    "        \n",
    "        # Add genre_category if available\n",
    "        if book.get('genre_category'):\n",
    "            target_components.append(book['genre_category'])\n",
    "        \n",
    "        # Add tags (split by comma and clean)\n",
    "        if book.get('tags'):\n",
    "            tags = [tag.strip() for tag in book['tags'].split(',') if tag.strip()]\n",
    "            target_components.extend(tags)\n",
    "        \n",
    "        # Remove duplicates while preserving order\n",
    "        seen = set()\n",
    "        unique_targets = []\n",
    "        for item in target_components:\n",
    "            if item not in seen:\n",
    "                seen.add(item)\n",
    "                unique_targets.append(item)\n",
    "        \n",
    "        target_text = \", \".join(unique_targets)\n",
    "        \n",
    "        processed_data.append({\n",
    "            \"input_text\": input_text,\n",
    "            \"target_text\": target_text,\n",
    "            \"book_id\": book.get('id'),\n",
    "            \"title\": book.get('title')\n",
    "        })\n",
    "    \n",
    "    return processed_data\n",
    "\n",
    "# Process your data\n",
    "processed_books = prepare_dataset(books_data)\n",
    "print(f\"Processed {len(processed_books)} books\")\n"
   ]
  },
  {
   "cell_type": "code",
   "execution_count": 7,
   "id": "d8d59354",
   "metadata": {},
   "outputs": [
    {
     "name": "stderr",
     "output_type": "stream",
     "text": [
      "Map: 100%|██████████| 3359/3359 [00:01<00:00, 1766.36 examples/s]"
     ]
    },
    {
     "name": "stdout",
     "output_type": "stream",
     "text": [
      "Training samples: 2687\n",
      "Validation samples: 672\n"
     ]
    },
    {
     "name": "stderr",
     "output_type": "stream",
     "text": [
      "\n"
     ]
    }
   ],
   "source": [
    "tokenizer = AutoTokenizer.from_pretrained(\"KamilAin/bart-base-booksum\")\n",
    "\n",
    "def preprocess_function(examples):\n",
    "    # Tokenize inputs (book metadata + description)\n",
    "    model_inputs = tokenizer(\n",
    "        examples[\"input_text\"], \n",
    "        max_length=1024, \n",
    "        truncation=True, \n",
    "        padding=\"max_length\"\n",
    "    )\n",
    "    \n",
    "    # Tokenize targets (genres/tags)\n",
    "    labels = tokenizer(\n",
    "        examples[\"target_text\"], \n",
    "        max_length=50,  # Increased for multiple tags\n",
    "        truncation=True, \n",
    "        padding=\"max_length\"\n",
    "    )\n",
    "    \n",
    "    model_inputs[\"labels\"] = labels[\"input_ids\"]\n",
    "    return model_inputs\n",
    "\n",
    "# Convert to Dataset and tokenize\n",
    "dataset = Dataset.from_list(processed_books)\n",
    "tokenized_dataset = dataset.map(preprocess_function, batched=True)\n",
    "\n",
    "# Train/validation split\n",
    "train_test = tokenized_dataset.train_test_split(test_size=0.2, seed=42)\n",
    "train_dataset = train_test[\"train\"]\n",
    "eval_dataset = train_test[\"test\"]\n",
    "\n",
    "print(f\"Training samples: {len(train_dataset)}\")\n",
    "print(f\"Validation samples: {len(eval_dataset)}\")\n"
   ]
  },
  {
   "cell_type": "code",
   "execution_count": null,
   "id": "51592423",
   "metadata": {},
   "outputs": [],
   "source": [
    "from transformers import TrainingArguments, Trainer, AutoModelForSeq2SeqLM\n",
    "import torch\n",
    "\n",
    "model = AutoModelForSeq2SeqLM.from_pretrained(\"KamilAin/bart-base-booksum\")\n",
    "\n",
    "# Optimized training arguments for your dataset size\n",
    "training_args = TrainingArguments(\n",
    "    output_dir=\"./book-genre-classifier\",\n",
    "    evaluation_strategy=\"steps\",\n",
    "    eval_steps=500,\n",
    "    logging_steps=100,\n",
    "    save_steps=1000,\n",
    "    learning_rate=3e-5,  # Slightly higher for smaller dataset\n",
    "    per_device_train_batch_size=4,  # Adjust based on GPU memory\n",
    "    per_device_eval_batch_size=4,\n",
    "    num_train_epochs=5,  # More epochs for smaller dataset\n",
    "    weight_decay=0.01,\n",
    "    logging_dir=\"./logs\",\n",
    "    save_total_limit=3,\n",
    "    predict_with_generate=True,\n",
    "    load_best_model_at_end=True,\n",
    "    metric_for_best_model=\"eval_loss\",\n",
    "    greater_is_better=False,\n",
    "    warmup_steps=100,\n",
    "    fp16=torch.cuda.is_available(),  # Use mixed precision if GPU available\n",
    ")\n"
   ]
  }
 ],
 "metadata": {
  "kernelspec": {
   "display_name": "book",
   "language": "python",
   "name": "python3"
  },
  "language_info": {
   "codemirror_mode": {
    "name": "ipython",
    "version": 3
   },
   "file_extension": ".py",
   "mimetype": "text/x-python",
   "name": "python",
   "nbconvert_exporter": "python",
   "pygments_lexer": "ipython3",
   "version": "3.13.2"
  }
 },
 "nbformat": 4,
 "nbformat_minor": 5
}

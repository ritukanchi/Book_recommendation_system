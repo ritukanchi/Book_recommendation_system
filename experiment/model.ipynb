{
 "cells": [
  {
   "cell_type": "code",
   "execution_count": null,
   "metadata": {},
   "outputs": [],
   "source": [
    "from transformers import AutoTokenizer\n"
   ]
  },
  {
   "cell_type": "code",
   "execution_count": null,
   "metadata": {},
   "outputs": [],
   "source": [
    "# Load your dataset\n",
    "import json\n",
    "\n",
    "# Replace 'your_dataset.json' with the path to your dataset file\n",
    "with open(\"your_dataset.json\", \"r\") as f:\n",
    "    dataset = json.load(f)\n",
    "\n",
    "# Function to find the maximum length of the 'description' field\n",
    "def find_max_description_length(dataset):\n",
    "    max_length = 0\n",
    "    for entry in dataset:\n",
    "        description = entry.get(\"description\", \"\")\n",
    "        description_length = len(description)\n",
    "        if description_length > max_length:\n",
    "            max_length = description_length\n",
    "    return max_length\n",
    "\n",
    "# Calculate the maximum description length\n",
    "max_length = find_max_description_length(dataset)\n",
    "print(f\"The maximum description length in the dataset is: {max_length} characters\")"
   ]
  },
  {
   "cell_type": "code",
   "execution_count": null,
   "metadata": {},
   "outputs": [],
   "source": [
    "\n",
    "tokenizer = AutoTokenizer.from_pretrained(\"KamilAin/bart-base-booksum\")\n",
    "\n",
    "# Tokenize the dataset\n",
    "def preprocess_data(examples):\n",
    "    inputs = [desc for desc in examples[\"description\"]]\n",
    "    targets = [\", \".join(tropes) for tropes in examples[\"tropes\"]]\n",
    "    \n",
    "    model_inputs = tokenizer(inputs, max_length=512, truncation=True, padding=\"max_length\")\n",
    "    labels = tokenizer(targets, max_length=128, truncation=True, padding=\"max_length\")\n",
    "    \n",
    "    model_inputs[\"labels\"] = labels[\"input_ids\"]\n",
    "    return model_inputs\n",
    "\n",
    "# Apply preprocessing to your dataset\n",
    "tokenized_dataset = your_dataset.map(preprocess_data, batched=True)"
   ]
  }
 ],
 "metadata": {
  "kernelspec": {
   "display_name": "book",
   "language": "python",
   "name": "python3"
  },
  "language_info": {
   "name": "python",
   "version": "3.13.1"
  }
 },
 "nbformat": 4,
 "nbformat_minor": 2
}

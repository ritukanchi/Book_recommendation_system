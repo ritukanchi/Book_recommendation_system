{
 "cells": [
  {
   "cell_type": "code",
   "execution_count": 85,
   "metadata": {},
   "outputs": [],
   "source": [
    "import numpy as np \n",
    "import pandas as pd\n",
    "import matplotlib.pyplot as plt\n",
    "from sklearn.preprocessing import StandardScaler\n",
    "from sklearn.model_selection import train_test_split"
   ]
  },
  {
   "cell_type": "code",
   "execution_count": 86,
   "metadata": {},
   "outputs": [],
   "source": [
    "books = pd.read_csv('trope_books.csv')"
   ]
  },
  {
   "cell_type": "code",
   "execution_count": 87,
   "metadata": {},
   "outputs": [
    {
     "data": {
      "text/html": [
       "<div>\n",
       "<style scoped>\n",
       "    .dataframe tbody tr th:only-of-type {\n",
       "        vertical-align: middle;\n",
       "    }\n",
       "\n",
       "    .dataframe tbody tr th {\n",
       "        vertical-align: top;\n",
       "    }\n",
       "\n",
       "    .dataframe thead th {\n",
       "        text-align: right;\n",
       "    }\n",
       "</style>\n",
       "<table border=\"1\" class=\"dataframe\">\n",
       "  <thead>\n",
       "    <tr style=\"text-align: right;\">\n",
       "      <th></th>\n",
       "      <th>Title</th>\n",
       "      <th>Author</th>\n",
       "      <th>Score</th>\n",
       "      <th>Ratings</th>\n",
       "      <th>Shelvings</th>\n",
       "      <th>Genre</th>\n",
       "      <th>Trope1</th>\n",
       "      <th>Trope2</th>\n",
       "      <th>Trope3</th>\n",
       "      <th>Year_Published</th>\n",
       "      <th>Description</th>\n",
       "      <th>image</th>\n",
       "    </tr>\n",
       "  </thead>\n",
       "  <tbody>\n",
       "    <tr>\n",
       "      <th>0</th>\n",
       "      <td>One Last Breath</td>\n",
       "      <td>Ginny Myers Sain</td>\n",
       "      <td>3.90</td>\n",
       "      <td>531</td>\n",
       "      <td>12071</td>\n",
       "      <td>young adult, thriller/mystery</td>\n",
       "      <td>paranormal</td>\n",
       "      <td>unsolved murder</td>\n",
       "      <td>history returns</td>\n",
       "      <td>2024</td>\n",
       "      <td>The New York Times bestselling author of Dark ...</td>\n",
       "      <td>NaN</td>\n",
       "    </tr>\n",
       "    <tr>\n",
       "      <th>1</th>\n",
       "      <td>Blood: The Science, Medicine, and Mythology of...</td>\n",
       "      <td>Dr. Jen Gunter</td>\n",
       "      <td>4.25</td>\n",
       "      <td>642</td>\n",
       "      <td>23428</td>\n",
       "      <td>self-help/non fiction</td>\n",
       "      <td>awareness</td>\n",
       "      <td>/</td>\n",
       "      <td>/</td>\n",
       "      <td>2024</td>\n",
       "      <td>Dr. Jen Gunter fights myths and fear-mongering...</td>\n",
       "      <td>NaN</td>\n",
       "    </tr>\n",
       "    <tr>\n",
       "      <th>2</th>\n",
       "      <td>Don't Forget Me</td>\n",
       "      <td>Rea Frey</td>\n",
       "      <td>4.02</td>\n",
       "      <td>8135</td>\n",
       "      <td>28524</td>\n",
       "      <td>thriller/mystery</td>\n",
       "      <td>Missing person</td>\n",
       "      <td>unsolved murder</td>\n",
       "      <td>/</td>\n",
       "      <td>2024</td>\n",
       "      <td>When a body is presumed to be her missing husb...</td>\n",
       "      <td>NaN</td>\n",
       "    </tr>\n",
       "    <tr>\n",
       "      <th>3</th>\n",
       "      <td>Expiration Dates</td>\n",
       "      <td>Rebecca Serle</td>\n",
       "      <td>3.75</td>\n",
       "      <td>20293</td>\n",
       "      <td>95494</td>\n",
       "      <td>Romance</td>\n",
       "      <td>magical realism</td>\n",
       "      <td>/</td>\n",
       "      <td>/</td>\n",
       "      <td>2024</td>\n",
       "      <td>Being single is like playing the lottery. Ther...</td>\n",
       "      <td>https://images-na.ssl-images-amazon.com/images...</td>\n",
       "    </tr>\n",
       "    <tr>\n",
       "      <th>4</th>\n",
       "      <td>One Last Word</td>\n",
       "      <td>Suzanne Park</td>\n",
       "      <td>3.51</td>\n",
       "      <td>277</td>\n",
       "      <td>15218</td>\n",
       "      <td>Romance</td>\n",
       "      <td>history returns</td>\n",
       "      <td>/</td>\n",
       "      <td>/</td>\n",
       "      <td>2024</td>\n",
       "      <td>Acclaimed author Suzanne Park returns with a c...</td>\n",
       "      <td>https://images-na.ssl-images-amazon.com/images...</td>\n",
       "    </tr>\n",
       "  </tbody>\n",
       "</table>\n",
       "</div>"
      ],
      "text/plain": [
       "                                               Title            Author  Score  \\\n",
       "0                                    One Last Breath  Ginny Myers Sain   3.90   \n",
       "1  Blood: The Science, Medicine, and Mythology of...    Dr. Jen Gunter   4.25   \n",
       "2                                    Don't Forget Me          Rea Frey   4.02   \n",
       "3                                   Expiration Dates     Rebecca Serle   3.75   \n",
       "4                                      One Last Word      Suzanne Park   3.51   \n",
       "\n",
       "   Ratings  Shelvings                          Genre           Trope1  \\\n",
       "0      531      12071  young adult, thriller/mystery       paranormal   \n",
       "1      642      23428          self-help/non fiction        awareness   \n",
       "2     8135      28524               thriller/mystery   Missing person   \n",
       "3    20293      95494                        Romance  magical realism   \n",
       "4      277      15218                        Romance  history returns   \n",
       "\n",
       "            Trope2           Trope3  Year_Published  \\\n",
       "0  unsolved murder  history returns            2024   \n",
       "1                /                /            2024   \n",
       "2  unsolved murder                /            2024   \n",
       "3                /                /            2024   \n",
       "4                /                /            2024   \n",
       "\n",
       "                                         Description  \\\n",
       "0  The New York Times bestselling author of Dark ...   \n",
       "1  Dr. Jen Gunter fights myths and fear-mongering...   \n",
       "2  When a body is presumed to be her missing husb...   \n",
       "3  Being single is like playing the lottery. Ther...   \n",
       "4  Acclaimed author Suzanne Park returns with a c...   \n",
       "\n",
       "                                               image  \n",
       "0                                                NaN  \n",
       "1                                                NaN  \n",
       "2                                                NaN  \n",
       "3  https://images-na.ssl-images-amazon.com/images...  \n",
       "4  https://images-na.ssl-images-amazon.com/images...  "
      ]
     },
     "execution_count": 87,
     "metadata": {},
     "output_type": "execute_result"
    }
   ],
   "source": [
    "books.head()\n"
   ]
  },
  {
   "cell_type": "code",
   "execution_count": 88,
   "metadata": {},
   "outputs": [
    {
     "name": "stdout",
     "output_type": "stream",
     "text": [
      "(201, 12)\n"
     ]
    }
   ],
   "source": [
    "print(books.shape)\n"
   ]
  },
  {
   "cell_type": "code",
   "execution_count": 89,
   "metadata": {},
   "outputs": [
    {
     "data": {
      "text/plain": [
       "Title             0\n",
       "Author            0\n",
       "Score             0\n",
       "Ratings           0\n",
       "Shelvings         0\n",
       "Genre             0\n",
       "Trope1            0\n",
       "Trope2            0\n",
       "Trope3            0\n",
       "Year_Published    0\n",
       "Description       0\n",
       "image             3\n",
       "dtype: int64"
      ]
     },
     "execution_count": 89,
     "metadata": {},
     "output_type": "execute_result"
    }
   ],
   "source": [
    "books.isnull().sum()"
   ]
  },
  {
   "cell_type": "code",
   "execution_count": 90,
   "metadata": {},
   "outputs": [],
   "source": [
    "df = books.drop(columns=['image'])\n"
   ]
  },
  {
   "cell_type": "code",
   "execution_count": 91,
   "metadata": {},
   "outputs": [],
   "source": [
    "df.to_csv('modified_file.csv', index=False)"
   ]
  },
  {
   "cell_type": "code",
   "execution_count": 92,
   "metadata": {},
   "outputs": [
    {
     "data": {
      "text/html": [
       "<div>\n",
       "<style scoped>\n",
       "    .dataframe tbody tr th:only-of-type {\n",
       "        vertical-align: middle;\n",
       "    }\n",
       "\n",
       "    .dataframe tbody tr th {\n",
       "        vertical-align: top;\n",
       "    }\n",
       "\n",
       "    .dataframe thead th {\n",
       "        text-align: right;\n",
       "    }\n",
       "</style>\n",
       "<table border=\"1\" class=\"dataframe\">\n",
       "  <thead>\n",
       "    <tr style=\"text-align: right;\">\n",
       "      <th></th>\n",
       "      <th>Title</th>\n",
       "      <th>Author</th>\n",
       "      <th>Score</th>\n",
       "      <th>Ratings</th>\n",
       "      <th>Shelvings</th>\n",
       "      <th>Genre</th>\n",
       "      <th>Trope1</th>\n",
       "      <th>Trope2</th>\n",
       "      <th>Trope3</th>\n",
       "      <th>Year_Published</th>\n",
       "      <th>Description</th>\n",
       "    </tr>\n",
       "  </thead>\n",
       "  <tbody>\n",
       "    <tr>\n",
       "      <th>0</th>\n",
       "      <td>One Last Breath</td>\n",
       "      <td>Ginny Myers Sain</td>\n",
       "      <td>3.90</td>\n",
       "      <td>531</td>\n",
       "      <td>12071</td>\n",
       "      <td>young adult, thriller/mystery</td>\n",
       "      <td>paranormal</td>\n",
       "      <td>unsolved murder</td>\n",
       "      <td>history returns</td>\n",
       "      <td>2024</td>\n",
       "      <td>The New York Times bestselling author of Dark ...</td>\n",
       "    </tr>\n",
       "    <tr>\n",
       "      <th>1</th>\n",
       "      <td>Blood: The Science, Medicine, and Mythology of...</td>\n",
       "      <td>Dr. Jen Gunter</td>\n",
       "      <td>4.25</td>\n",
       "      <td>642</td>\n",
       "      <td>23428</td>\n",
       "      <td>self-help/non fiction</td>\n",
       "      <td>awareness</td>\n",
       "      <td>/</td>\n",
       "      <td>/</td>\n",
       "      <td>2024</td>\n",
       "      <td>Dr. Jen Gunter fights myths and fear-mongering...</td>\n",
       "    </tr>\n",
       "    <tr>\n",
       "      <th>2</th>\n",
       "      <td>Don't Forget Me</td>\n",
       "      <td>Rea Frey</td>\n",
       "      <td>4.02</td>\n",
       "      <td>8135</td>\n",
       "      <td>28524</td>\n",
       "      <td>thriller/mystery</td>\n",
       "      <td>Missing person</td>\n",
       "      <td>unsolved murder</td>\n",
       "      <td>/</td>\n",
       "      <td>2024</td>\n",
       "      <td>When a body is presumed to be her missing husb...</td>\n",
       "    </tr>\n",
       "    <tr>\n",
       "      <th>3</th>\n",
       "      <td>Expiration Dates</td>\n",
       "      <td>Rebecca Serle</td>\n",
       "      <td>3.75</td>\n",
       "      <td>20293</td>\n",
       "      <td>95494</td>\n",
       "      <td>Romance</td>\n",
       "      <td>magical realism</td>\n",
       "      <td>/</td>\n",
       "      <td>/</td>\n",
       "      <td>2024</td>\n",
       "      <td>Being single is like playing the lottery. Ther...</td>\n",
       "    </tr>\n",
       "    <tr>\n",
       "      <th>4</th>\n",
       "      <td>One Last Word</td>\n",
       "      <td>Suzanne Park</td>\n",
       "      <td>3.51</td>\n",
       "      <td>277</td>\n",
       "      <td>15218</td>\n",
       "      <td>Romance</td>\n",
       "      <td>history returns</td>\n",
       "      <td>/</td>\n",
       "      <td>/</td>\n",
       "      <td>2024</td>\n",
       "      <td>Acclaimed author Suzanne Park returns with a c...</td>\n",
       "    </tr>\n",
       "  </tbody>\n",
       "</table>\n",
       "</div>"
      ],
      "text/plain": [
       "                                               Title            Author  Score  \\\n",
       "0                                    One Last Breath  Ginny Myers Sain   3.90   \n",
       "1  Blood: The Science, Medicine, and Mythology of...    Dr. Jen Gunter   4.25   \n",
       "2                                    Don't Forget Me          Rea Frey   4.02   \n",
       "3                                   Expiration Dates     Rebecca Serle   3.75   \n",
       "4                                      One Last Word      Suzanne Park   3.51   \n",
       "\n",
       "   Ratings  Shelvings                          Genre           Trope1  \\\n",
       "0      531      12071  young adult, thriller/mystery       paranormal   \n",
       "1      642      23428          self-help/non fiction        awareness   \n",
       "2     8135      28524               thriller/mystery   Missing person   \n",
       "3    20293      95494                        Romance  magical realism   \n",
       "4      277      15218                        Romance  history returns   \n",
       "\n",
       "            Trope2           Trope3  Year_Published  \\\n",
       "0  unsolved murder  history returns            2024   \n",
       "1                /                /            2024   \n",
       "2  unsolved murder                /            2024   \n",
       "3                /                /            2024   \n",
       "4                /                /            2024   \n",
       "\n",
       "                                         Description  \n",
       "0  The New York Times bestselling author of Dark ...  \n",
       "1  Dr. Jen Gunter fights myths and fear-mongering...  \n",
       "2  When a body is presumed to be her missing husb...  \n",
       "3  Being single is like playing the lottery. Ther...  \n",
       "4  Acclaimed author Suzanne Park returns with a c...  "
      ]
     },
     "execution_count": 92,
     "metadata": {},
     "output_type": "execute_result"
    }
   ],
   "source": [
    "df.head()"
   ]
  },
  {
   "cell_type": "code",
   "execution_count": 93,
   "metadata": {},
   "outputs": [
    {
     "data": {
      "text/plain": [
       "np.int64(0)"
      ]
     },
     "execution_count": 93,
     "metadata": {},
     "output_type": "execute_result"
    }
   ],
   "source": [
    "books.duplicated().sum()"
   ]
  },
  {
   "cell_type": "code",
   "execution_count": 94,
   "metadata": {},
   "outputs": [
    {
     "name": "stdout",
     "output_type": "stream",
     "text": [
      "                                               Title            Author  Score  \\\n",
      "0                                    One Last Breath  Ginny Myers Sain   3.90   \n",
      "1  Blood: The Science, Medicine, and Mythology of...    Dr. Jen Gunter   4.25   \n",
      "2                                    Don't Forget Me          Rea Frey   4.02   \n",
      "3                                   Expiration Dates     Rebecca Serle   3.75   \n",
      "4                                      One Last Word      Suzanne Park   3.51   \n",
      "\n",
      "   Ratings  Shelvings                          Genre           Trope1  \\\n",
      "0      531      12071  young adult, thriller/mystery       paranormal   \n",
      "1      642      23428          self-help/non fiction        awareness   \n",
      "2     8135      28524               thriller/mystery   Missing person   \n",
      "3    20293      95494                        Romance  magical realism   \n",
      "4      277      15218                        Romance  history returns   \n",
      "\n",
      "            Trope2           Trope3  Year_Published  \\\n",
      "0  unsolved murder  history returns            2024   \n",
      "1                /                /            2024   \n",
      "2  unsolved murder                /            2024   \n",
      "3                /                /            2024   \n",
      "4                /                /            2024   \n",
      "\n",
      "                                         Description  \n",
      "0  The New York Times bestselling author of Dark ...  \n",
      "1  Dr. Jen Gunter fights myths and fear-mongering...  \n",
      "2  When a body is presumed to be her missing husb...  \n",
      "3  Being single is like playing the lottery. Ther...  \n",
      "4  Acclaimed author Suzanne Park returns with a c...  \n"
     ]
    }
   ],
   "source": [
    "print(df.head())"
   ]
  },
  {
   "cell_type": "code",
   "execution_count": 95,
   "metadata": {},
   "outputs": [
    {
     "data": {
      "image/png": "[encoded data removed]",
      "text/plain": [
       "<Figure size 640x480 with 1 Axes>"
      ]
     },
     "metadata": {},
     "output_type": "display_data"
    },
    {
     "data": {
      "image/png": "[encoded data removed]",
      "text/plain": [
       "<Figure size 640x480 with 1 Axes>"
      ]
     },
     "metadata": {},
     "output_type": "display_data"
    },
    {
     "data": {
      "image/png": "[encoded data removed]",
      "text/plain": [
       "<Figure size 640x480 with 1 Axes>"
      ]
     },
     "metadata": {},
     "output_type": "display_data"
    }
   ],
   "source": [
    "df['Shelvings'].plot(kind='box')\n",
    "plt.show()\n",
    "df['Ratings'].plot(kind='line')\n",
    "plt.show()\n",
    "df['Score'].plot(kind='box')\n",
    "plt.show()"
   ]
  },
  {
   "cell_type": "code",
   "execution_count": 96,
   "metadata": {},
   "outputs": [
    {
     "data": {
      "text/html": [
       "<div>\n",
       "<style scoped>\n",
       "    .dataframe tbody tr th:only-of-type {\n",
       "        vertical-align: middle;\n",
       "    }\n",
       "\n",
       "    .dataframe tbody tr th {\n",
       "        vertical-align: top;\n",
       "    }\n",
       "\n",
       "    .dataframe thead th {\n",
       "        text-align: right;\n",
       "    }\n",
       "</style>\n",
       "<table border=\"1\" class=\"dataframe\">\n",
       "  <thead>\n",
       "    <tr style=\"text-align: right;\">\n",
       "      <th></th>\n",
       "      <th>Score</th>\n",
       "      <th>Ratings</th>\n",
       "      <th>Shelvings</th>\n",
       "      <th>Year_Published</th>\n",
       "    </tr>\n",
       "  </thead>\n",
       "  <tbody>\n",
       "    <tr>\n",
       "      <th>count</th>\n",
       "      <td>201.000000</td>\n",
       "      <td>201.000000</td>\n",
       "      <td>201.000000</td>\n",
       "      <td>201.0</td>\n",
       "    </tr>\n",
       "    <tr>\n",
       "      <th>mean</th>\n",
       "      <td>3.948458</td>\n",
       "      <td>8790.557214</td>\n",
       "      <td>36888.039801</td>\n",
       "      <td>2024.0</td>\n",
       "    </tr>\n",
       "    <tr>\n",
       "      <th>std</th>\n",
       "      <td>0.360819</td>\n",
       "      <td>30329.212535</td>\n",
       "      <td>65907.261480</td>\n",
       "      <td>0.0</td>\n",
       "    </tr>\n",
       "    <tr>\n",
       "      <th>min</th>\n",
       "      <td>2.690000</td>\n",
       "      <td>32.000000</td>\n",
       "      <td>9044.000000</td>\n",
       "      <td>2024.0</td>\n",
       "    </tr>\n",
       "    <tr>\n",
       "      <th>25%</th>\n",
       "      <td>3.750000</td>\n",
       "      <td>495.000000</td>\n",
       "      <td>13601.000000</td>\n",
       "      <td>2024.0</td>\n",
       "    </tr>\n",
       "    <tr>\n",
       "      <th>50%</th>\n",
       "      <td>4.000000</td>\n",
       "      <td>1592.000000</td>\n",
       "      <td>18024.000000</td>\n",
       "      <td>2024.0</td>\n",
       "    </tr>\n",
       "    <tr>\n",
       "      <th>75%</th>\n",
       "      <td>4.190000</td>\n",
       "      <td>5570.000000</td>\n",
       "      <td>34396.000000</td>\n",
       "      <td>2024.0</td>\n",
       "    </tr>\n",
       "    <tr>\n",
       "      <th>max</th>\n",
       "      <td>4.610000</td>\n",
       "      <td>252162.000000</td>\n",
       "      <td>503603.000000</td>\n",
       "      <td>2024.0</td>\n",
       "    </tr>\n",
       "  </tbody>\n",
       "</table>\n",
       "</div>"
      ],
      "text/plain": [
       "            Score        Ratings      Shelvings  Year_Published\n",
       "count  201.000000     201.000000     201.000000           201.0\n",
       "mean     3.948458    8790.557214   36888.039801          2024.0\n",
       "std      0.360819   30329.212535   65907.261480             0.0\n",
       "min      2.690000      32.000000    9044.000000          2024.0\n",
       "25%      3.750000     495.000000   13601.000000          2024.0\n",
       "50%      4.000000    1592.000000   18024.000000          2024.0\n",
       "75%      4.190000    5570.000000   34396.000000          2024.0\n",
       "max      4.610000  252162.000000  503603.000000          2024.0"
      ]
     },
     "execution_count": 96,
     "metadata": {},
     "output_type": "execute_result"
    }
   ],
   "source": [
    "df.describe()"
   ]
  },
  {
   "cell_type": "code",
   "execution_count": 97,
   "metadata": {},
   "outputs": [
    {
     "name": "stdout",
     "output_type": "stream",
     "text": [
      "Index(['Title', 'Author', 'Score', 'Ratings', 'Shelvings', 'Genre', 'Trope1',\n",
      "       'Trope2', 'Trope3', 'Year_Published', 'Description'],\n",
      "      dtype='object')\n"
     ]
    }
   ],
   "source": [
    "print(df.columns)"
   ]
  },
  {
   "cell_type": "code",
   "execution_count": 98,
   "metadata": {},
   "outputs": [],
   "source": [
    "scaler = StandardScaler()\n",
    "df[['Score','Rating','Shelvings']] = scaler.fit_transform(df[['Score', 'Ratings', 'Shelvings']])"
   ]
  },
  {
   "cell_type": "code",
   "execution_count": null,
   "metadata": {},
   "outputs": [],
   "source": []
  }
 ],
 "metadata": {
  "kernelspec": {
   "display_name": "texts",
   "language": "python",
   "name": "python3"
  },
  "language_info": {
   "codemirror_mode": {
    "name": "ipython",
    "version": 3
   },
   "file_extension": ".py",
   "mimetype": "text/x-python",
   "name": "python",
   "nbconvert_exporter": "python",
   "pygments_lexer": "ipython3",
   "version": "3.11.9"
  }
 },
 "nbformat": 4,
 "nbformat_minor": 2
}
